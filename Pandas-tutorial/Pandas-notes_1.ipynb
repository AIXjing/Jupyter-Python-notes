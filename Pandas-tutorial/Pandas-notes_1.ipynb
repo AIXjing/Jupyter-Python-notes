{
 "cells": [
  {
   "cell_type": "markdown",
   "id": "e6574e3e",
   "metadata": {},
   "source": [
    "# 1 Install\n",
    "\n",
    "`pip install pandas` in terminal\n",
    "\n",
    "# 2 Import library"
   ]
  },
  {
   "cell_type": "markdown",
   "id": "c333ca09",
   "metadata": {},
   "source": [
    "`import pandas as pd`\n",
    "\n",
    "Import csv file `df=pd.read_csv('path/file.csv')`\n",
    "\n",
    "return as a **dataframe**: rows and columns of data\n",
    "\n",
    "**Several ways to glance at your dataframe**\n",
    "\n",
    "`df.shape`\n",
    "\n",
    "`df.info()` a method, that's why we need a parenthesis\n",
    "\n",
    "*object usually means strings*\n",
    "\n",
    "`df.head()` `df.tail()`"
   ]
  },
  {
   "cell_type": "markdown",
   "id": "74b5999e",
   "metadata": {},
   "source": [
    "Pandas only show 20 columns as default, but if you want to change the setting.\n",
    "\n",
    "To change the number of displayed columns: `pd.set_option('display.max_columns',85)`\n",
    "\n",
    "To change the number of displayed rows: `pd.set_option('display.max_rows',85)`"
   ]
  },
  {
   "cell_type": "markdown",
   "id": "c9a6ea05",
   "metadata": {},
   "source": [
    "# 3 Dataframe in Python (without pandas)\n",
    "\n",
    "In Python, we can create a dataframe directly by creating a dictionary of lists. \n",
    "\n",
    "Key is the column, value is the conetent in the columns, the corresponding list."
   ]
  },
  {
   "cell_type": "code",
   "execution_count": 58,
   "id": "243bf2ed",
   "metadata": {},
   "outputs": [],
   "source": [
    "import pandas as pd\n",
    "\n",
    "people = {\n",
    "    'first':['Jane', 'John', 'Jing','Amy', 'John'],\n",
    "    'last':['Doe', 'Glassman', 'Murfey','Anderson', 'Doe'],\n",
    "    'email':['janedoe@gmail.com', 'glassman@gmail.com', 'murfey@gmail.com','amy@gmail.com','johndoe@gmail.com']\n",
    "}"
   ]
  },
  {
   "cell_type": "code",
   "execution_count": 2,
   "id": "048a177c",
   "metadata": {},
   "outputs": [
    {
     "data": {
      "text/plain": [
       "['Jane', 'John', 'Jing', 'Amy', 'John']"
      ]
     },
     "execution_count": 2,
     "metadata": {},
     "output_type": "execute_result"
    }
   ],
   "source": [
    "# check the values in the first key\n",
    "people['first']\n",
    "\n",
    "#return a list"
   ]
  },
  {
   "cell_type": "code",
   "execution_count": 59,
   "id": "23bcea78",
   "metadata": {},
   "outputs": [
    {
     "data": {
      "text/html": [
       "<div>\n",
       "<style scoped>\n",
       "    .dataframe tbody tr th:only-of-type {\n",
       "        vertical-align: middle;\n",
       "    }\n",
       "\n",
       "    .dataframe tbody tr th {\n",
       "        vertical-align: top;\n",
       "    }\n",
       "\n",
       "    .dataframe thead th {\n",
       "        text-align: right;\n",
       "    }\n",
       "</style>\n",
       "<table border=\"1\" class=\"dataframe\">\n",
       "  <thead>\n",
       "    <tr style=\"text-align: right;\">\n",
       "      <th></th>\n",
       "      <th>first</th>\n",
       "      <th>last</th>\n",
       "      <th>email</th>\n",
       "    </tr>\n",
       "  </thead>\n",
       "  <tbody>\n",
       "    <tr>\n",
       "      <th>0</th>\n",
       "      <td>Jane</td>\n",
       "      <td>Doe</td>\n",
       "      <td>janedoe@gmail.com</td>\n",
       "    </tr>\n",
       "    <tr>\n",
       "      <th>1</th>\n",
       "      <td>John</td>\n",
       "      <td>Glassman</td>\n",
       "      <td>glassman@gmail.com</td>\n",
       "    </tr>\n",
       "    <tr>\n",
       "      <th>2</th>\n",
       "      <td>Jing</td>\n",
       "      <td>Murfey</td>\n",
       "      <td>murfey@gmail.com</td>\n",
       "    </tr>\n",
       "    <tr>\n",
       "      <th>3</th>\n",
       "      <td>Amy</td>\n",
       "      <td>Anderson</td>\n",
       "      <td>amy@gmail.com</td>\n",
       "    </tr>\n",
       "    <tr>\n",
       "      <th>4</th>\n",
       "      <td>John</td>\n",
       "      <td>Doe</td>\n",
       "      <td>johndoe@gmail.com</td>\n",
       "    </tr>\n",
       "  </tbody>\n",
       "</table>\n",
       "</div>"
      ],
      "text/plain": [
       "  first      last               email\n",
       "0  Jane       Doe   janedoe@gmail.com\n",
       "1  John  Glassman  glassman@gmail.com\n",
       "2  Jing    Murfey    murfey@gmail.com\n",
       "3   Amy  Anderson       amy@gmail.com\n",
       "4  John       Doe   johndoe@gmail.com"
      ]
     },
     "execution_count": 59,
     "metadata": {},
     "output_type": "execute_result"
    }
   ],
   "source": [
    "df_people=pd.DataFrame(people)\n",
    "df_people #return a dataframe"
   ]
  },
  {
   "cell_type": "markdown",
   "id": "96e8e985",
   "metadata": {},
   "source": [
    "# 4 The way to check up columns in a dataframe\n",
    "\n",
    "## 4.1 Check up one column"
   ]
  },
  {
   "cell_type": "code",
   "execution_count": null,
   "id": "e0a72c35",
   "metadata": {},
   "outputs": [],
   "source": [
    "# method 1\n",
    "df_people['email']"
   ]
  },
  {
   "cell_type": "code",
   "execution_count": null,
   "id": "955f4bbe",
   "metadata": {},
   "outputs": [],
   "source": [
    "type(df_people['email'])"
   ]
  },
  {
   "cell_type": "markdown",
   "id": "a7798695",
   "metadata": {},
   "source": [
    "return a series instead of a list: a rows of data, 1D dimension of data\n",
    "\n",
    "Dataframe is actually a container, containing multiple series object."
   ]
  },
  {
   "cell_type": "code",
   "execution_count": null,
   "id": "b193726d",
   "metadata": {},
   "outputs": [],
   "source": [
    "#method 2, but not recommended.\n",
    "df_people.email"
   ]
  },
  {
   "cell_type": "markdown",
   "id": "e5a27b41",
   "metadata": {},
   "source": [
    "## 4.2 Check up multiple columns: different ways\n",
    "\n",
    "* method 1: `df_people[['first','email']]`\n",
    "\n",
    "* method 2: `df.iloc[0]` - searching by *integer location*, passing an index(0) of row\n",
    "\n",
    "* method 3: `df.loc[]` - searching by the *label*\n",
    "\n",
    "* passing multiple rows - passing a list of index: `df.iloc[[0,1]]` or `df.loc[0:2,'first':'email']`"
   ]
  },
  {
   "cell_type": "code",
   "execution_count": null,
   "id": "e5966686",
   "metadata": {},
   "outputs": [],
   "source": [
    "df_people.iloc[[0,1]]"
   ]
  },
  {
   "cell_type": "code",
   "execution_count": null,
   "id": "0c3ae73b",
   "metadata": {},
   "outputs": [],
   "source": [
    "#select the sepecific column\n",
    "df_people.iloc[[0,1],1]"
   ]
  },
  {
   "cell_type": "code",
   "execution_count": null,
   "id": "74ec7c8f",
   "metadata": {},
   "outputs": [],
   "source": [
    "df_people.loc[[0,1],['last','email']]"
   ]
  },
  {
   "cell_type": "code",
   "execution_count": null,
   "id": "5a4bb9e4",
   "metadata": {},
   "outputs": [],
   "source": [
    "df_people.loc[0:2,'first':'email']"
   ]
  },
  {
   "cell_type": "markdown",
   "id": "3d8001a6",
   "metadata": {},
   "source": [
    "count the number of each response: `df['Hobbyist'].value_counts()`\n",
    "\n",
    "# 5 How to set, reset and use Indexes\n",
    "\n",
    "1. Set a specific column as the index column by `df.set_index('col_name')`. This way will not change the original dataframe settings. If one want to change this setting permenantly, add `inplace=True` to the arguement.\n",
    "\n",
    "2. To reset back to default, just need to run `df.set_index(inplace=True)` without column name.\n",
    "\n",
    "3. This setting can also be done while importing the dataframe. `df = pd.read_csv('path/file.csv', index_col='column_name')` \n",
    "\n",
    "## When using set_index()\n",
    "\n",
    "1. for searching\n",
    "\n",
    "2. for sorting\n",
    "\n",
    "`df.sort_index(ascending=False, inplace=True)` sort index alphabetically"
   ]
  },
  {
   "cell_type": "code",
   "execution_count": 4,
   "id": "cccaa3cd",
   "metadata": {},
   "outputs": [],
   "source": [
    "df1=df_people.set_index('email') #do not change the original df\n",
    "#change the original df index\n",
    "#df_people.set_index('email', inplace=True) "
   ]
  },
  {
   "cell_type": "code",
   "execution_count": 5,
   "id": "fe256274",
   "metadata": {},
   "outputs": [
    {
     "data": {
      "text/html": [
       "<div>\n",
       "<style scoped>\n",
       "    .dataframe tbody tr th:only-of-type {\n",
       "        vertical-align: middle;\n",
       "    }\n",
       "\n",
       "    .dataframe tbody tr th {\n",
       "        vertical-align: top;\n",
       "    }\n",
       "\n",
       "    .dataframe thead th {\n",
       "        text-align: right;\n",
       "    }\n",
       "</style>\n",
       "<table border=\"1\" class=\"dataframe\">\n",
       "  <thead>\n",
       "    <tr style=\"text-align: right;\">\n",
       "      <th></th>\n",
       "      <th>first</th>\n",
       "      <th>last</th>\n",
       "    </tr>\n",
       "    <tr>\n",
       "      <th>email</th>\n",
       "      <th></th>\n",
       "      <th></th>\n",
       "    </tr>\n",
       "  </thead>\n",
       "  <tbody>\n",
       "    <tr>\n",
       "      <th>janedoe@gmail.com</th>\n",
       "      <td>Jane</td>\n",
       "      <td>Doe</td>\n",
       "    </tr>\n",
       "    <tr>\n",
       "      <th>glassman@gmail.com</th>\n",
       "      <td>John</td>\n",
       "      <td>Glassman</td>\n",
       "    </tr>\n",
       "    <tr>\n",
       "      <th>murfey@gmail.com</th>\n",
       "      <td>Jing</td>\n",
       "      <td>Murfey</td>\n",
       "    </tr>\n",
       "    <tr>\n",
       "      <th>amy@gmail.com</th>\n",
       "      <td>Amy</td>\n",
       "      <td>Anderson</td>\n",
       "    </tr>\n",
       "    <tr>\n",
       "      <th>johndoe@gmail.com</th>\n",
       "      <td>John</td>\n",
       "      <td>Doe</td>\n",
       "    </tr>\n",
       "  </tbody>\n",
       "</table>\n",
       "</div>"
      ],
      "text/plain": [
       "                   first      last\n",
       "email                             \n",
       "janedoe@gmail.com   Jane       Doe\n",
       "glassman@gmail.com  John  Glassman\n",
       "murfey@gmail.com    Jing    Murfey\n",
       "amy@gmail.com        Amy  Anderson\n",
       "johndoe@gmail.com   John       Doe"
      ]
     },
     "execution_count": 5,
     "metadata": {},
     "output_type": "execute_result"
    }
   ],
   "source": [
    "df1"
   ]
  },
  {
   "cell_type": "code",
   "execution_count": 6,
   "id": "126f2e79",
   "metadata": {},
   "outputs": [],
   "source": [
    "df1=df1.reset_index() #back to default setting"
   ]
  },
  {
   "cell_type": "code",
   "execution_count": 7,
   "id": "fab74450",
   "metadata": {},
   "outputs": [
    {
     "data": {
      "text/html": [
       "<div>\n",
       "<style scoped>\n",
       "    .dataframe tbody tr th:only-of-type {\n",
       "        vertical-align: middle;\n",
       "    }\n",
       "\n",
       "    .dataframe tbody tr th {\n",
       "        vertical-align: top;\n",
       "    }\n",
       "\n",
       "    .dataframe thead th {\n",
       "        text-align: right;\n",
       "    }\n",
       "</style>\n",
       "<table border=\"1\" class=\"dataframe\">\n",
       "  <thead>\n",
       "    <tr style=\"text-align: right;\">\n",
       "      <th></th>\n",
       "      <th>email</th>\n",
       "      <th>first</th>\n",
       "      <th>last</th>\n",
       "    </tr>\n",
       "  </thead>\n",
       "  <tbody>\n",
       "    <tr>\n",
       "      <th>0</th>\n",
       "      <td>janedoe@gmail.com</td>\n",
       "      <td>Jane</td>\n",
       "      <td>Doe</td>\n",
       "    </tr>\n",
       "    <tr>\n",
       "      <th>1</th>\n",
       "      <td>glassman@gmail.com</td>\n",
       "      <td>John</td>\n",
       "      <td>Glassman</td>\n",
       "    </tr>\n",
       "    <tr>\n",
       "      <th>2</th>\n",
       "      <td>murfey@gmail.com</td>\n",
       "      <td>Jing</td>\n",
       "      <td>Murfey</td>\n",
       "    </tr>\n",
       "    <tr>\n",
       "      <th>3</th>\n",
       "      <td>amy@gmail.com</td>\n",
       "      <td>Amy</td>\n",
       "      <td>Anderson</td>\n",
       "    </tr>\n",
       "    <tr>\n",
       "      <th>4</th>\n",
       "      <td>johndoe@gmail.com</td>\n",
       "      <td>John</td>\n",
       "      <td>Doe</td>\n",
       "    </tr>\n",
       "  </tbody>\n",
       "</table>\n",
       "</div>"
      ],
      "text/plain": [
       "                email first      last\n",
       "0   janedoe@gmail.com  Jane       Doe\n",
       "1  glassman@gmail.com  John  Glassman\n",
       "2    murfey@gmail.com  Jing    Murfey\n",
       "3       amy@gmail.com   Amy  Anderson\n",
       "4   johndoe@gmail.com  John       Doe"
      ]
     },
     "execution_count": 7,
     "metadata": {},
     "output_type": "execute_result"
    }
   ],
   "source": [
    "df1"
   ]
  },
  {
   "cell_type": "markdown",
   "id": "101bc695",
   "metadata": {},
   "source": [
    "# 6 Filtering - Using conditionals to filter rows and columns\n",
    "\n",
    "## 6.1 One condition\n"
   ]
  },
  {
   "cell_type": "code",
   "execution_count": 9,
   "id": "a61b6bf9",
   "metadata": {},
   "outputs": [],
   "source": [
    "filt = (df_people['last'] == 'Doe')\n",
    "\n",
    "#filt itselt is a series of boolean objects"
   ]
  },
  {
   "cell_type": "code",
   "execution_count": 10,
   "id": "c8d7351f",
   "metadata": {},
   "outputs": [
    {
     "data": {
      "text/plain": [
       "0    janedoe@gmail.com\n",
       "4    johndoe@gmail.com\n",
       "Name: email, dtype: object"
      ]
     },
     "execution_count": 10,
     "metadata": {},
     "output_type": "execute_result"
    }
   ],
   "source": [
    "df_people[filt]\n",
    "\n",
    "# same as df_people[df_people['last'] == 'Doe']\n",
    "\n",
    "df_people.loc[filt, 'email']"
   ]
  },
  {
   "cell_type": "markdown",
   "id": "1bae0ea7",
   "metadata": {},
   "source": [
    "## 6.2 Multiple conditions \n",
    "\n",
    "connect conditions by operations: &, |"
   ]
  },
  {
   "cell_type": "code",
   "execution_count": null,
   "id": "1e5d510a",
   "metadata": {},
   "outputs": [],
   "source": [
    "filt1 = ((df_people['last'] == 'Doe')&(df_people['first']=='Jane'))\n",
    "df_people.loc[filt1]"
   ]
  },
  {
   "cell_type": "code",
   "execution_count": 12,
   "id": "e26fe8d5",
   "metadata": {},
   "outputs": [
    {
     "data": {
      "text/html": [
       "<div>\n",
       "<style scoped>\n",
       "    .dataframe tbody tr th:only-of-type {\n",
       "        vertical-align: middle;\n",
       "    }\n",
       "\n",
       "    .dataframe tbody tr th {\n",
       "        vertical-align: top;\n",
       "    }\n",
       "\n",
       "    .dataframe thead th {\n",
       "        text-align: right;\n",
       "    }\n",
       "</style>\n",
       "<table border=\"1\" class=\"dataframe\">\n",
       "  <thead>\n",
       "    <tr style=\"text-align: right;\">\n",
       "      <th></th>\n",
       "      <th>first</th>\n",
       "      <th>last</th>\n",
       "      <th>email</th>\n",
       "    </tr>\n",
       "  </thead>\n",
       "  <tbody>\n",
       "    <tr>\n",
       "      <th>0</th>\n",
       "      <td>Jane</td>\n",
       "      <td>Doe</td>\n",
       "      <td>janedoe@gmail.com</td>\n",
       "    </tr>\n",
       "    <tr>\n",
       "      <th>1</th>\n",
       "      <td>John</td>\n",
       "      <td>Glassman</td>\n",
       "      <td>glassman@gmail.com</td>\n",
       "    </tr>\n",
       "    <tr>\n",
       "      <th>4</th>\n",
       "      <td>John</td>\n",
       "      <td>Doe</td>\n",
       "      <td>johndoe@gmail.com</td>\n",
       "    </tr>\n",
       "  </tbody>\n",
       "</table>\n",
       "</div>"
      ],
      "text/plain": [
       "  first      last               email\n",
       "0  Jane       Doe   janedoe@gmail.com\n",
       "1  John  Glassman  glassman@gmail.com\n",
       "4  John       Doe   johndoe@gmail.com"
      ]
     },
     "execution_count": 12,
     "metadata": {},
     "output_type": "execute_result"
    }
   ],
   "source": [
    "filt2 = ((df_people['last'] == 'Doe')|(df_people['first']=='John'))\n",
    "df_people.loc[filt2]"
   ]
  },
  {
   "cell_type": "markdown",
   "id": "f96e4f5b",
   "metadata": {},
   "source": [
    "## 6.3 Return the opposite result"
   ]
  },
  {
   "cell_type": "code",
   "execution_count": 13,
   "id": "047b198e",
   "metadata": {},
   "outputs": [
    {
     "data": {
      "text/html": [
       "<div>\n",
       "<style scoped>\n",
       "    .dataframe tbody tr th:only-of-type {\n",
       "        vertical-align: middle;\n",
       "    }\n",
       "\n",
       "    .dataframe tbody tr th {\n",
       "        vertical-align: top;\n",
       "    }\n",
       "\n",
       "    .dataframe thead th {\n",
       "        text-align: right;\n",
       "    }\n",
       "</style>\n",
       "<table border=\"1\" class=\"dataframe\">\n",
       "  <thead>\n",
       "    <tr style=\"text-align: right;\">\n",
       "      <th></th>\n",
       "      <th>first</th>\n",
       "      <th>last</th>\n",
       "      <th>email</th>\n",
       "    </tr>\n",
       "  </thead>\n",
       "  <tbody>\n",
       "    <tr>\n",
       "      <th>2</th>\n",
       "      <td>Jing</td>\n",
       "      <td>Murfey</td>\n",
       "      <td>murfey@gmail.com</td>\n",
       "    </tr>\n",
       "    <tr>\n",
       "      <th>3</th>\n",
       "      <td>Amy</td>\n",
       "      <td>Anderson</td>\n",
       "      <td>amy@gmail.com</td>\n",
       "    </tr>\n",
       "  </tbody>\n",
       "</table>\n",
       "</div>"
      ],
      "text/plain": [
       "  first      last             email\n",
       "2  Jing    Murfey  murfey@gmail.com\n",
       "3   Amy  Anderson     amy@gmail.com"
      ]
     },
     "execution_count": 13,
     "metadata": {},
     "output_type": "execute_result"
    }
   ],
   "source": [
    "df_people.loc[~filt2] #~filter2 returns an opposite result"
   ]
  },
  {
   "cell_type": "markdown",
   "id": "d16fcabf",
   "metadata": {},
   "source": [
    "## 6.4 Select values that are in a list"
   ]
  },
  {
   "cell_type": "code",
   "execution_count": null,
   "id": "924be490",
   "metadata": {},
   "outputs": [],
   "source": [
    "lastname=['Glassman','Doe','Anderson']\n",
    "filt3=df_people['last'].isin(lastname)"
   ]
  },
  {
   "cell_type": "code",
   "execution_count": null,
   "id": "d0eed452",
   "metadata": {},
   "outputs": [],
   "source": [
    "df_people.loc[filt3, 'email']"
   ]
  },
  {
   "cell_type": "markdown",
   "id": "fa4c5d5b",
   "metadata": {},
   "source": [
    "## 6.5 Select values that contains a specific string"
   ]
  },
  {
   "cell_type": "code",
   "execution_count": null,
   "id": "8b3e30bc",
   "metadata": {},
   "outputs": [],
   "source": [
    "filt4=df_people['last'].str.contains('sm',na=False)\n",
    "df_people.loc[filt4, 'email']"
   ]
  },
  {
   "cell_type": "markdown",
   "id": "6382629d",
   "metadata": {},
   "source": [
    "# 7 Updating Rows and Columns - Modifying Data within Dataframes\n",
    "\n",
    "The notes are taken from this tutorial [video](https://www.youtube.com/watch?v=DCDe29sIKcE)\n",
    "\n",
    "<p style=\"color:red\">Do not make change on the original dataframe. Instead, create a new one by copy and make changes.</p>\n",
    "\n",
    "## 7.1 Updating columns\n",
    "\n",
    "1. to replace the name of all column\n",
    "\n",
    "`df.columns = ['name1','name2'...]`\n",
    "\n",
    "2. to change all the column name to uppercase/lowercase or replacing space with underscore using **comprehension**\n",
    "\n",
    "`df.column = [x.upper() for x in df.columns]`\n",
    "\n",
    "3. to change the name of specific column(s)\n",
    "\n",
    "`df.rename(columns={'old_name1':'new_name1', 'old_name2':'new_name2'}, inplace=True)`\n"
   ]
  },
  {
   "cell_type": "code",
   "execution_count": 16,
   "id": "2d640a8a",
   "metadata": {},
   "outputs": [],
   "source": [
    "df1=df_people\n",
    "df1.columns = ['first name','last name','email']"
   ]
  },
  {
   "cell_type": "code",
   "execution_count": 17,
   "id": "8e99ef38",
   "metadata": {},
   "outputs": [
    {
     "data": {
      "text/plain": [
       "Index(['first name', 'last name', 'email'], dtype='object')"
      ]
     },
     "execution_count": 17,
     "metadata": {},
     "output_type": "execute_result"
    }
   ],
   "source": [
    "# change the name to uppercase\n",
    "df1.columns = [x.lower() for x in df_people.columns]\n",
    "df1.columns"
   ]
  },
  {
   "cell_type": "code",
   "execution_count": 18,
   "id": "d46c4f6d",
   "metadata": {},
   "outputs": [
    {
     "data": {
      "text/plain": [
       "Index(['first name', 'last name', 'email'], dtype='object')"
      ]
     },
     "execution_count": 18,
     "metadata": {},
     "output_type": "execute_result"
    }
   ],
   "source": [
    "#replace space with underscore, vice versa\n",
    "df1.columns = df_people.columns.str.replace('_', ' ')\n",
    "df1.columns"
   ]
  },
  {
   "cell_type": "code",
   "execution_count": 19,
   "id": "7fa35d13",
   "metadata": {},
   "outputs": [
    {
     "data": {
      "text/html": [
       "<div>\n",
       "<style scoped>\n",
       "    .dataframe tbody tr th:only-of-type {\n",
       "        vertical-align: middle;\n",
       "    }\n",
       "\n",
       "    .dataframe tbody tr th {\n",
       "        vertical-align: top;\n",
       "    }\n",
       "\n",
       "    .dataframe thead th {\n",
       "        text-align: right;\n",
       "    }\n",
       "</style>\n",
       "<table border=\"1\" class=\"dataframe\">\n",
       "  <thead>\n",
       "    <tr style=\"text-align: right;\">\n",
       "      <th></th>\n",
       "      <th>first</th>\n",
       "      <th>last</th>\n",
       "      <th>email</th>\n",
       "    </tr>\n",
       "  </thead>\n",
       "  <tbody>\n",
       "    <tr>\n",
       "      <th>0</th>\n",
       "      <td>Jane</td>\n",
       "      <td>Doe</td>\n",
       "      <td>janedoe@gmail.com</td>\n",
       "    </tr>\n",
       "    <tr>\n",
       "      <th>1</th>\n",
       "      <td>John</td>\n",
       "      <td>Glassman</td>\n",
       "      <td>glassman@gmail.com</td>\n",
       "    </tr>\n",
       "    <tr>\n",
       "      <th>2</th>\n",
       "      <td>Jing</td>\n",
       "      <td>Murfey</td>\n",
       "      <td>murfey@gmail.com</td>\n",
       "    </tr>\n",
       "    <tr>\n",
       "      <th>3</th>\n",
       "      <td>Amy</td>\n",
       "      <td>Anderson</td>\n",
       "      <td>amy@gmail.com</td>\n",
       "    </tr>\n",
       "    <tr>\n",
       "      <th>4</th>\n",
       "      <td>John</td>\n",
       "      <td>Doe</td>\n",
       "      <td>johndoe@gmail.com</td>\n",
       "    </tr>\n",
       "  </tbody>\n",
       "</table>\n",
       "</div>"
      ],
      "text/plain": [
       "  first      last               email\n",
       "0  Jane       Doe   janedoe@gmail.com\n",
       "1  John  Glassman  glassman@gmail.com\n",
       "2  Jing    Murfey    murfey@gmail.com\n",
       "3   Amy  Anderson       amy@gmail.com\n",
       "4  John       Doe   johndoe@gmail.com"
      ]
     },
     "execution_count": 19,
     "metadata": {},
     "output_type": "execute_result"
    }
   ],
   "source": [
    "df1.rename(columns={'first name':'first', 'last name':'last'}, inplace=True)\n",
    "df1"
   ]
  },
  {
   "cell_type": "markdown",
   "id": "6f09cf1f",
   "metadata": {},
   "source": [
    "## 7.2 Updating rows\n",
    "\n",
    "1. Updating a single row using \n",
    "\n",
    "`df.loc[]`\n",
    "\n",
    "2. Updating several values in a row using \n",
    "\n",
    "`df.loc[,]`\n",
    "\n",
    "3. Updating the values in a column all to lowercase\n",
    "\n",
    "`df['col']=df['col'].str.lower()` need to assign to a column for change"
   ]
  },
  {
   "cell_type": "code",
   "execution_count": null,
   "id": "4bc2609a",
   "metadata": {},
   "outputs": [],
   "source": [
    "df2 = df_people\n",
    "df2.loc[2] = ['Micheal','Smith','JohnSmith@gmail.com']"
   ]
  },
  {
   "cell_type": "code",
   "execution_count": 23,
   "id": "89e098e9",
   "metadata": {},
   "outputs": [
    {
     "data": {
      "text/html": [
       "<div>\n",
       "<style scoped>\n",
       "    .dataframe tbody tr th:only-of-type {\n",
       "        vertical-align: middle;\n",
       "    }\n",
       "\n",
       "    .dataframe tbody tr th {\n",
       "        vertical-align: top;\n",
       "    }\n",
       "\n",
       "    .dataframe thead th {\n",
       "        text-align: right;\n",
       "    }\n",
       "</style>\n",
       "<table border=\"1\" class=\"dataframe\">\n",
       "  <thead>\n",
       "    <tr style=\"text-align: right;\">\n",
       "      <th></th>\n",
       "      <th>first</th>\n",
       "      <th>last</th>\n",
       "      <th>email</th>\n",
       "    </tr>\n",
       "  </thead>\n",
       "  <tbody>\n",
       "    <tr>\n",
       "      <th>0</th>\n",
       "      <td>Jane</td>\n",
       "      <td>Doe</td>\n",
       "      <td>janedoe@gmail.com</td>\n",
       "    </tr>\n",
       "    <tr>\n",
       "      <th>1</th>\n",
       "      <td>John</td>\n",
       "      <td>Glassman</td>\n",
       "      <td>glassman@gmail.com</td>\n",
       "    </tr>\n",
       "    <tr>\n",
       "      <th>2</th>\n",
       "      <td>Micheal</td>\n",
       "      <td>Mike</td>\n",
       "      <td>JohnMike@gmail.com</td>\n",
       "    </tr>\n",
       "    <tr>\n",
       "      <th>3</th>\n",
       "      <td>Amy</td>\n",
       "      <td>Anderson</td>\n",
       "      <td>amy@gmail.com</td>\n",
       "    </tr>\n",
       "    <tr>\n",
       "      <th>4</th>\n",
       "      <td>John</td>\n",
       "      <td>Doe</td>\n",
       "      <td>johndoe@gmail.com</td>\n",
       "    </tr>\n",
       "  </tbody>\n",
       "</table>\n",
       "</div>"
      ],
      "text/plain": [
       "     first      last               email\n",
       "0     Jane       Doe   janedoe@gmail.com\n",
       "1     John  Glassman  glassman@gmail.com\n",
       "2  Micheal      Mike  JohnMike@gmail.com\n",
       "3      Amy  Anderson       amy@gmail.com\n",
       "4     John       Doe   johndoe@gmail.com"
      ]
     },
     "execution_count": 23,
     "metadata": {},
     "output_type": "execute_result"
    }
   ],
   "source": [
    "df2.loc[2,['last','email']] = ['Mike','JohnMike@gmail.com']\n",
    "df2"
   ]
  },
  {
   "cell_type": "code",
   "execution_count": 24,
   "id": "389a58b6",
   "metadata": {},
   "outputs": [
    {
     "data": {
      "text/html": [
       "<div>\n",
       "<style scoped>\n",
       "    .dataframe tbody tr th:only-of-type {\n",
       "        vertical-align: middle;\n",
       "    }\n",
       "\n",
       "    .dataframe tbody tr th {\n",
       "        vertical-align: top;\n",
       "    }\n",
       "\n",
       "    .dataframe thead th {\n",
       "        text-align: right;\n",
       "    }\n",
       "</style>\n",
       "<table border=\"1\" class=\"dataframe\">\n",
       "  <thead>\n",
       "    <tr style=\"text-align: right;\">\n",
       "      <th></th>\n",
       "      <th>first</th>\n",
       "      <th>last</th>\n",
       "      <th>email</th>\n",
       "    </tr>\n",
       "  </thead>\n",
       "  <tbody>\n",
       "    <tr>\n",
       "      <th>0</th>\n",
       "      <td>Jane</td>\n",
       "      <td>Doe</td>\n",
       "      <td>janedoe@gmail.com</td>\n",
       "    </tr>\n",
       "    <tr>\n",
       "      <th>1</th>\n",
       "      <td>John</td>\n",
       "      <td>Glassman</td>\n",
       "      <td>glassman@gmail.com</td>\n",
       "    </tr>\n",
       "    <tr>\n",
       "      <th>2</th>\n",
       "      <td>Micheal</td>\n",
       "      <td>Smith</td>\n",
       "      <td>JohnMike@gmail.com</td>\n",
       "    </tr>\n",
       "    <tr>\n",
       "      <th>3</th>\n",
       "      <td>Amy</td>\n",
       "      <td>Anderson</td>\n",
       "      <td>amy@gmail.com</td>\n",
       "    </tr>\n",
       "    <tr>\n",
       "      <th>4</th>\n",
       "      <td>John</td>\n",
       "      <td>Doe</td>\n",
       "      <td>johndoe@gmail.com</td>\n",
       "    </tr>\n",
       "  </tbody>\n",
       "</table>\n",
       "</div>"
      ],
      "text/plain": [
       "     first      last               email\n",
       "0     Jane       Doe   janedoe@gmail.com\n",
       "1     John  Glassman  glassman@gmail.com\n",
       "2  Micheal     Smith  JohnMike@gmail.com\n",
       "3      Amy  Anderson       amy@gmail.com\n",
       "4     John       Doe   johndoe@gmail.com"
      ]
     },
     "execution_count": 24,
     "metadata": {},
     "output_type": "execute_result"
    }
   ],
   "source": [
    "df2.loc[2,'last']='Smith'\n",
    "#the same as df2.at[2,'last']='Smith' for changing a single value\n",
    "df2"
   ]
  },
  {
   "cell_type": "markdown",
   "id": "f40b6291",
   "metadata": {},
   "source": [
    "**A common mistake is easily made.**\n",
    "\n"
   ]
  },
  {
   "cell_type": "code",
   "execution_count": 25,
   "id": "b1f16610",
   "metadata": {},
   "outputs": [
    {
     "name": "stderr",
     "output_type": "stream",
     "text": [
      "/Users/jingai/workspace/energy-data/venv/lib/python3.8/site-packages/pandas/core/frame.py:3607: SettingWithCopyWarning: \n",
      "A value is trying to be set on a copy of a slice from a DataFrame.\n",
      "Try using .loc[row_indexer,col_indexer] = value instead\n",
      "\n",
      "See the caveats in the documentation: https://pandas.pydata.org/pandas-docs/stable/user_guide/indexing.html#returning-a-view-versus-a-copy\n",
      "  self._set_item(key, value)\n"
     ]
    }
   ],
   "source": [
    "# this won't work\n",
    "filt4 = (df2['last']=='Doe')\n",
    "df2[filt]['last']= 'Smith'"
   ]
  },
  {
   "cell_type": "code",
   "execution_count": 60,
   "id": "4b2f1007",
   "metadata": {},
   "outputs": [],
   "source": [
    "df2.loc[filt, 'last']= 'Smith'"
   ]
  },
  {
   "cell_type": "code",
   "execution_count": 61,
   "id": "1e0d7717",
   "metadata": {},
   "outputs": [
    {
     "data": {
      "text/html": [
       "<div>\n",
       "<style scoped>\n",
       "    .dataframe tbody tr th:only-of-type {\n",
       "        vertical-align: middle;\n",
       "    }\n",
       "\n",
       "    .dataframe tbody tr th {\n",
       "        vertical-align: top;\n",
       "    }\n",
       "\n",
       "    .dataframe thead th {\n",
       "        text-align: right;\n",
       "    }\n",
       "</style>\n",
       "<table border=\"1\" class=\"dataframe\">\n",
       "  <thead>\n",
       "    <tr style=\"text-align: right;\">\n",
       "      <th></th>\n",
       "      <th>first</th>\n",
       "      <th>last</th>\n",
       "      <th>email</th>\n",
       "    </tr>\n",
       "  </thead>\n",
       "  <tbody>\n",
       "    <tr>\n",
       "      <th>0</th>\n",
       "      <td>Jane</td>\n",
       "      <td>Doe</td>\n",
       "      <td>janedoe@gmail.com</td>\n",
       "    </tr>\n",
       "    <tr>\n",
       "      <th>1</th>\n",
       "      <td>John</td>\n",
       "      <td>Glassman</td>\n",
       "      <td>glassman@gmail.com</td>\n",
       "    </tr>\n",
       "    <tr>\n",
       "      <th>2</th>\n",
       "      <td>Jing</td>\n",
       "      <td>Murfey</td>\n",
       "      <td>murfey@gmail.com</td>\n",
       "    </tr>\n",
       "    <tr>\n",
       "      <th>3</th>\n",
       "      <td>Amy</td>\n",
       "      <td>Anderson</td>\n",
       "      <td>amy@gmail.com</td>\n",
       "    </tr>\n",
       "    <tr>\n",
       "      <th>4</th>\n",
       "      <td>John</td>\n",
       "      <td>Doe</td>\n",
       "      <td>johndoe@gmail.com</td>\n",
       "    </tr>\n",
       "  </tbody>\n",
       "</table>\n",
       "</div>"
      ],
      "text/plain": [
       "  first      last               email\n",
       "0  Jane       Doe   janedoe@gmail.com\n",
       "1  John  Glassman  glassman@gmail.com\n",
       "2  Jing    Murfey    murfey@gmail.com\n",
       "3   Amy  Anderson       amy@gmail.com\n",
       "4  John       Doe   johndoe@gmail.com"
      ]
     },
     "execution_count": 61,
     "metadata": {},
     "output_type": "execute_result"
    }
   ],
   "source": [
    "# change emails all to lowercase\n",
    "df_people['email'].str.lower() # not changing the original dataframe\n",
    "\n",
    "df3=df_people\n",
    "\n",
    "df3['email'] =df3['email'].str.lower()\n",
    "df3"
   ]
  },
  {
   "cell_type": "markdown",
   "id": "d3c2da32",
   "metadata": {},
   "source": [
    "## 7.3 apply() \n",
    "\n",
    "### 7.3.1 apply() to series\n",
    "\n",
    "`df['col'].apply(func)`"
   ]
  },
  {
   "cell_type": "code",
   "execution_count": 31,
   "id": "ff22f35e",
   "metadata": {},
   "outputs": [
    {
     "data": {
      "text/plain": [
       "0    17\n",
       "1    18\n",
       "2    18\n",
       "3    13\n",
       "4    17\n",
       "Name: email, dtype: int64"
      ]
     },
     "execution_count": 31,
     "metadata": {},
     "output_type": "execute_result"
    }
   ],
   "source": [
    "#build-in function\n",
    "df3['email'].apply(len)"
   ]
  },
  {
   "cell_type": "code",
   "execution_count": 32,
   "id": "56816373",
   "metadata": {},
   "outputs": [
    {
     "data": {
      "text/plain": [
       "0     JANEDOE@GMAIL.COM\n",
       "1    GLASSMAN@GMAIL.COM\n",
       "2    JOHNMIKE@GMAIL.COM\n",
       "3         AMY@GMAIL.COM\n",
       "4     JOHNDOE@GMAIL.COM\n",
       "Name: email, dtype: object"
      ]
     },
     "execution_count": 32,
     "metadata": {},
     "output_type": "execute_result"
    }
   ],
   "source": [
    "#defined function\n",
    "\n",
    "def upper_email(email):\n",
    "    return email.upper()\n",
    "\n",
    "df3['email'].apply(upper_email)"
   ]
  },
  {
   "cell_type": "code",
   "execution_count": 34,
   "id": "f3c7fa62",
   "metadata": {},
   "outputs": [
    {
     "data": {
      "text/html": [
       "<div>\n",
       "<style scoped>\n",
       "    .dataframe tbody tr th:only-of-type {\n",
       "        vertical-align: middle;\n",
       "    }\n",
       "\n",
       "    .dataframe tbody tr th {\n",
       "        vertical-align: top;\n",
       "    }\n",
       "\n",
       "    .dataframe thead th {\n",
       "        text-align: right;\n",
       "    }\n",
       "</style>\n",
       "<table border=\"1\" class=\"dataframe\">\n",
       "  <thead>\n",
       "    <tr style=\"text-align: right;\">\n",
       "      <th></th>\n",
       "      <th>first</th>\n",
       "      <th>last</th>\n",
       "      <th>email</th>\n",
       "    </tr>\n",
       "  </thead>\n",
       "  <tbody>\n",
       "    <tr>\n",
       "      <th>0</th>\n",
       "      <td>Jane</td>\n",
       "      <td>Smith</td>\n",
       "      <td>JANEDOE@GMAIL.COM</td>\n",
       "    </tr>\n",
       "    <tr>\n",
       "      <th>1</th>\n",
       "      <td>John</td>\n",
       "      <td>Glassman</td>\n",
       "      <td>GLASSMAN@GMAIL.COM</td>\n",
       "    </tr>\n",
       "    <tr>\n",
       "      <th>2</th>\n",
       "      <td>Micheal</td>\n",
       "      <td>Smith</td>\n",
       "      <td>JOHNMIKE@GMAIL.COM</td>\n",
       "    </tr>\n",
       "    <tr>\n",
       "      <th>3</th>\n",
       "      <td>Amy</td>\n",
       "      <td>Anderson</td>\n",
       "      <td>AMY@GMAIL.COM</td>\n",
       "    </tr>\n",
       "    <tr>\n",
       "      <th>4</th>\n",
       "      <td>John</td>\n",
       "      <td>Smith</td>\n",
       "      <td>JOHNDOE@GMAIL.COM</td>\n",
       "    </tr>\n",
       "  </tbody>\n",
       "</table>\n",
       "</div>"
      ],
      "text/plain": [
       "     first      last               email\n",
       "0     Jane     Smith   JANEDOE@GMAIL.COM\n",
       "1     John  Glassman  GLASSMAN@GMAIL.COM\n",
       "2  Micheal     Smith  JOHNMIKE@GMAIL.COM\n",
       "3      Amy  Anderson       AMY@GMAIL.COM\n",
       "4     John     Smith   JOHNDOE@GMAIL.COM"
      ]
     },
     "execution_count": 34,
     "metadata": {},
     "output_type": "execute_result"
    }
   ],
   "source": [
    "df3['email']=df3['email'].apply(upper_email)\n",
    "df3"
   ]
  },
  {
   "cell_type": "code",
   "execution_count": 36,
   "id": "3d38f31b",
   "metadata": {},
   "outputs": [
    {
     "data": {
      "text/html": [
       "<div>\n",
       "<style scoped>\n",
       "    .dataframe tbody tr th:only-of-type {\n",
       "        vertical-align: middle;\n",
       "    }\n",
       "\n",
       "    .dataframe tbody tr th {\n",
       "        vertical-align: top;\n",
       "    }\n",
       "\n",
       "    .dataframe thead th {\n",
       "        text-align: right;\n",
       "    }\n",
       "</style>\n",
       "<table border=\"1\" class=\"dataframe\">\n",
       "  <thead>\n",
       "    <tr style=\"text-align: right;\">\n",
       "      <th></th>\n",
       "      <th>first</th>\n",
       "      <th>last</th>\n",
       "      <th>email</th>\n",
       "    </tr>\n",
       "  </thead>\n",
       "  <tbody>\n",
       "    <tr>\n",
       "      <th>0</th>\n",
       "      <td>Jane</td>\n",
       "      <td>Smith</td>\n",
       "      <td>janedoe@gmail.com</td>\n",
       "    </tr>\n",
       "    <tr>\n",
       "      <th>1</th>\n",
       "      <td>John</td>\n",
       "      <td>Glassman</td>\n",
       "      <td>glassman@gmail.com</td>\n",
       "    </tr>\n",
       "    <tr>\n",
       "      <th>2</th>\n",
       "      <td>Micheal</td>\n",
       "      <td>Smith</td>\n",
       "      <td>johnmike@gmail.com</td>\n",
       "    </tr>\n",
       "    <tr>\n",
       "      <th>3</th>\n",
       "      <td>Amy</td>\n",
       "      <td>Anderson</td>\n",
       "      <td>amy@gmail.com</td>\n",
       "    </tr>\n",
       "    <tr>\n",
       "      <th>4</th>\n",
       "      <td>John</td>\n",
       "      <td>Smith</td>\n",
       "      <td>johndoe@gmail.com</td>\n",
       "    </tr>\n",
       "  </tbody>\n",
       "</table>\n",
       "</div>"
      ],
      "text/plain": [
       "     first      last               email\n",
       "0     Jane     Smith   janedoe@gmail.com\n",
       "1     John  Glassman  glassman@gmail.com\n",
       "2  Micheal     Smith  johnmike@gmail.com\n",
       "3      Amy  Anderson       amy@gmail.com\n",
       "4     John     Smith   johndoe@gmail.com"
      ]
     },
     "execution_count": 36,
     "metadata": {},
     "output_type": "execute_result"
    }
   ],
   "source": [
    "df3['email']=df3['email'].apply(lambda x: x.lower())\n",
    "df3"
   ]
  },
  {
   "cell_type": "markdown",
   "id": "5c40e460",
   "metadata": {},
   "source": [
    "### 7.3.2 apply() to dataframe"
   ]
  },
  {
   "cell_type": "code",
   "execution_count": 37,
   "id": "d22019d0",
   "metadata": {},
   "outputs": [
    {
     "data": {
      "text/plain": [
       "first    5\n",
       "last     5\n",
       "email    5\n",
       "dtype: int64"
      ]
     },
     "execution_count": 37,
     "metadata": {},
     "output_type": "execute_result"
    }
   ],
   "source": [
    "df3.apply(len) # return the length of each columns instead of each cell"
   ]
  },
  {
   "cell_type": "code",
   "execution_count": 38,
   "id": "05384389",
   "metadata": {},
   "outputs": [
    {
     "data": {
      "text/plain": [
       "0    3\n",
       "1    3\n",
       "2    3\n",
       "3    3\n",
       "4    3\n",
       "dtype: int64"
      ]
     },
     "execution_count": 38,
     "metadata": {},
     "output_type": "execute_result"
    }
   ],
   "source": [
    "df3.apply(len,axis=1)"
   ]
  },
  {
   "cell_type": "code",
   "execution_count": 40,
   "id": "a6b821fa",
   "metadata": {},
   "outputs": [
    {
     "data": {
      "text/plain": [
       "first              Amy\n",
       "last          Anderson\n",
       "email    amy@gmail.com\n",
       "dtype: object"
      ]
     },
     "execution_count": 40,
     "metadata": {},
     "output_type": "execute_result"
    }
   ],
   "source": [
    "df3.apply(pd.Series.min)"
   ]
  },
  {
   "cell_type": "code",
   "execution_count": 41,
   "id": "6a749c34",
   "metadata": {},
   "outputs": [
    {
     "data": {
      "text/plain": [
       "first              Amy\n",
       "last          Anderson\n",
       "email    amy@gmail.com\n",
       "dtype: object"
      ]
     },
     "execution_count": 41,
     "metadata": {},
     "output_type": "execute_result"
    }
   ],
   "source": [
    "df3.apply(lambda x: x.min())"
   ]
  },
  {
   "cell_type": "markdown",
   "id": "1e6bb17b",
   "metadata": {},
   "source": [
    "## 7.3 applymap() for dataframe"
   ]
  },
  {
   "cell_type": "code",
   "execution_count": 42,
   "id": "165ff71a",
   "metadata": {},
   "outputs": [
    {
     "data": {
      "text/html": [
       "<div>\n",
       "<style scoped>\n",
       "    .dataframe tbody tr th:only-of-type {\n",
       "        vertical-align: middle;\n",
       "    }\n",
       "\n",
       "    .dataframe tbody tr th {\n",
       "        vertical-align: top;\n",
       "    }\n",
       "\n",
       "    .dataframe thead th {\n",
       "        text-align: right;\n",
       "    }\n",
       "</style>\n",
       "<table border=\"1\" class=\"dataframe\">\n",
       "  <thead>\n",
       "    <tr style=\"text-align: right;\">\n",
       "      <th></th>\n",
       "      <th>first</th>\n",
       "      <th>last</th>\n",
       "      <th>email</th>\n",
       "    </tr>\n",
       "  </thead>\n",
       "  <tbody>\n",
       "    <tr>\n",
       "      <th>0</th>\n",
       "      <td>4</td>\n",
       "      <td>5</td>\n",
       "      <td>17</td>\n",
       "    </tr>\n",
       "    <tr>\n",
       "      <th>1</th>\n",
       "      <td>4</td>\n",
       "      <td>8</td>\n",
       "      <td>18</td>\n",
       "    </tr>\n",
       "    <tr>\n",
       "      <th>2</th>\n",
       "      <td>7</td>\n",
       "      <td>5</td>\n",
       "      <td>18</td>\n",
       "    </tr>\n",
       "    <tr>\n",
       "      <th>3</th>\n",
       "      <td>3</td>\n",
       "      <td>8</td>\n",
       "      <td>13</td>\n",
       "    </tr>\n",
       "    <tr>\n",
       "      <th>4</th>\n",
       "      <td>4</td>\n",
       "      <td>5</td>\n",
       "      <td>17</td>\n",
       "    </tr>\n",
       "  </tbody>\n",
       "</table>\n",
       "</div>"
      ],
      "text/plain": [
       "   first  last  email\n",
       "0      4     5     17\n",
       "1      4     8     18\n",
       "2      7     5     18\n",
       "3      3     8     13\n",
       "4      4     5     17"
      ]
     },
     "execution_count": 42,
     "metadata": {},
     "output_type": "execute_result"
    }
   ],
   "source": [
    "df3.applymap(len)"
   ]
  },
  {
   "cell_type": "code",
   "execution_count": 49,
   "id": "b8abb124",
   "metadata": {},
   "outputs": [
    {
     "data": {
      "text/html": [
       "<div>\n",
       "<style scoped>\n",
       "    .dataframe tbody tr th:only-of-type {\n",
       "        vertical-align: middle;\n",
       "    }\n",
       "\n",
       "    .dataframe tbody tr th {\n",
       "        vertical-align: top;\n",
       "    }\n",
       "\n",
       "    .dataframe thead th {\n",
       "        text-align: right;\n",
       "    }\n",
       "</style>\n",
       "<table border=\"1\" class=\"dataframe\">\n",
       "  <thead>\n",
       "    <tr style=\"text-align: right;\">\n",
       "      <th></th>\n",
       "      <th>first</th>\n",
       "      <th>last</th>\n",
       "      <th>email</th>\n",
       "    </tr>\n",
       "  </thead>\n",
       "  <tbody>\n",
       "    <tr>\n",
       "      <th>0</th>\n",
       "      <td>Jane</td>\n",
       "      <td>Smith</td>\n",
       "      <td>janedoe@gmail.com</td>\n",
       "    </tr>\n",
       "    <tr>\n",
       "      <th>1</th>\n",
       "      <td>John</td>\n",
       "      <td>Glassman</td>\n",
       "      <td>glassman@gmail.com</td>\n",
       "    </tr>\n",
       "    <tr>\n",
       "      <th>2</th>\n",
       "      <td>Micheal</td>\n",
       "      <td>Smith</td>\n",
       "      <td>johnmike@gmail.com</td>\n",
       "    </tr>\n",
       "    <tr>\n",
       "      <th>3</th>\n",
       "      <td>Amy</td>\n",
       "      <td>Anderson</td>\n",
       "      <td>amy@gmail.com</td>\n",
       "    </tr>\n",
       "    <tr>\n",
       "      <th>4</th>\n",
       "      <td>John</td>\n",
       "      <td>Smith</td>\n",
       "      <td>johndoe@gmail.com</td>\n",
       "    </tr>\n",
       "  </tbody>\n",
       "</table>\n",
       "</div>"
      ],
      "text/plain": [
       "     first      last               email\n",
       "0     Jane     Smith   janedoe@gmail.com\n",
       "1     John  Glassman  glassman@gmail.com\n",
       "2  Micheal     Smith  johnmike@gmail.com\n",
       "3      Amy  Anderson       amy@gmail.com\n",
       "4     John     Smith   johndoe@gmail.com"
      ]
     },
     "execution_count": 49,
     "metadata": {},
     "output_type": "execute_result"
    }
   ],
   "source": [
    "df3.applymap(str.upper)\n",
    "df3.applymap(str.lower)\n",
    "df3 # the orignal dataframe was not changed!"
   ]
  },
  {
   "cell_type": "markdown",
   "id": "2f858409",
   "metadata": {},
   "source": [
    "## 7.3 map() and replace() and for series\n",
    "\n",
    "* map() is to substitue value in a series, but the value that is not assigned will convert to NaN\n",
    "\n",
    "* replace() is to replace the value with the new one but keeps the original value"
   ]
  },
  {
   "cell_type": "code",
   "execution_count": 52,
   "id": "bda13ed0",
   "metadata": {},
   "outputs": [
    {
     "data": {
      "text/plain": [
       "0     Mary\n",
       "1    Chris\n",
       "2      NaN\n",
       "3    Emily\n",
       "4    Chris\n",
       "Name: first, dtype: object"
      ]
     },
     "execution_count": 52,
     "metadata": {},
     "output_type": "execute_result"
    }
   ],
   "source": [
    "df3['first'].map({'Jane':'Mary','John':'Chris','Amy':'Emily'})"
   ]
  },
  {
   "cell_type": "code",
   "execution_count": 53,
   "id": "e366d00b",
   "metadata": {},
   "outputs": [
    {
     "data": {
      "text/plain": [
       "0       Mary\n",
       "1      Chris\n",
       "2    Micheal\n",
       "3      Emily\n",
       "4      Chris\n",
       "Name: first, dtype: object"
      ]
     },
     "execution_count": 53,
     "metadata": {},
     "output_type": "execute_result"
    }
   ],
   "source": [
    "df3['first'].replace({'Jane':'Mary','John':'Chris','Amy':'Emily'})"
   ]
  },
  {
   "cell_type": "code",
   "execution_count": 55,
   "id": "74e9b40c",
   "metadata": {},
   "outputs": [
    {
     "data": {
      "text/html": [
       "<div>\n",
       "<style scoped>\n",
       "    .dataframe tbody tr th:only-of-type {\n",
       "        vertical-align: middle;\n",
       "    }\n",
       "\n",
       "    .dataframe tbody tr th {\n",
       "        vertical-align: top;\n",
       "    }\n",
       "\n",
       "    .dataframe thead th {\n",
       "        text-align: right;\n",
       "    }\n",
       "</style>\n",
       "<table border=\"1\" class=\"dataframe\">\n",
       "  <thead>\n",
       "    <tr style=\"text-align: right;\">\n",
       "      <th></th>\n",
       "      <th>first</th>\n",
       "      <th>last</th>\n",
       "      <th>email</th>\n",
       "    </tr>\n",
       "  </thead>\n",
       "  <tbody>\n",
       "    <tr>\n",
       "      <th>0</th>\n",
       "      <td>Mary</td>\n",
       "      <td>Smith</td>\n",
       "      <td>janedoe@gmail.com</td>\n",
       "    </tr>\n",
       "    <tr>\n",
       "      <th>1</th>\n",
       "      <td>Chris</td>\n",
       "      <td>Glassman</td>\n",
       "      <td>glassman@gmail.com</td>\n",
       "    </tr>\n",
       "    <tr>\n",
       "      <th>2</th>\n",
       "      <td>Micheal</td>\n",
       "      <td>Smith</td>\n",
       "      <td>johnmike@gmail.com</td>\n",
       "    </tr>\n",
       "    <tr>\n",
       "      <th>3</th>\n",
       "      <td>Emily</td>\n",
       "      <td>Anderson</td>\n",
       "      <td>amy@gmail.com</td>\n",
       "    </tr>\n",
       "    <tr>\n",
       "      <th>4</th>\n",
       "      <td>Chris</td>\n",
       "      <td>Smith</td>\n",
       "      <td>johndoe@gmail.com</td>\n",
       "    </tr>\n",
       "  </tbody>\n",
       "</table>\n",
       "</div>"
      ],
      "text/plain": [
       "     first      last               email\n",
       "0     Mary     Smith   janedoe@gmail.com\n",
       "1    Chris  Glassman  glassman@gmail.com\n",
       "2  Micheal     Smith  johnmike@gmail.com\n",
       "3    Emily  Anderson       amy@gmail.com\n",
       "4    Chris     Smith   johndoe@gmail.com"
      ]
     },
     "execution_count": 55,
     "metadata": {},
     "output_type": "execute_result"
    }
   ],
   "source": [
    "df3['first'] = df3['first'].replace({'Jane':'Mary','John':'Chris','Amy':'Emily'})\n",
    "df3"
   ]
  },
  {
   "cell_type": "markdown",
   "id": "8a128fd7",
   "metadata": {},
   "source": [
    "# 8 Add/Remove Rows and Columns\n",
    "\n",
    "`df['new_col']=[]`"
   ]
  },
  {
   "cell_type": "code",
   "execution_count": 74,
   "id": "9f1b4a6d",
   "metadata": {},
   "outputs": [],
   "source": [
    "df_people\n",
    "\n",
    "df5=df_people"
   ]
  },
  {
   "cell_type": "code",
   "execution_count": 75,
   "id": "53d1b98c",
   "metadata": {},
   "outputs": [
    {
     "data": {
      "text/plain": [
       "0         Jane Doe\n",
       "1    John Glassman\n",
       "2      Jing Murfey\n",
       "3     Amy Anderson\n",
       "4         John Doe\n",
       "dtype: object"
      ]
     },
     "execution_count": 75,
     "metadata": {},
     "output_type": "execute_result"
    }
   ],
   "source": [
    "df5['first']+' '+df5['last']"
   ]
  },
  {
   "cell_type": "markdown",
   "id": "3e76990c",
   "metadata": {},
   "source": [
    "## 8.1 Add a new column"
   ]
  },
  {
   "cell_type": "code",
   "execution_count": 76,
   "id": "d7d23707",
   "metadata": {},
   "outputs": [],
   "source": [
    "df5['full_name']=df5['first']+' '+df5['last']"
   ]
  },
  {
   "cell_type": "code",
   "execution_count": 77,
   "id": "e4f68ff6",
   "metadata": {},
   "outputs": [
    {
     "data": {
      "text/html": [
       "<div>\n",
       "<style scoped>\n",
       "    .dataframe tbody tr th:only-of-type {\n",
       "        vertical-align: middle;\n",
       "    }\n",
       "\n",
       "    .dataframe tbody tr th {\n",
       "        vertical-align: top;\n",
       "    }\n",
       "\n",
       "    .dataframe thead th {\n",
       "        text-align: right;\n",
       "    }\n",
       "</style>\n",
       "<table border=\"1\" class=\"dataframe\">\n",
       "  <thead>\n",
       "    <tr style=\"text-align: right;\">\n",
       "      <th></th>\n",
       "      <th>first</th>\n",
       "      <th>last</th>\n",
       "      <th>email</th>\n",
       "      <th>full_name</th>\n",
       "    </tr>\n",
       "  </thead>\n",
       "  <tbody>\n",
       "    <tr>\n",
       "      <th>0</th>\n",
       "      <td>Jane</td>\n",
       "      <td>Doe</td>\n",
       "      <td>janedoe@gmail.com</td>\n",
       "      <td>Jane Doe</td>\n",
       "    </tr>\n",
       "    <tr>\n",
       "      <th>1</th>\n",
       "      <td>John</td>\n",
       "      <td>Glassman</td>\n",
       "      <td>glassman@gmail.com</td>\n",
       "      <td>John Glassman</td>\n",
       "    </tr>\n",
       "    <tr>\n",
       "      <th>2</th>\n",
       "      <td>Jing</td>\n",
       "      <td>Murfey</td>\n",
       "      <td>murfey@gmail.com</td>\n",
       "      <td>Jing Murfey</td>\n",
       "    </tr>\n",
       "    <tr>\n",
       "      <th>3</th>\n",
       "      <td>Amy</td>\n",
       "      <td>Anderson</td>\n",
       "      <td>amy@gmail.com</td>\n",
       "      <td>Amy Anderson</td>\n",
       "    </tr>\n",
       "    <tr>\n",
       "      <th>4</th>\n",
       "      <td>John</td>\n",
       "      <td>Doe</td>\n",
       "      <td>johndoe@gmail.com</td>\n",
       "      <td>John Doe</td>\n",
       "    </tr>\n",
       "  </tbody>\n",
       "</table>\n",
       "</div>"
      ],
      "text/plain": [
       "  first      last               email      full_name\n",
       "0  Jane       Doe   janedoe@gmail.com       Jane Doe\n",
       "1  John  Glassman  glassman@gmail.com  John Glassman\n",
       "2  Jing    Murfey    murfey@gmail.com    Jing Murfey\n",
       "3   Amy  Anderson       amy@gmail.com   Amy Anderson\n",
       "4  John       Doe   johndoe@gmail.com       John Doe"
      ]
     },
     "execution_count": 77,
     "metadata": {},
     "output_type": "execute_result"
    }
   ],
   "source": [
    "df5"
   ]
  },
  {
   "cell_type": "markdown",
   "id": "17672d96",
   "metadata": {},
   "source": [
    "## 8.2 Remove columns\n",
    "\n",
    "`df.drop(columns=['col1','col2'])`"
   ]
  },
  {
   "cell_type": "code",
   "execution_count": null,
   "id": "58a0a3af",
   "metadata": {},
   "outputs": [],
   "source": [
    "df6=df5\n",
    "df6.drop(columns=['first','last'], inplace = True)"
   ]
  },
  {
   "cell_type": "code",
   "execution_count": 83,
   "id": "2b28b365",
   "metadata": {},
   "outputs": [
    {
     "data": {
      "text/html": [
       "<div>\n",
       "<style scoped>\n",
       "    .dataframe tbody tr th:only-of-type {\n",
       "        vertical-align: middle;\n",
       "    }\n",
       "\n",
       "    .dataframe tbody tr th {\n",
       "        vertical-align: top;\n",
       "    }\n",
       "\n",
       "    .dataframe thead th {\n",
       "        text-align: right;\n",
       "    }\n",
       "</style>\n",
       "<table border=\"1\" class=\"dataframe\">\n",
       "  <thead>\n",
       "    <tr style=\"text-align: right;\">\n",
       "      <th></th>\n",
       "      <th>email</th>\n",
       "      <th>full_name</th>\n",
       "    </tr>\n",
       "  </thead>\n",
       "  <tbody>\n",
       "    <tr>\n",
       "      <th>0</th>\n",
       "      <td>janedoe@gmail.com</td>\n",
       "      <td>Jane Doe</td>\n",
       "    </tr>\n",
       "    <tr>\n",
       "      <th>1</th>\n",
       "      <td>glassman@gmail.com</td>\n",
       "      <td>John Glassman</td>\n",
       "    </tr>\n",
       "    <tr>\n",
       "      <th>2</th>\n",
       "      <td>murfey@gmail.com</td>\n",
       "      <td>Jing Murfey</td>\n",
       "    </tr>\n",
       "    <tr>\n",
       "      <th>3</th>\n",
       "      <td>amy@gmail.com</td>\n",
       "      <td>Amy Anderson</td>\n",
       "    </tr>\n",
       "    <tr>\n",
       "      <th>4</th>\n",
       "      <td>johndoe@gmail.com</td>\n",
       "      <td>John Doe</td>\n",
       "    </tr>\n",
       "  </tbody>\n",
       "</table>\n",
       "</div>"
      ],
      "text/plain": [
       "                email      full_name\n",
       "0   janedoe@gmail.com       Jane Doe\n",
       "1  glassman@gmail.com  John Glassman\n",
       "2    murfey@gmail.com    Jing Murfey\n",
       "3       amy@gmail.com   Amy Anderson\n",
       "4   johndoe@gmail.com       John Doe"
      ]
     },
     "execution_count": 83,
     "metadata": {},
     "output_type": "execute_result"
    }
   ],
   "source": [
    "df6"
   ]
  },
  {
   "cell_type": "code",
   "execution_count": 86,
   "id": "795e4e4c",
   "metadata": {},
   "outputs": [
    {
     "data": {
      "text/html": [
       "<div>\n",
       "<style scoped>\n",
       "    .dataframe tbody tr th:only-of-type {\n",
       "        vertical-align: middle;\n",
       "    }\n",
       "\n",
       "    .dataframe tbody tr th {\n",
       "        vertical-align: top;\n",
       "    }\n",
       "\n",
       "    .dataframe thead th {\n",
       "        text-align: right;\n",
       "    }\n",
       "</style>\n",
       "<table border=\"1\" class=\"dataframe\">\n",
       "  <thead>\n",
       "    <tr style=\"text-align: right;\">\n",
       "      <th></th>\n",
       "      <th>email</th>\n",
       "      <th>full_name</th>\n",
       "      <th>first</th>\n",
       "      <th>last</th>\n",
       "    </tr>\n",
       "  </thead>\n",
       "  <tbody>\n",
       "    <tr>\n",
       "      <th>0</th>\n",
       "      <td>janedoe@gmail.com</td>\n",
       "      <td>Jane Doe</td>\n",
       "      <td>Jane</td>\n",
       "      <td>Doe</td>\n",
       "    </tr>\n",
       "    <tr>\n",
       "      <th>1</th>\n",
       "      <td>glassman@gmail.com</td>\n",
       "      <td>John Glassman</td>\n",
       "      <td>John</td>\n",
       "      <td>Glassman</td>\n",
       "    </tr>\n",
       "    <tr>\n",
       "      <th>2</th>\n",
       "      <td>murfey@gmail.com</td>\n",
       "      <td>Jing Murfey</td>\n",
       "      <td>Jing</td>\n",
       "      <td>Murfey</td>\n",
       "    </tr>\n",
       "    <tr>\n",
       "      <th>3</th>\n",
       "      <td>amy@gmail.com</td>\n",
       "      <td>Amy Anderson</td>\n",
       "      <td>Amy</td>\n",
       "      <td>Anderson</td>\n",
       "    </tr>\n",
       "    <tr>\n",
       "      <th>4</th>\n",
       "      <td>johndoe@gmail.com</td>\n",
       "      <td>John Doe</td>\n",
       "      <td>John</td>\n",
       "      <td>Doe</td>\n",
       "    </tr>\n",
       "  </tbody>\n",
       "</table>\n",
       "</div>"
      ],
      "text/plain": [
       "                email      full_name first      last\n",
       "0   janedoe@gmail.com       Jane Doe  Jane       Doe\n",
       "1  glassman@gmail.com  John Glassman  John  Glassman\n",
       "2    murfey@gmail.com    Jing Murfey  Jing    Murfey\n",
       "3       amy@gmail.com   Amy Anderson   Amy  Anderson\n",
       "4   johndoe@gmail.com       John Doe  John       Doe"
      ]
     },
     "execution_count": 86,
     "metadata": {},
     "output_type": "execute_result"
    }
   ],
   "source": [
    "df6[['first','last']]=df6['full_name'].str.split(' ', expand=True)\n",
    "df6"
   ]
  },
  {
   "cell_type": "markdown",
   "id": "992d000d",
   "metadata": {},
   "source": [
    "## 8.3 Add a single row \n",
    "\n",
    "`df.append()`"
   ]
  },
  {
   "cell_type": "code",
   "execution_count": 88,
   "id": "b1063cea",
   "metadata": {},
   "outputs": [
    {
     "data": {
      "text/html": [
       "<div>\n",
       "<style scoped>\n",
       "    .dataframe tbody tr th:only-of-type {\n",
       "        vertical-align: middle;\n",
       "    }\n",
       "\n",
       "    .dataframe tbody tr th {\n",
       "        vertical-align: top;\n",
       "    }\n",
       "\n",
       "    .dataframe thead th {\n",
       "        text-align: right;\n",
       "    }\n",
       "</style>\n",
       "<table border=\"1\" class=\"dataframe\">\n",
       "  <thead>\n",
       "    <tr style=\"text-align: right;\">\n",
       "      <th></th>\n",
       "      <th>email</th>\n",
       "      <th>full_name</th>\n",
       "      <th>first</th>\n",
       "      <th>last</th>\n",
       "    </tr>\n",
       "  </thead>\n",
       "  <tbody>\n",
       "    <tr>\n",
       "      <th>0</th>\n",
       "      <td>janedoe@gmail.com</td>\n",
       "      <td>Jane Doe</td>\n",
       "      <td>Jane</td>\n",
       "      <td>Doe</td>\n",
       "    </tr>\n",
       "    <tr>\n",
       "      <th>1</th>\n",
       "      <td>glassman@gmail.com</td>\n",
       "      <td>John Glassman</td>\n",
       "      <td>John</td>\n",
       "      <td>Glassman</td>\n",
       "    </tr>\n",
       "    <tr>\n",
       "      <th>2</th>\n",
       "      <td>murfey@gmail.com</td>\n",
       "      <td>Jing Murfey</td>\n",
       "      <td>Jing</td>\n",
       "      <td>Murfey</td>\n",
       "    </tr>\n",
       "    <tr>\n",
       "      <th>3</th>\n",
       "      <td>amy@gmail.com</td>\n",
       "      <td>Amy Anderson</td>\n",
       "      <td>Amy</td>\n",
       "      <td>Anderson</td>\n",
       "    </tr>\n",
       "    <tr>\n",
       "      <th>4</th>\n",
       "      <td>johndoe@gmail.com</td>\n",
       "      <td>John Doe</td>\n",
       "      <td>John</td>\n",
       "      <td>Doe</td>\n",
       "    </tr>\n",
       "    <tr>\n",
       "      <th>5</th>\n",
       "      <td>NaN</td>\n",
       "      <td>NaN</td>\n",
       "      <td>Tony</td>\n",
       "      <td>Theguy</td>\n",
       "    </tr>\n",
       "  </tbody>\n",
       "</table>\n",
       "</div>"
      ],
      "text/plain": [
       "                email      full_name first      last\n",
       "0   janedoe@gmail.com       Jane Doe  Jane       Doe\n",
       "1  glassman@gmail.com  John Glassman  John  Glassman\n",
       "2    murfey@gmail.com    Jing Murfey  Jing    Murfey\n",
       "3       amy@gmail.com   Amy Anderson   Amy  Anderson\n",
       "4   johndoe@gmail.com       John Doe  John       Doe\n",
       "5                 NaN            NaN  Tony    Theguy"
      ]
     },
     "execution_count": 88,
     "metadata": {},
     "output_type": "execute_result"
    }
   ],
   "source": [
    "df6.append({'first':'Tony','last': 'Theguy'}, ignore_index=True)"
   ]
  },
  {
   "cell_type": "code",
   "execution_count": 90,
   "id": "4033e622",
   "metadata": {},
   "outputs": [],
   "source": [
    "people2 = {\n",
    "    'first':['Tony','Steve'],\n",
    "    'last':['Stark','Rogers'],\n",
    "    'email':['IronMan@avenge.com','Cap@avenge.com']\n",
    "}\n",
    "df_people2=pd.DataFrame(people2)"
   ]
  },
  {
   "cell_type": "markdown",
   "id": "2682c8b8",
   "metadata": {},
   "source": [
    "**Combine two dataframe**"
   ]
  },
  {
   "cell_type": "code",
   "execution_count": 93,
   "id": "05227b88",
   "metadata": {},
   "outputs": [
    {
     "data": {
      "text/html": [
       "<div>\n",
       "<style scoped>\n",
       "    .dataframe tbody tr th:only-of-type {\n",
       "        vertical-align: middle;\n",
       "    }\n",
       "\n",
       "    .dataframe tbody tr th {\n",
       "        vertical-align: top;\n",
       "    }\n",
       "\n",
       "    .dataframe thead th {\n",
       "        text-align: right;\n",
       "    }\n",
       "</style>\n",
       "<table border=\"1\" class=\"dataframe\">\n",
       "  <thead>\n",
       "    <tr style=\"text-align: right;\">\n",
       "      <th></th>\n",
       "      <th>email</th>\n",
       "      <th>full_name</th>\n",
       "      <th>first</th>\n",
       "      <th>last</th>\n",
       "    </tr>\n",
       "  </thead>\n",
       "  <tbody>\n",
       "    <tr>\n",
       "      <th>0</th>\n",
       "      <td>janedoe@gmail.com</td>\n",
       "      <td>Jane Doe</td>\n",
       "      <td>Jane</td>\n",
       "      <td>Doe</td>\n",
       "    </tr>\n",
       "    <tr>\n",
       "      <th>1</th>\n",
       "      <td>glassman@gmail.com</td>\n",
       "      <td>John Glassman</td>\n",
       "      <td>John</td>\n",
       "      <td>Glassman</td>\n",
       "    </tr>\n",
       "    <tr>\n",
       "      <th>2</th>\n",
       "      <td>murfey@gmail.com</td>\n",
       "      <td>Jing Murfey</td>\n",
       "      <td>Jing</td>\n",
       "      <td>Murfey</td>\n",
       "    </tr>\n",
       "    <tr>\n",
       "      <th>3</th>\n",
       "      <td>amy@gmail.com</td>\n",
       "      <td>Amy Anderson</td>\n",
       "      <td>Amy</td>\n",
       "      <td>Anderson</td>\n",
       "    </tr>\n",
       "    <tr>\n",
       "      <th>4</th>\n",
       "      <td>johndoe@gmail.com</td>\n",
       "      <td>John Doe</td>\n",
       "      <td>John</td>\n",
       "      <td>Doe</td>\n",
       "    </tr>\n",
       "    <tr>\n",
       "      <th>5</th>\n",
       "      <td>NaN</td>\n",
       "      <td>NaN</td>\n",
       "      <td>NaN</td>\n",
       "      <td>Steve</td>\n",
       "    </tr>\n",
       "    <tr>\n",
       "      <th>6</th>\n",
       "      <td>IronMan@avenge.com</td>\n",
       "      <td>NaN</td>\n",
       "      <td>Tony</td>\n",
       "      <td>Stark</td>\n",
       "    </tr>\n",
       "    <tr>\n",
       "      <th>7</th>\n",
       "      <td>Cap@avenge.com</td>\n",
       "      <td>NaN</td>\n",
       "      <td>Steve</td>\n",
       "      <td>Rogers</td>\n",
       "    </tr>\n",
       "    <tr>\n",
       "      <th>8</th>\n",
       "      <td>IronMan@avenge.com</td>\n",
       "      <td>NaN</td>\n",
       "      <td>Tony</td>\n",
       "      <td>Stark</td>\n",
       "    </tr>\n",
       "    <tr>\n",
       "      <th>9</th>\n",
       "      <td>Cap@avenge.com</td>\n",
       "      <td>NaN</td>\n",
       "      <td>Steve</td>\n",
       "      <td>Rogers</td>\n",
       "    </tr>\n",
       "  </tbody>\n",
       "</table>\n",
       "</div>"
      ],
      "text/plain": [
       "                email      full_name  first      last\n",
       "0   janedoe@gmail.com       Jane Doe   Jane       Doe\n",
       "1  glassman@gmail.com  John Glassman   John  Glassman\n",
       "2    murfey@gmail.com    Jing Murfey   Jing    Murfey\n",
       "3       amy@gmail.com   Amy Anderson    Amy  Anderson\n",
       "4   johndoe@gmail.com       John Doe   John       Doe\n",
       "5                 NaN            NaN    NaN     Steve\n",
       "6  IronMan@avenge.com            NaN   Tony     Stark\n",
       "7      Cap@avenge.com            NaN  Steve    Rogers\n",
       "8  IronMan@avenge.com            NaN   Tony     Stark\n",
       "9      Cap@avenge.com            NaN  Steve    Rogers"
      ]
     },
     "execution_count": 93,
     "metadata": {},
     "output_type": "execute_result"
    }
   ],
   "source": [
    "df6=df6.append(df_people2,ignore_index=True) # no inplace arguement\n",
    "df6"
   ]
  },
  {
   "cell_type": "markdown",
   "id": "eb89c69a",
   "metadata": {},
   "source": [
    "## 8.4 Remove rows\n",
    "\n",
    "`df.drop(index=4)`"
   ]
  },
  {
   "cell_type": "code",
   "execution_count": 98,
   "id": "cb9ce3ab",
   "metadata": {},
   "outputs": [
    {
     "data": {
      "text/html": [
       "<div>\n",
       "<style scoped>\n",
       "    .dataframe tbody tr th:only-of-type {\n",
       "        vertical-align: middle;\n",
       "    }\n",
       "\n",
       "    .dataframe tbody tr th {\n",
       "        vertical-align: top;\n",
       "    }\n",
       "\n",
       "    .dataframe thead th {\n",
       "        text-align: right;\n",
       "    }\n",
       "</style>\n",
       "<table border=\"1\" class=\"dataframe\">\n",
       "  <thead>\n",
       "    <tr style=\"text-align: right;\">\n",
       "      <th></th>\n",
       "      <th>email</th>\n",
       "      <th>full_name</th>\n",
       "      <th>first</th>\n",
       "      <th>last</th>\n",
       "    </tr>\n",
       "  </thead>\n",
       "  <tbody>\n",
       "    <tr>\n",
       "      <th>0</th>\n",
       "      <td>janedoe@gmail.com</td>\n",
       "      <td>Jane Doe</td>\n",
       "      <td>Jane</td>\n",
       "      <td>Doe</td>\n",
       "    </tr>\n",
       "    <tr>\n",
       "      <th>1</th>\n",
       "      <td>glassman@gmail.com</td>\n",
       "      <td>John Glassman</td>\n",
       "      <td>John</td>\n",
       "      <td>Glassman</td>\n",
       "    </tr>\n",
       "    <tr>\n",
       "      <th>2</th>\n",
       "      <td>murfey@gmail.com</td>\n",
       "      <td>Jing Murfey</td>\n",
       "      <td>Jing</td>\n",
       "      <td>Murfey</td>\n",
       "    </tr>\n",
       "    <tr>\n",
       "      <th>3</th>\n",
       "      <td>amy@gmail.com</td>\n",
       "      <td>Amy Anderson</td>\n",
       "      <td>Amy</td>\n",
       "      <td>Anderson</td>\n",
       "    </tr>\n",
       "    <tr>\n",
       "      <th>4</th>\n",
       "      <td>johndoe@gmail.com</td>\n",
       "      <td>John Doe</td>\n",
       "      <td>John</td>\n",
       "      <td>Doe</td>\n",
       "    </tr>\n",
       "    <tr>\n",
       "      <th>5</th>\n",
       "      <td>NaN</td>\n",
       "      <td>NaN</td>\n",
       "      <td>NaN</td>\n",
       "      <td>Steve</td>\n",
       "    </tr>\n",
       "    <tr>\n",
       "      <th>6</th>\n",
       "      <td>IronMan@avenge.com</td>\n",
       "      <td>NaN</td>\n",
       "      <td>Tony</td>\n",
       "      <td>Stark</td>\n",
       "    </tr>\n",
       "    <tr>\n",
       "      <th>8</th>\n",
       "      <td>IronMan@avenge.com</td>\n",
       "      <td>NaN</td>\n",
       "      <td>Tony</td>\n",
       "      <td>Stark</td>\n",
       "    </tr>\n",
       "  </tbody>\n",
       "</table>\n",
       "</div>"
      ],
      "text/plain": [
       "                email      full_name first      last\n",
       "0   janedoe@gmail.com       Jane Doe  Jane       Doe\n",
       "1  glassman@gmail.com  John Glassman  John  Glassman\n",
       "2    murfey@gmail.com    Jing Murfey  Jing    Murfey\n",
       "3       amy@gmail.com   Amy Anderson   Amy  Anderson\n",
       "4   johndoe@gmail.com       John Doe  John       Doe\n",
       "5                 NaN            NaN   NaN     Steve\n",
       "6  IronMan@avenge.com            NaN  Tony     Stark\n",
       "8  IronMan@avenge.com            NaN  Tony     Stark"
      ]
     },
     "execution_count": 98,
     "metadata": {},
     "output_type": "execute_result"
    }
   ],
   "source": [
    "df6.drop(index=df6[df6['first']=='Steve'].index)"
   ]
  },
  {
   "cell_type": "markdown",
   "id": "0e82fbab",
   "metadata": {},
   "source": [
    "# 9 Sorting Data \n",
    "\n",
    "1. `df.sort_value(by='col', ascending=False)`\n",
    "\n",
    "2. to change it back: `df.sort_index()`\n",
    "\n",
    "3. to sort values in a column: `df['col'].set_values()`\n",
    "\n",
    "4. to select the largest 10 values: `df['col'].nlargest(10)` or `df.nlargest(10,'col')`\n",
    "\n",
    "5. to select the smallest 10 values: `df['col'].nsmallest(10)` or `df.nsmallest(10,'col')`"
   ]
  },
  {
   "cell_type": "code",
   "execution_count": 99,
   "id": "b9568ded",
   "metadata": {},
   "outputs": [],
   "source": [
    "df9=df_people"
   ]
  },
  {
   "cell_type": "code",
   "execution_count": 101,
   "id": "da23f99c",
   "metadata": {},
   "outputs": [
    {
     "data": {
      "text/html": [
       "<div>\n",
       "<style scoped>\n",
       "    .dataframe tbody tr th:only-of-type {\n",
       "        vertical-align: middle;\n",
       "    }\n",
       "\n",
       "    .dataframe tbody tr th {\n",
       "        vertical-align: top;\n",
       "    }\n",
       "\n",
       "    .dataframe thead th {\n",
       "        text-align: right;\n",
       "    }\n",
       "</style>\n",
       "<table border=\"1\" class=\"dataframe\">\n",
       "  <thead>\n",
       "    <tr style=\"text-align: right;\">\n",
       "      <th></th>\n",
       "      <th>email</th>\n",
       "      <th>full_name</th>\n",
       "      <th>first</th>\n",
       "      <th>last</th>\n",
       "    </tr>\n",
       "  </thead>\n",
       "  <tbody>\n",
       "    <tr>\n",
       "      <th>5</th>\n",
       "      <td>NaN</td>\n",
       "      <td>NaN</td>\n",
       "      <td>NaN</td>\n",
       "      <td>Steve</td>\n",
       "    </tr>\n",
       "    <tr>\n",
       "      <th>2</th>\n",
       "      <td>murfey@gmail.com</td>\n",
       "      <td>Jing Murfey</td>\n",
       "      <td>Jing</td>\n",
       "      <td>Murfey</td>\n",
       "    </tr>\n",
       "    <tr>\n",
       "      <th>1</th>\n",
       "      <td>glassman@gmail.com</td>\n",
       "      <td>John Glassman</td>\n",
       "      <td>John</td>\n",
       "      <td>Glassman</td>\n",
       "    </tr>\n",
       "    <tr>\n",
       "      <th>0</th>\n",
       "      <td>janedoe@gmail.com</td>\n",
       "      <td>Jane Doe</td>\n",
       "      <td>Jane</td>\n",
       "      <td>Doe</td>\n",
       "    </tr>\n",
       "    <tr>\n",
       "      <th>4</th>\n",
       "      <td>johndoe@gmail.com</td>\n",
       "      <td>John Doe</td>\n",
       "      <td>John</td>\n",
       "      <td>Doe</td>\n",
       "    </tr>\n",
       "    <tr>\n",
       "      <th>3</th>\n",
       "      <td>amy@gmail.com</td>\n",
       "      <td>Amy Anderson</td>\n",
       "      <td>Amy</td>\n",
       "      <td>Anderson</td>\n",
       "    </tr>\n",
       "  </tbody>\n",
       "</table>\n",
       "</div>"
      ],
      "text/plain": [
       "                email      full_name first      last\n",
       "5                 NaN            NaN   NaN     Steve\n",
       "2    murfey@gmail.com    Jing Murfey  Jing    Murfey\n",
       "1  glassman@gmail.com  John Glassman  John  Glassman\n",
       "0   janedoe@gmail.com       Jane Doe  Jane       Doe\n",
       "4   johndoe@gmail.com       John Doe  John       Doe\n",
       "3       amy@gmail.com   Amy Anderson   Amy  Anderson"
      ]
     },
     "execution_count": 101,
     "metadata": {},
     "output_type": "execute_result"
    }
   ],
   "source": [
    "df9.sort_values(by='last', ascending=False)"
   ]
  },
  {
   "cell_type": "code",
   "execution_count": 102,
   "id": "6090fc36",
   "metadata": {},
   "outputs": [
    {
     "data": {
      "text/html": [
       "<div>\n",
       "<style scoped>\n",
       "    .dataframe tbody tr th:only-of-type {\n",
       "        vertical-align: middle;\n",
       "    }\n",
       "\n",
       "    .dataframe tbody tr th {\n",
       "        vertical-align: top;\n",
       "    }\n",
       "\n",
       "    .dataframe thead th {\n",
       "        text-align: right;\n",
       "    }\n",
       "</style>\n",
       "<table border=\"1\" class=\"dataframe\">\n",
       "  <thead>\n",
       "    <tr style=\"text-align: right;\">\n",
       "      <th></th>\n",
       "      <th>email</th>\n",
       "      <th>full_name</th>\n",
       "      <th>first</th>\n",
       "      <th>last</th>\n",
       "    </tr>\n",
       "  </thead>\n",
       "  <tbody>\n",
       "    <tr>\n",
       "      <th>5</th>\n",
       "      <td>NaN</td>\n",
       "      <td>NaN</td>\n",
       "      <td>NaN</td>\n",
       "      <td>Steve</td>\n",
       "    </tr>\n",
       "    <tr>\n",
       "      <th>2</th>\n",
       "      <td>murfey@gmail.com</td>\n",
       "      <td>Jing Murfey</td>\n",
       "      <td>Jing</td>\n",
       "      <td>Murfey</td>\n",
       "    </tr>\n",
       "    <tr>\n",
       "      <th>1</th>\n",
       "      <td>glassman@gmail.com</td>\n",
       "      <td>John Glassman</td>\n",
       "      <td>John</td>\n",
       "      <td>Glassman</td>\n",
       "    </tr>\n",
       "    <tr>\n",
       "      <th>4</th>\n",
       "      <td>johndoe@gmail.com</td>\n",
       "      <td>John Doe</td>\n",
       "      <td>John</td>\n",
       "      <td>Doe</td>\n",
       "    </tr>\n",
       "    <tr>\n",
       "      <th>0</th>\n",
       "      <td>janedoe@gmail.com</td>\n",
       "      <td>Jane Doe</td>\n",
       "      <td>Jane</td>\n",
       "      <td>Doe</td>\n",
       "    </tr>\n",
       "    <tr>\n",
       "      <th>3</th>\n",
       "      <td>amy@gmail.com</td>\n",
       "      <td>Amy Anderson</td>\n",
       "      <td>Amy</td>\n",
       "      <td>Anderson</td>\n",
       "    </tr>\n",
       "  </tbody>\n",
       "</table>\n",
       "</div>"
      ],
      "text/plain": [
       "                email      full_name first      last\n",
       "5                 NaN            NaN   NaN     Steve\n",
       "2    murfey@gmail.com    Jing Murfey  Jing    Murfey\n",
       "1  glassman@gmail.com  John Glassman  John  Glassman\n",
       "4   johndoe@gmail.com       John Doe  John       Doe\n",
       "0   janedoe@gmail.com       Jane Doe  Jane       Doe\n",
       "3       amy@gmail.com   Amy Anderson   Amy  Anderson"
      ]
     },
     "execution_count": 102,
     "metadata": {},
     "output_type": "execute_result"
    }
   ],
   "source": [
    "df9.sort_values(by=['last','first'], ascending=False)"
   ]
  },
  {
   "cell_type": "code",
   "execution_count": 104,
   "id": "ea42b00b",
   "metadata": {},
   "outputs": [],
   "source": [
    "df9.sort_values(by=['last','first'], ascending=[False,True], inplace=True)"
   ]
  },
  {
   "cell_type": "code",
   "execution_count": 105,
   "id": "8f122790",
   "metadata": {},
   "outputs": [
    {
     "data": {
      "text/html": [
       "<div>\n",
       "<style scoped>\n",
       "    .dataframe tbody tr th:only-of-type {\n",
       "        vertical-align: middle;\n",
       "    }\n",
       "\n",
       "    .dataframe tbody tr th {\n",
       "        vertical-align: top;\n",
       "    }\n",
       "\n",
       "    .dataframe thead th {\n",
       "        text-align: right;\n",
       "    }\n",
       "</style>\n",
       "<table border=\"1\" class=\"dataframe\">\n",
       "  <thead>\n",
       "    <tr style=\"text-align: right;\">\n",
       "      <th></th>\n",
       "      <th>email</th>\n",
       "      <th>full_name</th>\n",
       "      <th>first</th>\n",
       "      <th>last</th>\n",
       "    </tr>\n",
       "  </thead>\n",
       "  <tbody>\n",
       "    <tr>\n",
       "      <th>0</th>\n",
       "      <td>janedoe@gmail.com</td>\n",
       "      <td>Jane Doe</td>\n",
       "      <td>Jane</td>\n",
       "      <td>Doe</td>\n",
       "    </tr>\n",
       "    <tr>\n",
       "      <th>1</th>\n",
       "      <td>glassman@gmail.com</td>\n",
       "      <td>John Glassman</td>\n",
       "      <td>John</td>\n",
       "      <td>Glassman</td>\n",
       "    </tr>\n",
       "    <tr>\n",
       "      <th>2</th>\n",
       "      <td>murfey@gmail.com</td>\n",
       "      <td>Jing Murfey</td>\n",
       "      <td>Jing</td>\n",
       "      <td>Murfey</td>\n",
       "    </tr>\n",
       "    <tr>\n",
       "      <th>3</th>\n",
       "      <td>amy@gmail.com</td>\n",
       "      <td>Amy Anderson</td>\n",
       "      <td>Amy</td>\n",
       "      <td>Anderson</td>\n",
       "    </tr>\n",
       "    <tr>\n",
       "      <th>4</th>\n",
       "      <td>johndoe@gmail.com</td>\n",
       "      <td>John Doe</td>\n",
       "      <td>John</td>\n",
       "      <td>Doe</td>\n",
       "    </tr>\n",
       "    <tr>\n",
       "      <th>5</th>\n",
       "      <td>NaN</td>\n",
       "      <td>NaN</td>\n",
       "      <td>NaN</td>\n",
       "      <td>Steve</td>\n",
       "    </tr>\n",
       "  </tbody>\n",
       "</table>\n",
       "</div>"
      ],
      "text/plain": [
       "                email      full_name first      last\n",
       "0   janedoe@gmail.com       Jane Doe  Jane       Doe\n",
       "1  glassman@gmail.com  John Glassman  John  Glassman\n",
       "2    murfey@gmail.com    Jing Murfey  Jing    Murfey\n",
       "3       amy@gmail.com   Amy Anderson   Amy  Anderson\n",
       "4   johndoe@gmail.com       John Doe  John       Doe\n",
       "5                 NaN            NaN   NaN     Steve"
      ]
     },
     "execution_count": 105,
     "metadata": {},
     "output_type": "execute_result"
    }
   ],
   "source": [
    "df9.sort_index()"
   ]
  },
  {
   "cell_type": "code",
   "execution_count": 106,
   "id": "699c0282",
   "metadata": {},
   "outputs": [
    {
     "data": {
      "text/plain": [
       "3         amy@gmail.com\n",
       "1    glassman@gmail.com\n",
       "0     janedoe@gmail.com\n",
       "4     johndoe@gmail.com\n",
       "2      murfey@gmail.com\n",
       "5                   NaN\n",
       "Name: email, dtype: object"
      ]
     },
     "execution_count": 106,
     "metadata": {},
     "output_type": "execute_result"
    }
   ],
   "source": [
    "df9['email'].sort_values()"
   ]
  },
  {
   "cell_type": "markdown",
   "id": "455309fa",
   "metadata": {},
   "source": [
    "# 10 Grouping and Aggregating\n",
    "\n",
    "The notes are taken following this tutorial [video](https://www.youtube.com/watch?v=txMdrV1Ut64)\n",
    "\n",
    "\n",
    "## 10.1 Basic aggregation\n",
    "\n",
    "* Aggregating example: `df['col'].median()` ingoring NaN values\n",
    "\n",
    "    `df.median()` returns all the median number of numeric columns\n",
    "    \n",
    "    \n",
    "    \n",
    "* If one wants to look at the the descriptive statistic information of the whole dataframe: `df.describe()`\n",
    "\n",
    "    return count(non missing rows), mean, std, min, max, etc.\n",
    "\n",
    "\n",
    "* `df['col'].value_counts()` can count each response \n",
    "\n",
    "    normalization: `df['col'].value_counts(normalize=True)`\n",
    "\n",
    "## 10.2 Grouping\n",
    "\n",
    "`df.groupby(['col'])` returns a DataFrameGroupBy object, which can be assigned and then shown. For example,\n",
    "\n",
    "<code>country_grp = df.groupby(['col'])</code>\n",
    "\n",
    "</br>\n",
    "<code>country_grp.get_group('United States')</code>\n",
    "\n",
    "It is the same as a filter: `df.loc[df['country']=='United States']`\n",
    "\n",
    "\n",
    "If we want to look at the social media popularity in each country\n",
    "\n",
    "* `df.loc[df['country']=='United States']['SocialMedia'].value_counts()` only for one country\n",
    "\n",
    "* `country_grp['SocialMedia'].value_counts()` retunrs all the countries. The table will have two index levels.\n",
    "\n",
    "    We can still look at the specific coutry by `.loc[]` \n",
    "    \n",
    "    `country_grp['SocialMedia'].value_counts().loc['India']`\n",
    "\n",
    "### Groupby combined with aggregation functions\n",
    "\n",
    "* Looking at the median of salary in each countries: `country_grp['Salary'].median()`\n",
    "    For a specific country: `country_grp['Salary'].median().loc['Germany']`\n",
    "    \n",
    "    \n",
    "* **Multiple aggregation functions**: `country_grp['Salary'].agg(['median','mean']).loc['Germany']`\n",
    "\n",
    "### Apply() for DataFrameGroupby Object\n",
    "\n",
    "* If we want to look at how many responsers use Python as one of their working languages in a specific country: `df.loc[df['country']=='India']['LanguageWorkWith'].str.contains('Python').sum()`\n",
    "\n",
    "    `.sum()` can not only be used for numeric values but also for boolean type (True = 1, False = 0)\n",
    "    \n",
    "    \n",
    "* If we want to look at how many responsers use Python as one of their working languages in each country: `country_grp['LanguageWorkWith'].apply(lambda x: x.str.contains('Python').sum())`\n",
    "\n",
    " 1. The reason that `country_grp['LanguageWorkWith'].str.contains('Python').sum()` won't work because `.str.contrain()` only works for Series Objects, but `country_grp['LanguageWorkWith']` returns a DataFrameGroupBy Objects. Therefore, we need to use `.apply()`.\n",
    " \n",
    " 2. `lambda x` is a Series.\n",
    " \n",
    "    \n",
    "* To show what % of people from each country known Python?\n",
    "\n",
    " 1. Calculate the number of total repondents in each country: `country_respondentes = df['country'].value_counts()`\n",
    "\n",
    " 2. Calculate the number of repondents who use Python in each country: `country_uses_python=country_grp['LanguageWorkWith'].apply(lambda x: x.str.contains('Python').sum())`\n",
    "\n",
    " 3. Combine above two results together into one new dataframe: `python_df=pd.concat([country_respondentes, country_uses_python],axis=1,sort=False)`\n",
    " \n",
    " 4. Rename the column to make the column make sense: `python_df.rename(columns:{'Country':'NumResp','LanguagueWorkedWith':'NumPython'}, inplace=True)`\n",
    " \n",
    " 5. Calculate the percentage: `python_df['percKnownsPython']= (python_df['country_uses_python']/python_pd['country_respondentes'*100])`\n",
    "    \n",
    " 6. Sort the result: `python_df.sort_values(by='percKnownsPython', ascending=False, inplace=True)`\n",
    " \n",
    "\n"
   ]
  },
  {
   "cell_type": "markdown",
   "id": "8a3efdea",
   "metadata": {},
   "source": [
    "# 11 Cleaning Data\n",
    "\n",
    "## 11.1 Dealing with missing values\n",
    "\n",
    "### Drop NaN values\n",
    "\n",
    "**Check whether is a NaN**: `df.isna()`\n",
    "\n",
    "`df.dropna()` = `df.dropna(axis='index', how='any')`\n",
    "\n",
    "To each arguments: \n",
    "\n",
    "* `axis='index'` will drop the rows containing any NaN values, and `axis='columns'` will drop the columns containing any NaN values when `how='any'`\n",
    "\n",
    "* `how='all'` is the criteria, that is, the rows/columns are dropped only if all the values are NaN.\n",
    "\n",
    "\n",
    "### Drop the rows if missing values in a specific column\n",
    "\n",
    "For example, we allow the missing data in first name and last name, but it must have email address. Otherwise, we will drop the whole rows.\n",
    "\n",
    "`df.dropna(axis='index', how='any', subset='email')`\n",
    "\n",
    "### Fill the missing values with desired value\n",
    "\n",
    "`df.fillna('0')` useful for numerical data. E.g., set all missing value to zero."
   ]
  },
  {
   "cell_type": "code",
   "execution_count": 120,
   "id": "0e5902f1",
   "metadata": {},
   "outputs": [],
   "source": [
    "import numpy as np\n",
    "\n",
    "people_demo = {\n",
    "    'first':['Jane', 'John', 'Jing','Amy', np.nan, None, 'NA'],\n",
    "    'last':['Doe', 'Glassman', 'Murfey','Anderson', np.nan, np.nan, 'Missing'],\n",
    "    'email':['janedoe@gmail.com', 'glassman@gmail.com', 'murfey@gmail.com','amy@gmail.com',None, np.nan,'johndoe@gmail.com'],\n",
    "    'age':['35', '33', '31','36', None, '29','Missing']\n",
    "}"
   ]
  },
  {
   "cell_type": "code",
   "execution_count": 121,
   "id": "28c5b024",
   "metadata": {},
   "outputs": [
    {
     "data": {
      "text/html": [
       "<div>\n",
       "<style scoped>\n",
       "    .dataframe tbody tr th:only-of-type {\n",
       "        vertical-align: middle;\n",
       "    }\n",
       "\n",
       "    .dataframe tbody tr th {\n",
       "        vertical-align: top;\n",
       "    }\n",
       "\n",
       "    .dataframe thead th {\n",
       "        text-align: right;\n",
       "    }\n",
       "</style>\n",
       "<table border=\"1\" class=\"dataframe\">\n",
       "  <thead>\n",
       "    <tr style=\"text-align: right;\">\n",
       "      <th></th>\n",
       "      <th>first</th>\n",
       "      <th>last</th>\n",
       "      <th>email</th>\n",
       "      <th>age</th>\n",
       "    </tr>\n",
       "  </thead>\n",
       "  <tbody>\n",
       "    <tr>\n",
       "      <th>0</th>\n",
       "      <td>Jane</td>\n",
       "      <td>Doe</td>\n",
       "      <td>janedoe@gmail.com</td>\n",
       "      <td>35</td>\n",
       "    </tr>\n",
       "    <tr>\n",
       "      <th>1</th>\n",
       "      <td>John</td>\n",
       "      <td>Glassman</td>\n",
       "      <td>glassman@gmail.com</td>\n",
       "      <td>33</td>\n",
       "    </tr>\n",
       "    <tr>\n",
       "      <th>2</th>\n",
       "      <td>Jing</td>\n",
       "      <td>Murfey</td>\n",
       "      <td>murfey@gmail.com</td>\n",
       "      <td>31</td>\n",
       "    </tr>\n",
       "    <tr>\n",
       "      <th>3</th>\n",
       "      <td>Amy</td>\n",
       "      <td>Anderson</td>\n",
       "      <td>amy@gmail.com</td>\n",
       "      <td>36</td>\n",
       "    </tr>\n",
       "    <tr>\n",
       "      <th>4</th>\n",
       "      <td>NaN</td>\n",
       "      <td>NaN</td>\n",
       "      <td>None</td>\n",
       "      <td>None</td>\n",
       "    </tr>\n",
       "    <tr>\n",
       "      <th>5</th>\n",
       "      <td>None</td>\n",
       "      <td>NaN</td>\n",
       "      <td>NaN</td>\n",
       "      <td>29</td>\n",
       "    </tr>\n",
       "    <tr>\n",
       "      <th>6</th>\n",
       "      <td>NA</td>\n",
       "      <td>Missing</td>\n",
       "      <td>johndoe@gmail.com</td>\n",
       "      <td>Missing</td>\n",
       "    </tr>\n",
       "  </tbody>\n",
       "</table>\n",
       "</div>"
      ],
      "text/plain": [
       "  first      last               email      age\n",
       "0  Jane       Doe   janedoe@gmail.com       35\n",
       "1  John  Glassman  glassman@gmail.com       33\n",
       "2  Jing    Murfey    murfey@gmail.com       31\n",
       "3   Amy  Anderson       amy@gmail.com       36\n",
       "4   NaN       NaN                None     None\n",
       "5  None       NaN                 NaN       29\n",
       "6    NA   Missing   johndoe@gmail.com  Missing"
      ]
     },
     "execution_count": 121,
     "metadata": {},
     "output_type": "execute_result"
    }
   ],
   "source": [
    "df_demo = pd.DataFrame(people_demo)\n",
    "df_demo"
   ]
  },
  {
   "cell_type": "code",
   "execution_count": 122,
   "id": "6678a931",
   "metadata": {},
   "outputs": [
    {
     "data": {
      "text/html": [
       "<div>\n",
       "<style scoped>\n",
       "    .dataframe tbody tr th:only-of-type {\n",
       "        vertical-align: middle;\n",
       "    }\n",
       "\n",
       "    .dataframe tbody tr th {\n",
       "        vertical-align: top;\n",
       "    }\n",
       "\n",
       "    .dataframe thead th {\n",
       "        text-align: right;\n",
       "    }\n",
       "</style>\n",
       "<table border=\"1\" class=\"dataframe\">\n",
       "  <thead>\n",
       "    <tr style=\"text-align: right;\">\n",
       "      <th></th>\n",
       "      <th>first</th>\n",
       "      <th>last</th>\n",
       "      <th>email</th>\n",
       "      <th>age</th>\n",
       "    </tr>\n",
       "  </thead>\n",
       "  <tbody>\n",
       "    <tr>\n",
       "      <th>0</th>\n",
       "      <td>Jane</td>\n",
       "      <td>Doe</td>\n",
       "      <td>janedoe@gmail.com</td>\n",
       "      <td>35</td>\n",
       "    </tr>\n",
       "    <tr>\n",
       "      <th>1</th>\n",
       "      <td>John</td>\n",
       "      <td>Glassman</td>\n",
       "      <td>glassman@gmail.com</td>\n",
       "      <td>33</td>\n",
       "    </tr>\n",
       "    <tr>\n",
       "      <th>2</th>\n",
       "      <td>Jing</td>\n",
       "      <td>Murfey</td>\n",
       "      <td>murfey@gmail.com</td>\n",
       "      <td>31</td>\n",
       "    </tr>\n",
       "    <tr>\n",
       "      <th>3</th>\n",
       "      <td>Amy</td>\n",
       "      <td>Anderson</td>\n",
       "      <td>amy@gmail.com</td>\n",
       "      <td>36</td>\n",
       "    </tr>\n",
       "    <tr>\n",
       "      <th>6</th>\n",
       "      <td>NA</td>\n",
       "      <td>Missing</td>\n",
       "      <td>johndoe@gmail.com</td>\n",
       "      <td>Missing</td>\n",
       "    </tr>\n",
       "  </tbody>\n",
       "</table>\n",
       "</div>"
      ],
      "text/plain": [
       "  first      last               email      age\n",
       "0  Jane       Doe   janedoe@gmail.com       35\n",
       "1  John  Glassman  glassman@gmail.com       33\n",
       "2  Jing    Murfey    murfey@gmail.com       31\n",
       "3   Amy  Anderson       amy@gmail.com       36\n",
       "6    NA   Missing   johndoe@gmail.com  Missing"
      ]
     },
     "execution_count": 122,
     "metadata": {},
     "output_type": "execute_result"
    }
   ],
   "source": [
    "df_demo.dropna()"
   ]
  },
  {
   "cell_type": "code",
   "execution_count": 123,
   "id": "c020474e",
   "metadata": {},
   "outputs": [
    {
     "data": {
      "text/html": [
       "<div>\n",
       "<style scoped>\n",
       "    .dataframe tbody tr th:only-of-type {\n",
       "        vertical-align: middle;\n",
       "    }\n",
       "\n",
       "    .dataframe tbody tr th {\n",
       "        vertical-align: top;\n",
       "    }\n",
       "\n",
       "    .dataframe thead th {\n",
       "        text-align: right;\n",
       "    }\n",
       "</style>\n",
       "<table border=\"1\" class=\"dataframe\">\n",
       "  <thead>\n",
       "    <tr style=\"text-align: right;\">\n",
       "      <th></th>\n",
       "      <th>first</th>\n",
       "      <th>last</th>\n",
       "      <th>email</th>\n",
       "      <th>age</th>\n",
       "    </tr>\n",
       "  </thead>\n",
       "  <tbody>\n",
       "    <tr>\n",
       "      <th>0</th>\n",
       "      <td>Jane</td>\n",
       "      <td>Doe</td>\n",
       "      <td>janedoe@gmail.com</td>\n",
       "      <td>35</td>\n",
       "    </tr>\n",
       "    <tr>\n",
       "      <th>1</th>\n",
       "      <td>John</td>\n",
       "      <td>Glassman</td>\n",
       "      <td>glassman@gmail.com</td>\n",
       "      <td>33</td>\n",
       "    </tr>\n",
       "    <tr>\n",
       "      <th>2</th>\n",
       "      <td>Jing</td>\n",
       "      <td>Murfey</td>\n",
       "      <td>murfey@gmail.com</td>\n",
       "      <td>31</td>\n",
       "    </tr>\n",
       "    <tr>\n",
       "      <th>3</th>\n",
       "      <td>Amy</td>\n",
       "      <td>Anderson</td>\n",
       "      <td>amy@gmail.com</td>\n",
       "      <td>36</td>\n",
       "    </tr>\n",
       "    <tr>\n",
       "      <th>5</th>\n",
       "      <td>None</td>\n",
       "      <td>NaN</td>\n",
       "      <td>NaN</td>\n",
       "      <td>29</td>\n",
       "    </tr>\n",
       "    <tr>\n",
       "      <th>6</th>\n",
       "      <td>NA</td>\n",
       "      <td>Missing</td>\n",
       "      <td>johndoe@gmail.com</td>\n",
       "      <td>Missing</td>\n",
       "    </tr>\n",
       "  </tbody>\n",
       "</table>\n",
       "</div>"
      ],
      "text/plain": [
       "  first      last               email      age\n",
       "0  Jane       Doe   janedoe@gmail.com       35\n",
       "1  John  Glassman  glassman@gmail.com       33\n",
       "2  Jing    Murfey    murfey@gmail.com       31\n",
       "3   Amy  Anderson       amy@gmail.com       36\n",
       "5  None       NaN                 NaN       29\n",
       "6    NA   Missing   johndoe@gmail.com  Missing"
      ]
     },
     "execution_count": 123,
     "metadata": {},
     "output_type": "execute_result"
    }
   ],
   "source": [
    "df_demo.dropna(how='all')"
   ]
  },
  {
   "cell_type": "code",
   "execution_count": 129,
   "id": "3862fac6",
   "metadata": {},
   "outputs": [
    {
     "data": {
      "text/html": [
       "<div>\n",
       "<style scoped>\n",
       "    .dataframe tbody tr th:only-of-type {\n",
       "        vertical-align: middle;\n",
       "    }\n",
       "\n",
       "    .dataframe tbody tr th {\n",
       "        vertical-align: top;\n",
       "    }\n",
       "\n",
       "    .dataframe thead th {\n",
       "        text-align: right;\n",
       "    }\n",
       "</style>\n",
       "<table border=\"1\" class=\"dataframe\">\n",
       "  <thead>\n",
       "    <tr style=\"text-align: right;\">\n",
       "      <th></th>\n",
       "      <th>first</th>\n",
       "      <th>last</th>\n",
       "      <th>email</th>\n",
       "      <th>age</th>\n",
       "    </tr>\n",
       "  </thead>\n",
       "  <tbody>\n",
       "    <tr>\n",
       "      <th>0</th>\n",
       "      <td>Jane</td>\n",
       "      <td>Doe</td>\n",
       "      <td>janedoe@gmail.com</td>\n",
       "      <td>35</td>\n",
       "    </tr>\n",
       "    <tr>\n",
       "      <th>1</th>\n",
       "      <td>John</td>\n",
       "      <td>Glassman</td>\n",
       "      <td>glassman@gmail.com</td>\n",
       "      <td>33</td>\n",
       "    </tr>\n",
       "    <tr>\n",
       "      <th>2</th>\n",
       "      <td>Jing</td>\n",
       "      <td>Murfey</td>\n",
       "      <td>murfey@gmail.com</td>\n",
       "      <td>31</td>\n",
       "    </tr>\n",
       "    <tr>\n",
       "      <th>3</th>\n",
       "      <td>Amy</td>\n",
       "      <td>Anderson</td>\n",
       "      <td>amy@gmail.com</td>\n",
       "      <td>36</td>\n",
       "    </tr>\n",
       "    <tr>\n",
       "      <th>6</th>\n",
       "      <td>NA</td>\n",
       "      <td>Missing</td>\n",
       "      <td>johndoe@gmail.com</td>\n",
       "      <td>Missing</td>\n",
       "    </tr>\n",
       "  </tbody>\n",
       "</table>\n",
       "</div>"
      ],
      "text/plain": [
       "  first      last               email      age\n",
       "0  Jane       Doe   janedoe@gmail.com       35\n",
       "1  John  Glassman  glassman@gmail.com       33\n",
       "2  Jing    Murfey    murfey@gmail.com       31\n",
       "3   Amy  Anderson       amy@gmail.com       36\n",
       "6    NA   Missing   johndoe@gmail.com  Missing"
      ]
     },
     "execution_count": 129,
     "metadata": {},
     "output_type": "execute_result"
    }
   ],
   "source": [
    "df_demo.dropna(axis='index', how='all', subset=['email','last'])"
   ]
  },
  {
   "cell_type": "code",
   "execution_count": 130,
   "id": "c4c15bba",
   "metadata": {},
   "outputs": [],
   "source": [
    "df_demo.replace('NA',np.nan, inplace=True)\n",
    "df_demo.replace('Missing',np.nan, inplace=True)"
   ]
  },
  {
   "cell_type": "code",
   "execution_count": 131,
   "id": "e17fa1a3",
   "metadata": {},
   "outputs": [
    {
     "data": {
      "text/html": [
       "<div>\n",
       "<style scoped>\n",
       "    .dataframe tbody tr th:only-of-type {\n",
       "        vertical-align: middle;\n",
       "    }\n",
       "\n",
       "    .dataframe tbody tr th {\n",
       "        vertical-align: top;\n",
       "    }\n",
       "\n",
       "    .dataframe thead th {\n",
       "        text-align: right;\n",
       "    }\n",
       "</style>\n",
       "<table border=\"1\" class=\"dataframe\">\n",
       "  <thead>\n",
       "    <tr style=\"text-align: right;\">\n",
       "      <th></th>\n",
       "      <th>first</th>\n",
       "      <th>last</th>\n",
       "      <th>email</th>\n",
       "      <th>age</th>\n",
       "    </tr>\n",
       "  </thead>\n",
       "  <tbody>\n",
       "    <tr>\n",
       "      <th>0</th>\n",
       "      <td>Jane</td>\n",
       "      <td>Doe</td>\n",
       "      <td>janedoe@gmail.com</td>\n",
       "      <td>35</td>\n",
       "    </tr>\n",
       "    <tr>\n",
       "      <th>1</th>\n",
       "      <td>John</td>\n",
       "      <td>Glassman</td>\n",
       "      <td>glassman@gmail.com</td>\n",
       "      <td>33</td>\n",
       "    </tr>\n",
       "    <tr>\n",
       "      <th>2</th>\n",
       "      <td>Jing</td>\n",
       "      <td>Murfey</td>\n",
       "      <td>murfey@gmail.com</td>\n",
       "      <td>31</td>\n",
       "    </tr>\n",
       "    <tr>\n",
       "      <th>3</th>\n",
       "      <td>Amy</td>\n",
       "      <td>Anderson</td>\n",
       "      <td>amy@gmail.com</td>\n",
       "      <td>36</td>\n",
       "    </tr>\n",
       "    <tr>\n",
       "      <th>4</th>\n",
       "      <td>NaN</td>\n",
       "      <td>NaN</td>\n",
       "      <td>None</td>\n",
       "      <td>None</td>\n",
       "    </tr>\n",
       "    <tr>\n",
       "      <th>5</th>\n",
       "      <td>None</td>\n",
       "      <td>NaN</td>\n",
       "      <td>NaN</td>\n",
       "      <td>29</td>\n",
       "    </tr>\n",
       "    <tr>\n",
       "      <th>6</th>\n",
       "      <td>NaN</td>\n",
       "      <td>NaN</td>\n",
       "      <td>johndoe@gmail.com</td>\n",
       "      <td>NaN</td>\n",
       "    </tr>\n",
       "  </tbody>\n",
       "</table>\n",
       "</div>"
      ],
      "text/plain": [
       "  first      last               email   age\n",
       "0  Jane       Doe   janedoe@gmail.com    35\n",
       "1  John  Glassman  glassman@gmail.com    33\n",
       "2  Jing    Murfey    murfey@gmail.com    31\n",
       "3   Amy  Anderson       amy@gmail.com    36\n",
       "4   NaN       NaN                None  None\n",
       "5  None       NaN                 NaN    29\n",
       "6   NaN       NaN   johndoe@gmail.com   NaN"
      ]
     },
     "execution_count": 131,
     "metadata": {},
     "output_type": "execute_result"
    }
   ],
   "source": [
    "df_demo"
   ]
  },
  {
   "cell_type": "code",
   "execution_count": 132,
   "id": "d005537f",
   "metadata": {},
   "outputs": [
    {
     "data": {
      "text/html": [
       "<div>\n",
       "<style scoped>\n",
       "    .dataframe tbody tr th:only-of-type {\n",
       "        vertical-align: middle;\n",
       "    }\n",
       "\n",
       "    .dataframe tbody tr th {\n",
       "        vertical-align: top;\n",
       "    }\n",
       "\n",
       "    .dataframe thead th {\n",
       "        text-align: right;\n",
       "    }\n",
       "</style>\n",
       "<table border=\"1\" class=\"dataframe\">\n",
       "  <thead>\n",
       "    <tr style=\"text-align: right;\">\n",
       "      <th></th>\n",
       "      <th>first</th>\n",
       "      <th>last</th>\n",
       "      <th>email</th>\n",
       "      <th>age</th>\n",
       "    </tr>\n",
       "  </thead>\n",
       "  <tbody>\n",
       "    <tr>\n",
       "      <th>0</th>\n",
       "      <td>Jane</td>\n",
       "      <td>Doe</td>\n",
       "      <td>janedoe@gmail.com</td>\n",
       "      <td>35</td>\n",
       "    </tr>\n",
       "    <tr>\n",
       "      <th>1</th>\n",
       "      <td>John</td>\n",
       "      <td>Glassman</td>\n",
       "      <td>glassman@gmail.com</td>\n",
       "      <td>33</td>\n",
       "    </tr>\n",
       "    <tr>\n",
       "      <th>2</th>\n",
       "      <td>Jing</td>\n",
       "      <td>Murfey</td>\n",
       "      <td>murfey@gmail.com</td>\n",
       "      <td>31</td>\n",
       "    </tr>\n",
       "    <tr>\n",
       "      <th>3</th>\n",
       "      <td>Amy</td>\n",
       "      <td>Anderson</td>\n",
       "      <td>amy@gmail.com</td>\n",
       "      <td>36</td>\n",
       "    </tr>\n",
       "    <tr>\n",
       "      <th>6</th>\n",
       "      <td>NaN</td>\n",
       "      <td>NaN</td>\n",
       "      <td>johndoe@gmail.com</td>\n",
       "      <td>NaN</td>\n",
       "    </tr>\n",
       "  </tbody>\n",
       "</table>\n",
       "</div>"
      ],
      "text/plain": [
       "  first      last               email  age\n",
       "0  Jane       Doe   janedoe@gmail.com   35\n",
       "1  John  Glassman  glassman@gmail.com   33\n",
       "2  Jing    Murfey    murfey@gmail.com   31\n",
       "3   Amy  Anderson       amy@gmail.com   36\n",
       "6   NaN       NaN   johndoe@gmail.com  NaN"
      ]
     },
     "execution_count": 132,
     "metadata": {},
     "output_type": "execute_result"
    }
   ],
   "source": [
    "df_demo.dropna(axis='index', how='all', subset=['email','last'])"
   ]
  },
  {
   "cell_type": "markdown",
   "id": "68724e44",
   "metadata": {},
   "source": [
    "## 11.2 Casting missing values\n",
    "\n",
    "`'age'` is an object, which cannot do with math calculation, so we need to convert the data type.\n",
    "\n",
    "And `df['age'].astype(int)` won't work because `np.nan` value is a float type. `type(np.nan)`\n",
    "\n",
    "Instead, we can convert value under 'age' to a float: `df['age'].astype(float)`"
   ]
  },
  {
   "cell_type": "code",
   "execution_count": 133,
   "id": "32e96733",
   "metadata": {},
   "outputs": [
    {
     "data": {
      "text/plain": [
       "first    object\n",
       "last     object\n",
       "email    object\n",
       "age      object\n",
       "dtype: object"
      ]
     },
     "execution_count": 133,
     "metadata": {},
     "output_type": "execute_result"
    }
   ],
   "source": [
    "df_demo.dtypes"
   ]
  },
  {
   "cell_type": "code",
   "execution_count": 136,
   "id": "7121abc1",
   "metadata": {},
   "outputs": [],
   "source": [
    "df_demo['age']=df_demo['age'].astype(float)"
   ]
  },
  {
   "cell_type": "code",
   "execution_count": 138,
   "id": "7db0acbe",
   "metadata": {},
   "outputs": [
    {
     "data": {
      "text/plain": [
       "first     object\n",
       "last      object\n",
       "email     object\n",
       "age      float64\n",
       "dtype: object"
      ]
     },
     "execution_count": 138,
     "metadata": {},
     "output_type": "execute_result"
    }
   ],
   "source": [
    "df_demo.dtypes"
   ]
  },
  {
   "cell_type": "code",
   "execution_count": 141,
   "id": "911fc89d",
   "metadata": {},
   "outputs": [
    {
     "data": {
      "text/plain": [
       "32.800000000000004"
      ]
     },
     "execution_count": 141,
     "metadata": {},
     "output_type": "execute_result"
    }
   ],
   "source": [
    "df_demo['age'].mean()"
   ]
  },
  {
   "cell_type": "markdown",
   "id": "181878b2",
   "metadata": {},
   "source": [
    "## 11.3 Pass the specific missing value while importing file\n",
    "\n",
    "`df=pd.read_csv('path/filename.csv', index_col='Respondent',na_values=['NA','Missing'])`\n",
    "\n",
    "To check all unique values: `df['YearsCode'].unique()`"
   ]
  }
 ],
 "metadata": {
  "kernelspec": {
   "display_name": "Python 3 (ipykernel)",
   "language": "python",
   "name": "python3"
  },
  "language_info": {
   "codemirror_mode": {
    "name": "ipython",
    "version": 3
   },
   "file_extension": ".py",
   "mimetype": "text/x-python",
   "name": "python",
   "nbconvert_exporter": "python",
   "pygments_lexer": "ipython3",
   "version": "3.8.2"
  }
 },
 "nbformat": 4,
 "nbformat_minor": 5
}
