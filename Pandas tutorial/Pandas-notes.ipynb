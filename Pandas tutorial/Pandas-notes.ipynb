{
 "cells": [
  {
   "cell_type": "markdown",
   "id": "6947d76e",
   "metadata": {},
   "source": [
    "# 1 Install pandas\n",
    "\n",
    "`pip install pandas` in terminal\n",
    "\n",
    "# 2 Import pandas"
   ]
  },
  {
   "cell_type": "markdown",
   "id": "c93134a7",
   "metadata": {},
   "source": [
    "`import pandas as pd`\n",
    "\n",
    "Import csv file `df=pd.read_csv('path/file.csv')`\n",
    "\n",
    "return as a **dataframe**: rows and columns of data\n",
    "\n",
    "**Several ways to glance at your dataframe**\n",
    "\n",
    "`df.shape`\n",
    "\n",
    "`df.info()` a method, that's why we need a parenthesis\n",
    "\n",
    "*object usually means strings*\n",
    "\n",
    "`df.head()` `df.tail()`"
   ]
  },
  {
   "cell_type": "markdown",
   "id": "81b851e5",
   "metadata": {},
   "source": [
    "Pandas only show 20 columns as default, but if you want to change the setting.\n",
    "\n",
    "To change the number of displayed columns: `pd.set_option('display.max_columns',85)`\n",
    "\n",
    "To change the number of displayed rows: `pd.set_option('display.max_rows',85)`"
   ]
  },
  {
   "cell_type": "markdown",
   "id": "d69927a2",
   "metadata": {},
   "source": [
    "# 3 Compare to dataframe in Python (without pandas)\n",
    "\n",
    "In Python, we can create a dataframe directly by creating a dictionary of lists. \n",
    "\n",
    "Key is the column, value is the conetent in the columns, the corresponding list."
   ]
  },
  {
   "cell_type": "code",
   "execution_count": 4,
   "id": "5d292442",
   "metadata": {},
   "outputs": [],
   "source": [
    "import pandas as pd\n",
    "\n",
    "people = {\n",
    "    'first':['Jane', 'John', 'Jing','Amy'],\n",
    "    'last':['Doe', 'Glassman', 'Murfey','Anderson'],\n",
    "    'email':['janedoe@gmail.com', 'glassman@gmail.com', 'murfey@gmail.com','amy@gmail.com']\n",
    "}"
   ]
  },
  {
   "cell_type": "code",
   "execution_count": 5,
   "id": "a7eee854",
   "metadata": {},
   "outputs": [
    {
     "data": {
      "text/plain": [
       "['Jane', 'John', 'Jing', 'Amy']"
      ]
     },
     "execution_count": 5,
     "metadata": {},
     "output_type": "execute_result"
    }
   ],
   "source": [
    "people['first']"
   ]
  },
  {
   "cell_type": "code",
   "execution_count": 6,
   "id": "700891ff",
   "metadata": {},
   "outputs": [
    {
     "data": {
      "text/html": [
       "<div>\n",
       "<style scoped>\n",
       "    .dataframe tbody tr th:only-of-type {\n",
       "        vertical-align: middle;\n",
       "    }\n",
       "\n",
       "    .dataframe tbody tr th {\n",
       "        vertical-align: top;\n",
       "    }\n",
       "\n",
       "    .dataframe thead th {\n",
       "        text-align: right;\n",
       "    }\n",
       "</style>\n",
       "<table border=\"1\" class=\"dataframe\">\n",
       "  <thead>\n",
       "    <tr style=\"text-align: right;\">\n",
       "      <th></th>\n",
       "      <th>first</th>\n",
       "      <th>last</th>\n",
       "      <th>email</th>\n",
       "    </tr>\n",
       "  </thead>\n",
       "  <tbody>\n",
       "    <tr>\n",
       "      <th>0</th>\n",
       "      <td>Jane</td>\n",
       "      <td>Doe</td>\n",
       "      <td>janedoe@gmail.com</td>\n",
       "    </tr>\n",
       "    <tr>\n",
       "      <th>1</th>\n",
       "      <td>John</td>\n",
       "      <td>Glassman</td>\n",
       "      <td>glassman@gmail.com</td>\n",
       "    </tr>\n",
       "    <tr>\n",
       "      <th>2</th>\n",
       "      <td>Jing</td>\n",
       "      <td>Murfey</td>\n",
       "      <td>murfey@gmail.com</td>\n",
       "    </tr>\n",
       "    <tr>\n",
       "      <th>3</th>\n",
       "      <td>Amy</td>\n",
       "      <td>Anderson</td>\n",
       "      <td>amy@gmail.com</td>\n",
       "    </tr>\n",
       "  </tbody>\n",
       "</table>\n",
       "</div>"
      ],
      "text/plain": [
       "  first      last               email\n",
       "0  Jane       Doe   janedoe@gmail.com\n",
       "1  John  Glassman  glassman@gmail.com\n",
       "2  Jing    Murfey    murfey@gmail.com\n",
       "3   Amy  Anderson       amy@gmail.com"
      ]
     },
     "execution_count": 6,
     "metadata": {},
     "output_type": "execute_result"
    }
   ],
   "source": [
    "df_people=pd.DataFrame(people)\n",
    "df_people"
   ]
  },
  {
   "cell_type": "code",
   "execution_count": 7,
   "id": "dd9f58cc",
   "metadata": {},
   "outputs": [
    {
     "data": {
      "text/plain": [
       "0     janedoe@gmail.com\n",
       "1    glassman@gmail.com\n",
       "2      murfey@gmail.com\n",
       "3         amy@gmail.com\n",
       "Name: email, dtype: object"
      ]
     },
     "execution_count": 7,
     "metadata": {},
     "output_type": "execute_result"
    }
   ],
   "source": [
    "df_people['email']"
   ]
  },
  {
   "cell_type": "code",
   "execution_count": 8,
   "id": "91a797a2",
   "metadata": {},
   "outputs": [
    {
     "data": {
      "text/plain": [
       "pandas.core.series.Series"
      ]
     },
     "execution_count": 8,
     "metadata": {},
     "output_type": "execute_result"
    }
   ],
   "source": [
    "type(df_people['email'])"
   ]
  },
  {
   "cell_type": "markdown",
   "id": "d7cd42e0",
   "metadata": {},
   "source": [
    "return a series instead of a list: a rows of data, 1D dimension of data\n",
    "\n",
    "Dataframe contains actually multiple series object."
   ]
  },
  {
   "cell_type": "code",
   "execution_count": null,
   "id": "e409405f",
   "metadata": {},
   "outputs": [],
   "source": [
    "df_people.email"
   ]
  },
  {
   "cell_type": "markdown",
   "id": "84b65088",
   "metadata": {},
   "source": [
    "#pass a list, therefore must have an inner bracket.\n",
    "df_people[['first','email']]\n",
    "\n",
    "`df.columns` \n",
    "\n",
    "`df.iloc[0]` - searching by *integer location*, passing an index(0) of row\n",
    "\n",
    "`df.loc[]` - searching by the *label*\n",
    "\n",
    "`df.loc[0:2,'first':'email']`\n",
    "\n",
    "passing multiple rows - passing a list of index: `df.iloc[[0,1]]`"
   ]
  },
  {
   "cell_type": "code",
   "execution_count": null,
   "id": "c212320a",
   "metadata": {},
   "outputs": [],
   "source": [
    "df_people.iloc[[0,1]]"
   ]
  },
  {
   "cell_type": "code",
   "execution_count": null,
   "id": "2338aada",
   "metadata": {},
   "outputs": [],
   "source": [
    "#select the sepecific column\n",
    "df_people.iloc[[0,1],1]"
   ]
  },
  {
   "cell_type": "code",
   "execution_count": null,
   "id": "6efacef2",
   "metadata": {},
   "outputs": [],
   "source": [
    "df_people.loc[[0,1],['last','email']]"
   ]
  },
  {
   "cell_type": "code",
   "execution_count": null,
   "id": "a40cb7d0",
   "metadata": {},
   "outputs": [],
   "source": [
    "df_people.loc[0:2,'first':'email']"
   ]
  },
  {
   "cell_type": "markdown",
   "id": "67c2ad12",
   "metadata": {},
   "source": [
    "count the number of each response: `df['Hobbyist'].value_counts()`\n",
    "\n",
    "# How to set, reset and use Indexes"
   ]
  },
  {
   "cell_type": "code",
   "execution_count": null,
   "id": "059915b7",
   "metadata": {},
   "outputs": [],
   "source": [
    "df_people.set_index('email') #do not change the original df\n",
    "df_people.set_index('email', inplace=True) #change the original df index"
   ]
  },
  {
   "cell_type": "code",
   "execution_count": null,
   "id": "bab8ea6d",
   "metadata": {},
   "outputs": [],
   "source": [
    "df_people.index"
   ]
  },
  {
   "cell_type": "code",
   "execution_count": null,
   "id": "1a874e86",
   "metadata": {},
   "outputs": [],
   "source": [
    "df_people.loc['1'] #easy to search for the row"
   ]
  },
  {
   "cell_type": "code",
   "execution_count": null,
   "id": "d0baa33c",
   "metadata": {},
   "outputs": [],
   "source": [
    "df_people.reset_index(inplace=True)"
   ]
  },
  {
   "cell_type": "code",
   "execution_count": null,
   "id": "f645bba6",
   "metadata": {},
   "outputs": [],
   "source": [
    "df_people"
   ]
  },
  {
   "cell_type": "markdown",
   "id": "6651a09b",
   "metadata": {},
   "source": [
    "`df = pd.read_csv('path/file.csv', index_col='column_name')` setting index column while importing the file\n",
    "\n",
    "`df.sort_index(ascending=False, inplace=True)` sort index alphabetically"
   ]
  },
  {
   "cell_type": "markdown",
   "id": "dac5cb9d",
   "metadata": {},
   "source": [
    "# Filtering - Using conditionals to filter rows and columns\n"
   ]
  },
  {
   "cell_type": "code",
   "execution_count": null,
   "id": "4deb00fc",
   "metadata": {},
   "outputs": [],
   "source": [
    "filt = (df_people['last'] == 'Doe')\n",
    "\n",
    "#filt itselt is a series of boolean objects"
   ]
  },
  {
   "cell_type": "code",
   "execution_count": null,
   "id": "10ad388e",
   "metadata": {},
   "outputs": [],
   "source": [
    "df_people[filt]\n",
    "\n",
    "# same as df_people[df_people['last'] == 'Doe']\n",
    "\n",
    "df_people.loc[filt, 'email']"
   ]
  },
  {
   "cell_type": "code",
   "execution_count": null,
   "id": "e9000838",
   "metadata": {},
   "outputs": [],
   "source": [
    "filt1 = ((df_people['last'] == 'Doe')&(df_people['first']=='Jane'))\n",
    "df_people.loc[filt1]"
   ]
  },
  {
   "cell_type": "code",
   "execution_count": null,
   "id": "c1869a00",
   "metadata": {},
   "outputs": [],
   "source": [
    "filt2 = ((df_people['last'] == 'Doe')|(df_people['first']=='John'))\n",
    "df_people.loc[filt2]"
   ]
  },
  {
   "cell_type": "code",
   "execution_count": null,
   "id": "83009ad6",
   "metadata": {},
   "outputs": [],
   "source": [
    "df_people.loc[~filt2] #~filter2 returns an opposite result"
   ]
  },
  {
   "cell_type": "code",
   "execution_count": 9,
   "id": "12181a84",
   "metadata": {},
   "outputs": [],
   "source": [
    "lastname=['Glassman','Doe','Anderson']\n",
    "filt3=df_people['last'].isin(lastname)"
   ]
  },
  {
   "cell_type": "code",
   "execution_count": 11,
   "id": "5d16f3c6",
   "metadata": {},
   "outputs": [
    {
     "data": {
      "text/plain": [
       "0     janedoe@gmail.com\n",
       "1    glassman@gmail.com\n",
       "3         amy@gmail.com\n",
       "Name: email, dtype: object"
      ]
     },
     "execution_count": 11,
     "metadata": {},
     "output_type": "execute_result"
    }
   ],
   "source": [
    "df_people.loc[filt3, 'email']"
   ]
  },
  {
   "cell_type": "code",
   "execution_count": 17,
   "id": "0ae5bd4b",
   "metadata": {},
   "outputs": [
    {
     "data": {
      "text/plain": [
       "1    glassman@gmail.com\n",
       "Name: email, dtype: object"
      ]
     },
     "execution_count": 17,
     "metadata": {},
     "output_type": "execute_result"
    }
   ],
   "source": [
    "filt4=df_people['last'].str.contains('sm',na=False)\n",
    "df_people.loc[filt4, 'email']"
   ]
  },
  {
   "cell_type": "code",
   "execution_count": null,
   "id": "d1872327",
   "metadata": {},
   "outputs": [],
   "source": []
  }
 ],
 "metadata": {
  "kernelspec": {
   "display_name": "Python 3 (ipykernel)",
   "language": "python",
   "name": "python3"
  },
  "language_info": {
   "codemirror_mode": {
    "name": "ipython",
    "version": 3
   },
   "file_extension": ".py",
   "mimetype": "text/x-python",
   "name": "python",
   "nbconvert_exporter": "python",
   "pygments_lexer": "ipython3",
   "version": "3.8.2"
  }
 },
 "nbformat": 4,
 "nbformat_minor": 5
}
