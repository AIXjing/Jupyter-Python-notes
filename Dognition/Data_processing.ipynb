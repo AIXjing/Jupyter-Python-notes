{
 "cells": [
  {
   "cell_type": "code",
   "execution_count": 153,
   "id": "e934d23e",
   "metadata": {},
   "outputs": [],
   "source": [
    "%matplotlib inline\n",
    "import matplotlib.pyplot as plt"
   ]
  },
  {
   "cell_type": "markdown",
   "id": "5e8655a4",
   "metadata": {},
   "source": [
    "This magic takes an optional argument that specifies which Matplotlib backend should be used. Most of the time, in the Notebook, you will want to use the inline backend, which will embed plots inside the Notebook."
   ]
  },
  {
   "cell_type": "code",
   "execution_count": 1,
   "id": "4566cf60",
   "metadata": {},
   "outputs": [
    {
     "name": "stderr",
     "output_type": "stream",
     "text": [
      "/Users/jingai/workspace/energy-data/venv/lib/python3.8/site-packages/IPython/core/interactiveshell.py:3441: DtypeWarning: Columns (21,23,24,26,27) have mixed types.Specify dtype option on import or set low_memory=False.\n",
      "  exec(code_obj, self.user_global_ns, self.user_ns)\n",
      "/Users/jingai/workspace/energy-data/venv/lib/python3.8/site-packages/IPython/core/interactiveshell.py:3441: DtypeWarning: Columns (26,27,29) have mixed types.Specify dtype option on import or set low_memory=False.\n",
      "  exec(code_obj, self.user_global_ns, self.user_ns)\n"
     ]
    }
   ],
   "source": [
    "import pandas as pd\n",
    "df_user = pd.read_csv('dognition_user.csv', sep=';')\n",
    "df_dog = pd.read_csv('dognition_dog.csv', sep=';')"
   ]
  },
  {
   "cell_type": "code",
   "execution_count": 2,
   "id": "7087049c",
   "metadata": {},
   "outputs": [
    {
     "name": "stdout",
     "output_type": "stream",
     "text": [
      "Index(['Created_at', 'Updated_at', 'User_ID', 'Dog_ID', 'Test_name',\n",
      "       'Subcategory_name', 'Gender', 'Birthday', 'Breed', 'Breed_Type',\n",
      "       'Breed_Group', 'Weight', 'Dog_Fixed', 'DNA_Tested', 'Dimension',\n",
      "       'Sign_in_Count', 'Max_Dogs', 'Membership_ID', 'Subscribed', 'City',\n",
      "       'State', 'Zip', 'Country', 'Exclude', 'Free_Start_User',\n",
      "       'Last_Active_At', 'Membership_Type', 'Rating', 'Rank_by_UserID',\n",
      "       'Rank_by_DogID'],\n",
      "      dtype='object')\n",
      "Index(['Dog ID', 'Total Tests Completed', 'Mean ITI (days)',\n",
      "       'Mean ITI (minutes)', 'Median ITI (days)', 'Median ITI (minutes)',\n",
      "       'Time diff between first and last game (days)',\n",
      "       'Time diff between first and last game (minutes)', 'User ID', 'Gender',\n",
      "       'Birthday', 'Breed', 'Breed_Type', 'Breed_Group', 'Weight', 'Dog_Fixed',\n",
      "       'DNA_Tested', 'Dimension', 'Sign_in_Count', 'Max_Dogs', 'Membership_ID',\n",
      "       'Subscribed', 'City', 'State', 'Zip', 'Country', 'Exclude',\n",
      "       'Free_Start_User', 'Last_Active_At', 'Membership_Type', 'Unnamed: 30',\n",
      "       'Unnamed: 31'],\n",
      "      dtype='object')\n"
     ]
    }
   ],
   "source": [
    "print(df_user.columns)\n",
    "print(df_dog.columns)"
   ]
  },
  {
   "cell_type": "code",
   "execution_count": 20,
   "id": "e54bc952",
   "metadata": {},
   "outputs": [],
   "source": [
    "import sqlite3\n",
    "\n",
    "con=sqlite3.connect('/Users/jingai/workspace/Jupyter-Python-notes/Dognition/dognition.db')\n",
    "df_user.to_sql('user',con,if_exists='replace')\n",
    "df_dog.to_sql('dog',con,if_exists='replace')"
   ]
  },
  {
   "cell_type": "code",
   "execution_count": 21,
   "id": "03b10b87",
   "metadata": {},
   "outputs": [
    {
     "name": "stdout",
     "output_type": "stream",
     "text": [
      "The sql extension is already loaded. To reload it, use:\n",
      "  %reload_ext sql\n"
     ]
    }
   ],
   "source": [
    "%load_ext sql\n",
    "%sql sqlite:////Users/jingai/workspace/Jupyter-Python-notes/Dognition/dognition.db"
   ]
  },
  {
   "cell_type": "code",
   "execution_count": 22,
   "id": "15b9886e",
   "metadata": {},
   "outputs": [
    {
     "name": "stdout",
     "output_type": "stream",
     "text": [
      "   sqlite:////Users/jingai/workspace/Jupyter-Python-notes/Dognition/dog.db\n",
      " * sqlite:////Users/jingai/workspace/Jupyter-Python-notes/Dognition/dognition.db\n",
      "   sqlite:////Users/jingai/workspace/Jupyter-Python-notes/Dognition/user.db\n",
      "Done.\n"
     ]
    },
    {
     "data": {
      "text/html": [
       "<table>\n",
       "    <tr>\n",
       "        <th>index</th>\n",
       "        <th>Created_at</th>\n",
       "        <th>Updated_at</th>\n",
       "        <th>User_ID</th>\n",
       "        <th>Dog_ID</th>\n",
       "        <th>Test_name</th>\n",
       "        <th>Subcategory_name</th>\n",
       "        <th>Gender</th>\n",
       "        <th>Birthday</th>\n",
       "        <th>Breed</th>\n",
       "        <th>Breed_Type</th>\n",
       "        <th>Breed_Group</th>\n",
       "        <th>Weight</th>\n",
       "        <th>Dog_Fixed</th>\n",
       "        <th>DNA_Tested</th>\n",
       "        <th>Dimension</th>\n",
       "        <th>Sign_in_Count</th>\n",
       "        <th>Max_Dogs</th>\n",
       "        <th>Membership_ID</th>\n",
       "        <th>Subscribed</th>\n",
       "        <th>City</th>\n",
       "        <th>State</th>\n",
       "        <th>Zip</th>\n",
       "        <th>Country</th>\n",
       "        <th>Exclude</th>\n",
       "        <th>Free_Start_User</th>\n",
       "        <th>Last_Active_At</th>\n",
       "        <th>Membership_Type</th>\n",
       "        <th>Rating</th>\n",
       "        <th>Rank_by_UserID</th>\n",
       "        <th>Rank_by_DogID</th>\n",
       "    </tr>\n",
       "    <tr>\n",
       "        <td>0</td>\n",
       "        <td>5/13/13 16:17</td>\n",
       "        <td>5/13/13 16:17</td>\n",
       "        <td>ce134a78-7144-11e5-ba71-058fbc01cf0b</td>\n",
       "        <td>fd3d1b44-7144-11e5-ba71-058fbc01cf0b</td>\n",
       "        <td>Yawn Warm-up</td>\n",
       "        <td>Empathy</td>\n",
       "        <td>male</td>\n",
       "        <td>2009</td>\n",
       "        <td>Shih Tzu</td>\n",
       "        <td>Pure Breed</td>\n",
       "        <td>Toy</td>\n",
       "        <td>190</td>\n",
       "        <td>1.0</td>\n",
       "        <td>0.0</td>\n",
       "        <td>einstein</td>\n",
       "        <td>310</td>\n",
       "        <td>3</td>\n",
       "        <td>2.0</td>\n",
       "        <td>1</td>\n",
       "        <td>Durham</td>\n",
       "        <td>NC</td>\n",
       "        <td>27701</td>\n",
       "        <td>US</td>\n",
       "        <td>1.0</td>\n",
       "        <td>0.0</td>\n",
       "        <td>2/23/15 13:39</td>\n",
       "        <td>2</td>\n",
       "        <td>None</td>\n",
       "        <td>1.0</td>\n",
       "        <td>1.0</td>\n",
       "    </tr>\n",
       "    <tr>\n",
       "        <td>1</td>\n",
       "        <td>5/22/13 18:54</td>\n",
       "        <td>5/22/13 18:54</td>\n",
       "        <td>ce134a78-7144-11e5-ba71-058fbc01cf0b</td>\n",
       "        <td>fd3d1b44-7144-11e5-ba71-058fbc01cf0b</td>\n",
       "        <td>Yawn Game</td>\n",
       "        <td>Empathy</td>\n",
       "        <td>male</td>\n",
       "        <td>2009</td>\n",
       "        <td>Shih Tzu</td>\n",
       "        <td>Pure Breed</td>\n",
       "        <td>Toy</td>\n",
       "        <td>190</td>\n",
       "        <td>1.0</td>\n",
       "        <td>0.0</td>\n",
       "        <td>einstein</td>\n",
       "        <td>310</td>\n",
       "        <td>3</td>\n",
       "        <td>2.0</td>\n",
       "        <td>1</td>\n",
       "        <td>Durham</td>\n",
       "        <td>NC</td>\n",
       "        <td>27701</td>\n",
       "        <td>US</td>\n",
       "        <td>1.0</td>\n",
       "        <td>0.0</td>\n",
       "        <td>2/23/15 13:39</td>\n",
       "        <td>2</td>\n",
       "        <td>None</td>\n",
       "        <td>2.0</td>\n",
       "        <td>2.0</td>\n",
       "    </tr>\n",
       "    <tr>\n",
       "        <td>2</td>\n",
       "        <td>5/22/13 18:55</td>\n",
       "        <td>5/22/13 18:55</td>\n",
       "        <td>ce134a78-7144-11e5-ba71-058fbc01cf0b</td>\n",
       "        <td>fd3d1b44-7144-11e5-ba71-058fbc01cf0b</td>\n",
       "        <td>Eye Contact Warm-up</td>\n",
       "        <td>Empathy</td>\n",
       "        <td>male</td>\n",
       "        <td>2009</td>\n",
       "        <td>Shih Tzu</td>\n",
       "        <td>Pure Breed</td>\n",
       "        <td>Toy</td>\n",
       "        <td>190</td>\n",
       "        <td>1.0</td>\n",
       "        <td>0.0</td>\n",
       "        <td>einstein</td>\n",
       "        <td>310</td>\n",
       "        <td>3</td>\n",
       "        <td>2.0</td>\n",
       "        <td>1</td>\n",
       "        <td>Durham</td>\n",
       "        <td>NC</td>\n",
       "        <td>27701</td>\n",
       "        <td>US</td>\n",
       "        <td>1.0</td>\n",
       "        <td>0.0</td>\n",
       "        <td>2/23/15 13:39</td>\n",
       "        <td>2</td>\n",
       "        <td>None</td>\n",
       "        <td>3.0</td>\n",
       "        <td>3.0</td>\n",
       "    </tr>\n",
       "    <tr>\n",
       "        <td>3</td>\n",
       "        <td>5/22/13 18:56</td>\n",
       "        <td>5/22/13 18:56</td>\n",
       "        <td>ce134a78-7144-11e5-ba71-058fbc01cf0b</td>\n",
       "        <td>fd3d1b44-7144-11e5-ba71-058fbc01cf0b</td>\n",
       "        <td>Eye Contact Game</td>\n",
       "        <td>Empathy</td>\n",
       "        <td>male</td>\n",
       "        <td>2009</td>\n",
       "        <td>Shih Tzu</td>\n",
       "        <td>Pure Breed</td>\n",
       "        <td>Toy</td>\n",
       "        <td>190</td>\n",
       "        <td>1.0</td>\n",
       "        <td>0.0</td>\n",
       "        <td>einstein</td>\n",
       "        <td>310</td>\n",
       "        <td>3</td>\n",
       "        <td>2.0</td>\n",
       "        <td>1</td>\n",
       "        <td>Durham</td>\n",
       "        <td>NC</td>\n",
       "        <td>27701</td>\n",
       "        <td>US</td>\n",
       "        <td>1.0</td>\n",
       "        <td>0.0</td>\n",
       "        <td>2/23/15 13:39</td>\n",
       "        <td>2</td>\n",
       "        <td>None</td>\n",
       "        <td>4.0</td>\n",
       "        <td>4.0</td>\n",
       "    </tr>\n",
       "    <tr>\n",
       "        <td>4</td>\n",
       "        <td>5/22/13 18:58</td>\n",
       "        <td>5/22/13 18:58</td>\n",
       "        <td>ce134a78-7144-11e5-ba71-058fbc01cf0b</td>\n",
       "        <td>fd3d1b44-7144-11e5-ba71-058fbc01cf0b</td>\n",
       "        <td>Treat Warm-up</td>\n",
       "        <td>Communication</td>\n",
       "        <td>male</td>\n",
       "        <td>2009</td>\n",
       "        <td>Shih Tzu</td>\n",
       "        <td>Pure Breed</td>\n",
       "        <td>Toy</td>\n",
       "        <td>190</td>\n",
       "        <td>1.0</td>\n",
       "        <td>0.0</td>\n",
       "        <td>einstein</td>\n",
       "        <td>310</td>\n",
       "        <td>3</td>\n",
       "        <td>2.0</td>\n",
       "        <td>1</td>\n",
       "        <td>Durham</td>\n",
       "        <td>NC</td>\n",
       "        <td>27701</td>\n",
       "        <td>US</td>\n",
       "        <td>1.0</td>\n",
       "        <td>0.0</td>\n",
       "        <td>2/23/15 13:39</td>\n",
       "        <td>2</td>\n",
       "        <td>None</td>\n",
       "        <td>5.0</td>\n",
       "        <td>5.0</td>\n",
       "    </tr>\n",
       "</table>"
      ],
      "text/plain": [
       "[(0, '5/13/13 16:17', '5/13/13 16:17', 'ce134a78-7144-11e5-ba71-058fbc01cf0b', 'fd3d1b44-7144-11e5-ba71-058fbc01cf0b', 'Yawn Warm-up', 'Empathy', 'male', 2009, 'Shih Tzu', 'Pure Breed', 'Toy', 190, 1.0, 0.0, 'einstein', 310, 3, 2.0, 1, 'Durham', 'NC', '27701', 'US', '1.0', '0.0', '2/23/15 13:39', '2', None, 1.0, 1.0),\n",
       " (1, '5/22/13 18:54', '5/22/13 18:54', 'ce134a78-7144-11e5-ba71-058fbc01cf0b', 'fd3d1b44-7144-11e5-ba71-058fbc01cf0b', 'Yawn Game', 'Empathy', 'male', 2009, 'Shih Tzu', 'Pure Breed', 'Toy', 190, 1.0, 0.0, 'einstein', 310, 3, 2.0, 1, 'Durham', 'NC', '27701', 'US', '1.0', '0.0', '2/23/15 13:39', '2', None, 2.0, 2.0),\n",
       " (2, '5/22/13 18:55', '5/22/13 18:55', 'ce134a78-7144-11e5-ba71-058fbc01cf0b', 'fd3d1b44-7144-11e5-ba71-058fbc01cf0b', 'Eye Contact Warm-up', 'Empathy', 'male', 2009, 'Shih Tzu', 'Pure Breed', 'Toy', 190, 1.0, 0.0, 'einstein', 310, 3, 2.0, 1, 'Durham', 'NC', '27701', 'US', '1.0', '0.0', '2/23/15 13:39', '2', None, 3.0, 3.0),\n",
       " (3, '5/22/13 18:56', '5/22/13 18:56', 'ce134a78-7144-11e5-ba71-058fbc01cf0b', 'fd3d1b44-7144-11e5-ba71-058fbc01cf0b', 'Eye Contact Game', 'Empathy', 'male', 2009, 'Shih Tzu', 'Pure Breed', 'Toy', 190, 1.0, 0.0, 'einstein', 310, 3, 2.0, 1, 'Durham', 'NC', '27701', 'US', '1.0', '0.0', '2/23/15 13:39', '2', None, 4.0, 4.0),\n",
       " (4, '5/22/13 18:58', '5/22/13 18:58', 'ce134a78-7144-11e5-ba71-058fbc01cf0b', 'fd3d1b44-7144-11e5-ba71-058fbc01cf0b', 'Treat Warm-up', 'Communication', 'male', 2009, 'Shih Tzu', 'Pure Breed', 'Toy', 190, 1.0, 0.0, 'einstein', 310, 3, 2.0, 1, 'Durham', 'NC', '27701', 'US', '1.0', '0.0', '2/23/15 13:39', '2', None, 5.0, 5.0)]"
      ]
     },
     "execution_count": 22,
     "metadata": {},
     "output_type": "execute_result"
    }
   ],
   "source": [
    "%%sql\n",
    "\n",
    "select * from 'user' limit 5"
   ]
  },
  {
   "cell_type": "code",
   "execution_count": 50,
   "id": "927b8bf9",
   "metadata": {},
   "outputs": [
    {
     "name": "stdout",
     "output_type": "stream",
     "text": [
      "   sqlite:////Users/jingai/workspace/Jupyter-Python-notes/Dognition/dog.db\n",
      " * sqlite:////Users/jingai/workspace/Jupyter-Python-notes/Dognition/dognition.db\n",
      "   sqlite:////Users/jingai/workspace/Jupyter-Python-notes/Dognition/user.db\n",
      "Done.\n"
     ]
    },
    {
     "data": {
      "text/html": [
       "<table>\n",
       "    <tr>\n",
       "        <th>index</th>\n",
       "        <th>Dog ID</th>\n",
       "        <th>Total Tests Completed</th>\n",
       "        <th>Mean ITI (days)</th>\n",
       "        <th>Mean ITI (minutes)</th>\n",
       "        <th>Median ITI (days)</th>\n",
       "        <th>Median ITI (minutes)</th>\n",
       "        <th>Time diff between first and last game (days)</th>\n",
       "        <th>Time diff between first and last game (minutes)</th>\n",
       "        <th>User ID</th>\n",
       "        <th>Gender</th>\n",
       "        <th>Birthday</th>\n",
       "        <th>Breed</th>\n",
       "        <th>Breed_Type</th>\n",
       "        <th>Breed_Group</th>\n",
       "        <th>Weight</th>\n",
       "        <th>Dog_Fixed</th>\n",
       "        <th>DNA_Tested</th>\n",
       "        <th>Dimension</th>\n",
       "        <th>Sign_in_Count</th>\n",
       "        <th>Max_Dogs</th>\n",
       "        <th>Membership_ID</th>\n",
       "        <th>Subscribed</th>\n",
       "        <th>City</th>\n",
       "        <th>State</th>\n",
       "        <th>Zip</th>\n",
       "        <th>Country</th>\n",
       "        <th>Exclude</th>\n",
       "        <th>Free_Start_User</th>\n",
       "        <th>Last_Active_At</th>\n",
       "        <th>Membership_Type</th>\n",
       "        <th>Unnamed: 30</th>\n",
       "        <th>Unnamed: 31</th>\n",
       "    </tr>\n",
       "    <tr>\n",
       "        <td>0</td>\n",
       "        <td>fd27b272-7144-11e5-ba71-058fbc01cf0b</td>\n",
       "        <td>21</td>\n",
       "        <td>28,2010758101824</td>\n",
       "        <td>40609,5491666627</td>\n",
       "        <td>0,00468749995196307</td>\n",
       "        <td>6,74999993082682</td>\n",
       "        <td>564,021516203647</td>\n",
       "        <td>812190,983333252</td>\n",
       "        <td>ce134e42-7144-11e5-ba71-058fbc01cf0b</td>\n",
       "        <td>female</td>\n",
       "        <td>2011.0</td>\n",
       "        <td>Labrador Retriever</td>\n",
       "        <td>Pure Breed</td>\n",
       "        <td>Sporting</td>\n",
       "        <td>50.0</td>\n",
       "        <td>1.0</td>\n",
       "        <td>0.0</td>\n",
       "        <td>charmer</td>\n",
       "        <td>14.0</td>\n",
       "        <td>2.0</td>\n",
       "        <td>2.0</td>\n",
       "        <td>1.0</td>\n",
       "        <td>Grand Forks</td>\n",
       "        <td>ND</td>\n",
       "        <td>58201</td>\n",
       "        <td>US</td>\n",
       "        <td>0</td>\n",
       "        <td>0</td>\n",
       "        <td>03/12/2015 12:25:00 AM</td>\n",
       "        <td>2</td>\n",
       "        <td>None</td>\n",
       "        <td>None</td>\n",
       "    </tr>\n",
       "    <tr>\n",
       "        <td>1</td>\n",
       "        <td>fd27b5ba-7144-11e5-ba71-058fbc01cf0b</td>\n",
       "        <td>20</td>\n",
       "        <td>0,413307139374136</td>\n",
       "        <td>595,162280698756</td>\n",
       "        <td>0,00584490748652705</td>\n",
       "        <td>8,41666678059895</td>\n",
       "        <td>7,85283564810859</td>\n",
       "        <td>11308,0833332764</td>\n",
       "        <td>ce1353d8-7144-11e5-ba71-058fbc01cf0b</td>\n",
       "        <td>male</td>\n",
       "        <td>2007.0</td>\n",
       "        <td>Shetland Sheepdog</td>\n",
       "        <td>Pure Breed</td>\n",
       "        <td>Herding</td>\n",
       "        <td>20.0</td>\n",
       "        <td>1.0</td>\n",
       "        <td>0.0</td>\n",
       "        <td>protodog</td>\n",
       "        <td>8.0</td>\n",
       "        <td>2.0</td>\n",
       "        <td>1.0</td>\n",
       "        <td>1.0</td>\n",
       "        <td>Barre</td>\n",
       "        <td>MA</td>\n",
       "        <td>01005</td>\n",
       "        <td>US</td>\n",
       "        <td>0</td>\n",
       "        <td>0</td>\n",
       "        <td>12/31/1899 12:00:00 AM</td>\n",
       "        <td>1</td>\n",
       "        <td>None</td>\n",
       "        <td>None</td>\n",
       "    </tr>\n",
       "    <tr>\n",
       "        <td>2</td>\n",
       "        <td>fd27b6b4-7144-11e5-ba71-058fbc01cf0b</td>\n",
       "        <td>2</td>\n",
       "        <td>0,00913194450660988</td>\n",
       "        <td>13,1500000895182</td>\n",
       "        <td>0,00913194450660988</td>\n",
       "        <td>13,1500000895182</td>\n",
       "        <td>0,00913194450660988</td>\n",
       "        <td>13,1500000895182</td>\n",
       "        <td>ce135ab8-7144-11e5-ba71-058fbc01cf0b</td>\n",
       "        <td>male</td>\n",
       "        <td>2012.0</td>\n",
       "        <td>Golden Retriever</td>\n",
       "        <td>Pure Breed</td>\n",
       "        <td>Sporting</td>\n",
       "        <td>70.0</td>\n",
       "        <td>0.0</td>\n",
       "        <td>1.0</td>\n",
       "        <td>0</td>\n",
       "        <td>3.0</td>\n",
       "        <td>1.0</td>\n",
       "        <td>1.0</td>\n",
       "        <td>1.0</td>\n",
       "        <td>Darien</td>\n",
       "        <td>CT</td>\n",
       "        <td>06820</td>\n",
       "        <td>US</td>\n",
       "        <td>0</td>\n",
       "        <td>0</td>\n",
       "        <td>12/31/1899 12:00:00 AM</td>\n",
       "        <td>1</td>\n",
       "        <td>None</td>\n",
       "        <td>None</td>\n",
       "    </tr>\n",
       "    <tr>\n",
       "        <td>3</td>\n",
       "        <td>fd27b79a-7144-11e5-ba71-058fbc01cf0b</td>\n",
       "        <td>11</td>\n",
       "        <td>56,1151793981433</td>\n",
       "        <td>80805,8583333264</td>\n",
       "        <td>0,00443287036471897</td>\n",
       "        <td>6,38333332519532</td>\n",
       "        <td>561,151793981433</td>\n",
       "        <td>808058,583333264</td>\n",
       "        <td>ce13507c-7144-11e5-ba71-058fbc01cf0b</td>\n",
       "        <td>male</td>\n",
       "        <td>2011.0</td>\n",
       "        <td>Golden Retriever</td>\n",
       "        <td>Pure Breed</td>\n",
       "        <td>Sporting</td>\n",
       "        <td>70.0</td>\n",
       "        <td>0.0</td>\n",
       "        <td>0.0</td>\n",
       "        <td>0</td>\n",
       "        <td>21.0</td>\n",
       "        <td>1.0</td>\n",
       "        <td>1.0</td>\n",
       "        <td>1.0</td>\n",
       "        <td>Winnetka</td>\n",
       "        <td>IL</td>\n",
       "        <td>60093</td>\n",
       "        <td>US</td>\n",
       "        <td>0</td>\n",
       "        <td>0</td>\n",
       "        <td>09/12/2014 07:26:00 PM</td>\n",
       "        <td>1</td>\n",
       "        <td>None</td>\n",
       "        <td>None</td>\n",
       "    </tr>\n",
       "    <tr>\n",
       "        <td>4</td>\n",
       "        <td>fd27b86c-7144-11e5-ba71-058fbc01cf0b</td>\n",
       "        <td>31</td>\n",
       "        <td>7,73425424383027</td>\n",
       "        <td>11137,3261111156</td>\n",
       "        <td>0,000399305544252749</td>\n",
       "        <td>0,574999983723959</td>\n",
       "        <td>232,027627314908</td>\n",
       "        <td>334119,783333468</td>\n",
       "        <td>ce135e14-7144-11e5-ba71-058fbc01cf0b</td>\n",
       "        <td>female</td>\n",
       "        <td>2010.0</td>\n",
       "        <td>Shih Tzu</td>\n",
       "        <td>Pure Breed</td>\n",
       "        <td>Toy</td>\n",
       "        <td>190.0</td>\n",
       "        <td>0.0</td>\n",
       "        <td>0.0</td>\n",
       "        <td>einstein</td>\n",
       "        <td>181.0</td>\n",
       "        <td>13.0</td>\n",
       "        <td>2.0</td>\n",
       "        <td>1.0</td>\n",
       "        <td>Raleigh</td>\n",
       "        <td>NC</td>\n",
       "        <td>27606</td>\n",
       "        <td>US</td>\n",
       "        <td>1</td>\n",
       "        <td>0</td>\n",
       "        <td>12/31/1899 12:00:00 AM</td>\n",
       "        <td>2</td>\n",
       "        <td>None</td>\n",
       "        <td>None</td>\n",
       "    </tr>\n",
       "</table>"
      ],
      "text/plain": [
       "[(0, 'fd27b272-7144-11e5-ba71-058fbc01cf0b', 21, '28,2010758101824', '40609,5491666627', '0,00468749995196307', '6,74999993082682', '564,021516203647', '812190,983333252', 'ce134e42-7144-11e5-ba71-058fbc01cf0b', 'female', 2011.0, 'Labrador Retriever', 'Pure Breed', 'Sporting', 50.0, 1.0, 0.0, 'charmer', 14.0, 2.0, 2.0, 1.0, 'Grand Forks', 'ND', '58201', 'US', '0', '0', '03/12/2015 12:25:00 AM', '2', None, None),\n",
       " (1, 'fd27b5ba-7144-11e5-ba71-058fbc01cf0b', 20, '0,413307139374136', '595,162280698756', '0,00584490748652705', '8,41666678059895', '7,85283564810859', '11308,0833332764', 'ce1353d8-7144-11e5-ba71-058fbc01cf0b', 'male', 2007.0, 'Shetland Sheepdog', 'Pure Breed', 'Herding', 20.0, 1.0, 0.0, 'protodog', 8.0, 2.0, 1.0, 1.0, 'Barre', 'MA', '01005', 'US', '0', '0', '12/31/1899 12:00:00 AM', '1', None, None),\n",
       " (2, 'fd27b6b4-7144-11e5-ba71-058fbc01cf0b', 2, '0,00913194450660988', '13,1500000895182', '0,00913194450660988', '13,1500000895182', '0,00913194450660988', '13,1500000895182', 'ce135ab8-7144-11e5-ba71-058fbc01cf0b', 'male', 2012.0, 'Golden Retriever', 'Pure Breed', 'Sporting', 70.0, 0.0, 1.0, '0', 3.0, 1.0, 1.0, 1.0, 'Darien', 'CT', '06820', 'US', '0', '0', '12/31/1899 12:00:00 AM', '1', None, None),\n",
       " (3, 'fd27b79a-7144-11e5-ba71-058fbc01cf0b', 11, '56,1151793981433', '80805,8583333264', '0,00443287036471897', '6,38333332519532', '561,151793981433', '808058,583333264', 'ce13507c-7144-11e5-ba71-058fbc01cf0b', 'male', 2011.0, 'Golden Retriever', 'Pure Breed', 'Sporting', 70.0, 0.0, 0.0, '0', 21.0, 1.0, 1.0, 1.0, 'Winnetka', 'IL', '60093', 'US', '0', '0', '09/12/2014 07:26:00 PM', '1', None, None),\n",
       " (4, 'fd27b86c-7144-11e5-ba71-058fbc01cf0b', 31, '7,73425424383027', '11137,3261111156', '0,000399305544252749', '0,574999983723959', '232,027627314908', '334119,783333468', 'ce135e14-7144-11e5-ba71-058fbc01cf0b', 'female', 2010.0, 'Shih Tzu', 'Pure Breed', 'Toy', 190.0, 0.0, 0.0, 'einstein', 181.0, 13.0, 2.0, 1.0, 'Raleigh', 'NC', '27606', 'US', '1', '0', '12/31/1899 12:00:00 AM', '2', None, None)]"
      ]
     },
     "execution_count": 50,
     "metadata": {},
     "output_type": "execute_result"
    }
   ],
   "source": [
    "%%sql \n",
    "\n",
    "select * from 'dog' limit 5"
   ]
  },
  {
   "cell_type": "code",
   "execution_count": 83,
   "id": "5a29b35f",
   "metadata": {},
   "outputs": [
    {
     "data": {
      "text/plain": [
       "Dog ID                                              object\n",
       "Total Tests Completed                                int64\n",
       "Mean ITI (days)                                     object\n",
       "Mean ITI (minutes)                                  object\n",
       "Median ITI (days)                                   object\n",
       "Median ITI (minutes)                                object\n",
       "Time diff between first and last game (days)        object\n",
       "Time diff between first and last game (minutes)     object\n",
       "User ID                                             object\n",
       "Gender                                              object\n",
       "Birthday                                           float64\n",
       "Breed                                               object\n",
       "Breed_Type                                          object\n",
       "Breed_Group                                         object\n",
       "Weight                                             float64\n",
       "Dog_Fixed                                          float64\n",
       "DNA_Tested                                         float64\n",
       "Dimension                                           object\n",
       "Sign_in_Count                                      float64\n",
       "Max_Dogs                                           float64\n",
       "Membership_ID                                      float64\n",
       "Subscribed                                         float64\n",
       "City                                                object\n",
       "State                                               object\n",
       "Zip                                                 object\n",
       "Country                                             object\n",
       "Exclude                                             object\n",
       "Free_Start_User                                     object\n",
       "Last_Active_At                                      object\n",
       "Membership_Type                                     object\n",
       "Unnamed: 30                                        float64\n",
       "Unnamed: 31                                        float64\n",
       "dtype: object"
      ]
     },
     "execution_count": 83,
     "metadata": {},
     "output_type": "execute_result"
    }
   ],
   "source": [
    "df_dog.dtypes"
   ]
  },
  {
   "cell_type": "code",
   "execution_count": 93,
   "id": "6e483eb4",
   "metadata": {},
   "outputs": [],
   "source": [
    "#only the data needed for processing and analyzing was cleaned.\n",
    "df_dog['Median ITI (minutes)'] = df_dog['Median ITI (minutes)'].str.replace(',', '.')\n",
    "df_dog['Median ITI (minutes)'] = pd.to_numeric(df_dog['Median ITI (minutes)'], downcast=\"float\", errors='coerce')"
   ]
  },
  {
   "cell_type": "code",
   "execution_count": 94,
   "id": "dc1b1465",
   "metadata": {},
   "outputs": [
    {
     "data": {
      "text/plain": [
       "0         6.750000\n",
       "1         8.416667\n",
       "2        13.150000\n",
       "3         6.383333\n",
       "4         0.575000\n",
       "           ...    \n",
       "17981     6.891667\n",
       "17982          NaN\n",
       "17983     6.050000\n",
       "17984     4.000000\n",
       "17985     4.366667\n",
       "Name: Median ITI (minutes), Length: 17986, dtype: float32"
      ]
     },
     "execution_count": 94,
     "metadata": {},
     "output_type": "execute_result"
    }
   ],
   "source": [
    "df_dog['Median ITI (minutes)']"
   ]
  },
  {
   "cell_type": "code",
   "execution_count": 96,
   "id": "6d6ff039",
   "metadata": {},
   "outputs": [],
   "source": [
    "df_dog['Time diff between first and last game (minutes)'] = df_dog['Time diff between first and last game (minutes)'].str.replace(',', '.')\n",
    "df_dog['Time diff between first and last game (minutes)'] = pd.to_numeric(df_dog['Time diff between first and last game (minutes)'], downcast=\"float\", errors='coerce')"
   ]
  },
  {
   "cell_type": "code",
   "execution_count": 97,
   "id": "fd60b4f8",
   "metadata": {},
   "outputs": [
    {
     "data": {
      "text/plain": [
       "0        812191.000000\n",
       "1         11308.083008\n",
       "2            13.150000\n",
       "3        808058.562500\n",
       "4        334119.781250\n",
       "             ...      \n",
       "17981        81.283333\n",
       "17982         0.000000\n",
       "17983       135.616669\n",
       "17984        12.733334\n",
       "17985        28.883333\n",
       "Name: Time diff between first and last game (minutes), Length: 17986, dtype: float32"
      ]
     },
     "execution_count": 97,
     "metadata": {},
     "output_type": "execute_result"
    }
   ],
   "source": [
    "df_dog['Time diff between first and last game (minutes)']"
   ]
  },
  {
   "cell_type": "code",
   "execution_count": 18,
   "id": "a72df694",
   "metadata": {},
   "outputs": [
    {
     "name": "stdout",
     "output_type": "stream",
     "text": [
      "(177481, 30)\n",
      "(17986, 32)\n"
     ]
    }
   ],
   "source": [
    "print(df_user.shape)\n",
    "print(df_dog.shape)"
   ]
  },
  {
   "cell_type": "code",
   "execution_count": 52,
   "id": "4fa5fafe",
   "metadata": {},
   "outputs": [
    {
     "name": "stdout",
     "output_type": "stream",
     "text": [
      "   sqlite:////Users/jingai/workspace/Jupyter-Python-notes/Dognition/dog.db\n",
      " * sqlite:////Users/jingai/workspace/Jupyter-Python-notes/Dognition/dognition.db\n",
      "   sqlite:////Users/jingai/workspace/Jupyter-Python-notes/Dognition/user.db\n",
      "Done.\n"
     ]
    },
    {
     "data": {
      "text/html": [
       "<table>\n",
       "    <tr>\n",
       "        <th>1</th>\n",
       "    </tr>\n",
       "</table>"
      ],
      "text/plain": [
       "[]"
      ]
     },
     "execution_count": 52,
     "metadata": {},
     "output_type": "execute_result"
    }
   ],
   "source": [
    "%sql ALTER TABLE 'dog' RENAME COLUMN 'Dog ID' to 'Dog_ID';"
   ]
  },
  {
   "cell_type": "code",
   "execution_count": 61,
   "id": "47d2f911",
   "metadata": {},
   "outputs": [
    {
     "name": "stdout",
     "output_type": "stream",
     "text": [
      "   sqlite:////Users/jingai/workspace/Jupyter-Python-notes/Dognition/dog.db\n",
      " * sqlite:////Users/jingai/workspace/Jupyter-Python-notes/Dognition/dognition.db\n",
      "   sqlite:////Users/jingai/workspace/Jupyter-Python-notes/Dognition/user.db\n",
      "Done.\n"
     ]
    },
    {
     "data": {
      "text/html": [
       "<table>\n",
       "    <tr>\n",
       "        <th>1</th>\n",
       "    </tr>\n",
       "</table>"
      ],
      "text/plain": [
       "[]"
      ]
     },
     "execution_count": 61,
     "metadata": {},
     "output_type": "execute_result"
    }
   ],
   "source": [
    "%sql ALTER TABLE 'dog' RENAME COLUMN 'Total Tests Completed' to 'Total_Tests_Completed';"
   ]
  },
  {
   "cell_type": "code",
   "execution_count": 56,
   "id": "ef5d97d5",
   "metadata": {},
   "outputs": [
    {
     "name": "stdout",
     "output_type": "stream",
     "text": [
      "   sqlite:////Users/jingai/workspace/Jupyter-Python-notes/Dognition/dog.db\n",
      " * sqlite:////Users/jingai/workspace/Jupyter-Python-notes/Dognition/dognition.db\n",
      "   sqlite:////Users/jingai/workspace/Jupyter-Python-notes/Dognition/user.db\n",
      "Done.\n"
     ]
    },
    {
     "data": {
      "text/html": [
       "<table>\n",
       "    <tr>\n",
       "        <th>COUNT(DISTINCT Dog_ID)</th>\n",
       "    </tr>\n",
       "    <tr>\n",
       "        <td>17986</td>\n",
       "    </tr>\n",
       "</table>"
      ],
      "text/plain": [
       "[(17986,)]"
      ]
     },
     "execution_count": 56,
     "metadata": {},
     "output_type": "execute_result"
    }
   ],
   "source": [
    "%sql SELECT COUNT(DISTINCT Dog_ID) from 'dog';"
   ]
  },
  {
   "cell_type": "code",
   "execution_count": 57,
   "id": "1ba5b0bc",
   "metadata": {},
   "outputs": [
    {
     "name": "stdout",
     "output_type": "stream",
     "text": [
      "   sqlite:////Users/jingai/workspace/Jupyter-Python-notes/Dognition/dog.db\n",
      " * sqlite:////Users/jingai/workspace/Jupyter-Python-notes/Dognition/dognition.db\n",
      "   sqlite:////Users/jingai/workspace/Jupyter-Python-notes/Dognition/user.db\n",
      "Done.\n"
     ]
    },
    {
     "data": {
      "text/html": [
       "<table>\n",
       "    <tr>\n",
       "        <th>COUNT(*)</th>\n",
       "    </tr>\n",
       "    <tr>\n",
       "        <td>17986</td>\n",
       "    </tr>\n",
       "</table>"
      ],
      "text/plain": [
       "[(17986,)]"
      ]
     },
     "execution_count": 57,
     "metadata": {},
     "output_type": "execute_result"
    }
   ],
   "source": [
    "%sql SELECT COUNT(*) from 'dog';"
   ]
  },
  {
   "cell_type": "code",
   "execution_count": 68,
   "id": "e4e4008f",
   "metadata": {},
   "outputs": [
    {
     "name": "stdout",
     "output_type": "stream",
     "text": [
      "   sqlite:////Users/jingai/workspace/Jupyter-Python-notes/Dognition/dog.db\n",
      " * sqlite:////Users/jingai/workspace/Jupyter-Python-notes/Dognition/dognition.db\n",
      "   sqlite:////Users/jingai/workspace/Jupyter-Python-notes/Dognition/user.db\n",
      "Done.\n"
     ]
    },
    {
     "data": {
      "text/html": [
       "<table>\n",
       "    <tr>\n",
       "        <th>Dog_ID</th>\n",
       "        <th>MAX(Total_Tests_Completed)</th>\n",
       "    </tr>\n",
       "    <tr>\n",
       "        <td>fd27e454-7144-11e5-ba71-058fbc01cf0b</td>\n",
       "        <td>45</td>\n",
       "    </tr>\n",
       "    <tr>\n",
       "        <td>fd3d15f4-7144-11e5-ba71-058fbc01cf0b</td>\n",
       "        <td>1</td>\n",
       "    </tr>\n",
       "</table>"
      ],
      "text/plain": [
       "[('fd27e454-7144-11e5-ba71-058fbc01cf0b', 45),\n",
       " ('fd3d15f4-7144-11e5-ba71-058fbc01cf0b', 1)]"
      ]
     },
     "execution_count": 68,
     "metadata": {},
     "output_type": "execute_result"
    }
   ],
   "source": [
    "%%sql\n",
    "\n",
    "select * \n",
    "from\n",
    "(select Dog_ID, MAX(Total_Tests_Completed)\n",
    "from 'dog'\n",
    "UNION ALL \n",
    " select Dog_ID, MIN(Total_Tests_Completed)\n",
    "from 'dog')"
   ]
  },
  {
   "cell_type": "markdown",
   "id": "34b68b2b",
   "metadata": {},
   "source": [
    "## 2 Scan the relations\n",
    "\n",
    "### 2.1 Which test properties are link to 'Total Tests Completed'\n",
    "\n",
    "Test properies include test time(Median ITI), chronological rank, sign in count, Time Diff between first and last game (days) and test type/categories, etc."
   ]
  },
  {
   "cell_type": "code",
   "execution_count": 100,
   "id": "c8b4747e",
   "metadata": {},
   "outputs": [
    {
     "data": {
      "text/html": [
       "<div>\n",
       "<style scoped>\n",
       "    .dataframe tbody tr th:only-of-type {\n",
       "        vertical-align: middle;\n",
       "    }\n",
       "\n",
       "    .dataframe tbody tr th {\n",
       "        vertical-align: top;\n",
       "    }\n",
       "\n",
       "    .dataframe thead th {\n",
       "        text-align: right;\n",
       "    }\n",
       "</style>\n",
       "<table border=\"1\" class=\"dataframe\">\n",
       "  <thead>\n",
       "    <tr style=\"text-align: right;\">\n",
       "      <th></th>\n",
       "      <th>Total Tests Completed</th>\n",
       "      <th>Median ITI (minutes)</th>\n",
       "      <th>Time diff between first and last game (minutes)</th>\n",
       "    </tr>\n",
       "  </thead>\n",
       "  <tbody>\n",
       "    <tr>\n",
       "      <th>count</th>\n",
       "      <td>17986.00</td>\n",
       "      <td>16718.00</td>\n",
       "      <td>17985.00</td>\n",
       "    </tr>\n",
       "    <tr>\n",
       "      <th>mean</th>\n",
       "      <td>9.81</td>\n",
       "      <td>397.42</td>\n",
       "      <td>36204.66</td>\n",
       "    </tr>\n",
       "    <tr>\n",
       "      <th>std</th>\n",
       "      <td>7.80</td>\n",
       "      <td>10342.26</td>\n",
       "      <td>109138.51</td>\n",
       "    </tr>\n",
       "    <tr>\n",
       "      <th>min</th>\n",
       "      <td>1.00</td>\n",
       "      <td>0.00</td>\n",
       "      <td>0.00</td>\n",
       "    </tr>\n",
       "    <tr>\n",
       "      <th>25%</th>\n",
       "      <td>4.00</td>\n",
       "      <td>4.32</td>\n",
       "      <td>13.47</td>\n",
       "    </tr>\n",
       "    <tr>\n",
       "      <th>50%</th>\n",
       "      <td>7.00</td>\n",
       "      <td>5.61</td>\n",
       "      <td>1045.62</td>\n",
       "    </tr>\n",
       "    <tr>\n",
       "      <th>75%</th>\n",
       "      <td>16.00</td>\n",
       "      <td>7.22</td>\n",
       "      <td>17124.28</td>\n",
       "    </tr>\n",
       "    <tr>\n",
       "      <th>max</th>\n",
       "      <td>45.00</td>\n",
       "      <td>937377.00</td>\n",
       "      <td>1383207.00</td>\n",
       "    </tr>\n",
       "  </tbody>\n",
       "</table>\n",
       "</div>"
      ],
      "text/plain": [
       "       Total Tests Completed  Median ITI (minutes)  \\\n",
       "count               17986.00              16718.00   \n",
       "mean                    9.81                397.42   \n",
       "std                     7.80              10342.26   \n",
       "min                     1.00                  0.00   \n",
       "25%                     4.00                  4.32   \n",
       "50%                     7.00                  5.61   \n",
       "75%                    16.00                  7.22   \n",
       "max                    45.00             937377.00   \n",
       "\n",
       "       Time diff between first and last game (minutes)  \n",
       "count                                         17985.00  \n",
       "mean                                          36204.66  \n",
       "std                                          109138.51  \n",
       "min                                               0.00  \n",
       "25%                                              13.47  \n",
       "50%                                            1045.62  \n",
       "75%                                           17124.28  \n",
       "max                                         1383207.00  "
      ]
     },
     "execution_count": 100,
     "metadata": {},
     "output_type": "execute_result"
    }
   ],
   "source": [
    "df_dog[['Total Tests Completed','Median ITI (minutes)','Time diff between first and last game (minutes)']].describe().round(2)"
   ]
  },
  {
   "cell_type": "code",
   "execution_count": 111,
   "id": "f7f663de",
   "metadata": {},
   "outputs": [
    {
     "data": {
      "text/plain": [
       "<AxesSubplot:>"
      ]
     },
     "execution_count": 111,
     "metadata": {},
     "output_type": "execute_result"
    },
    {
     "data": {
      "image/png": "[encoded data removed]",
      "text/plain": [
       "<Figure size 432x288 with 1 Axes>"
      ]
     },
     "metadata": {
      "needs_background": "light"
     },
     "output_type": "display_data"
    }
   ],
   "source": [
    "df_dog['Total Tests Completed'].hist(bins=20)"
   ]
  },
  {
   "cell_type": "markdown",
   "id": "ffe23aee",
   "metadata": {},
   "source": [
    "**Here are what I have learned from the first glance at the histgram of 'Total tests Completed':**\n",
    "\n",
    "1. Majority of dogs have completed less or equal to 20 tests, and a hug decline of total completed tests after 20 tests? Why users were not continueting the tests? \n",
    "\n",
    "    - membership type?\n",
    "    \n",
    "    - promotion ends?\n",
    "    \n",
    "\n",
    "2. Most of dogs only completed 8 tests and there is a clear gap between 8 - 10 tests. (Is it because some tests are too difficult?)\n",
    "\n",
    "**So, how the test time(Median ITI) associates with 'Total Tests Completed'?**"
   ]
  },
  {
   "cell_type": "code",
   "execution_count": 115,
   "id": "d130e018",
   "metadata": {},
   "outputs": [
    {
     "data": {
      "text/plain": [
       "<AxesSubplot:>"
      ]
     },
     "execution_count": 115,
     "metadata": {},
     "output_type": "execute_result"
    },
    {
     "data": {
      "image/png": "[encoded data removed]",
      "text/plain": [
       "<Figure size 432x288 with 1 Axes>"
      ]
     },
     "metadata": {
      "needs_background": "light"
     },
     "output_type": "display_data"
    }
   ],
   "source": [
    "df_dog['Median ITI (minutes)'].hist(bins=10)"
   ]
  },
  {
   "cell_type": "code",
   "execution_count": 116,
   "id": "58f4988a",
   "metadata": {},
   "outputs": [
    {
     "data": {
      "text/plain": [
       "<AxesSubplot:>"
      ]
     },
     "execution_count": 116,
     "metadata": {},
     "output_type": "execute_result"
    },
    {
     "data": {
      "image/png": "[encoded data removed]",
      "text/plain": [
       "<Figure size 432x288 with 1 Axes>"
      ]
     },
     "metadata": {
      "needs_background": "light"
     },
     "output_type": "display_data"
    }
   ],
   "source": [
    "df_dog['Median ITI (minutes)'].plot()"
   ]
  },
  {
   "cell_type": "code",
   "execution_count": 144,
   "id": "b451d59b",
   "metadata": {},
   "outputs": [
    {
     "name": "stdout",
     "output_type": "stream",
     "text": [
      "(15805, 32)\n"
     ]
    },
    {
     "data": {
      "image/png": "[encoded data removed]",
      "text/plain": [
       "<Figure size 432x288 with 1 Axes>"
      ]
     },
     "metadata": {
      "needs_background": "light"
     },
     "output_type": "display_data"
    }
   ],
   "source": [
    "df_dog[df_dog['Median ITI (minutes)']<=20][['Median ITI (minutes)']].hist()\n",
    "print(df_dog[df_dog['Median ITI (minutes)']<=20].shape)"
   ]
  },
  {
   "cell_type": "code",
   "execution_count": 152,
   "id": "c6d1b508",
   "metadata": {},
   "outputs": [
    {
     "name": "stdout",
     "output_type": "stream",
     "text": [
      "(559, 32)\n"
     ]
    },
    {
     "data": {
      "image/png": "[encoded data removed]",
      "text/plain": [
       "<Figure size 432x288 with 1 Axes>"
      ]
     },
     "metadata": {
      "needs_background": "light"
     },
     "output_type": "display_data"
    }
   ],
   "source": [
    "df_dog[(df_dog['Median ITI (minutes)']>20) & (df_dog['Median ITI (minutes)']<=1000)][['Median ITI (minutes)']].hist()\n",
    "print(df_dog[(df_dog['Median ITI (minutes)']>20) & (df_dog['Median ITI (minutes)']<=1000)].shape)"
   ]
  },
  {
   "cell_type": "code",
   "execution_count": 151,
   "id": "54c70172",
   "metadata": {},
   "outputs": [
    {
     "name": "stdout",
     "output_type": "stream",
     "text": [
      "(354, 32)\n"
     ]
    },
    {
     "data": {
      "image/png": "[encoded data removed]",
      "text/plain": [
       "<Figure size 432x288 with 1 Axes>"
      ]
     },
     "metadata": {
      "needs_background": "light"
     },
     "output_type": "display_data"
    }
   ],
   "source": [
    "df_dog[df_dog['Median ITI (minutes)']>1000][['Median ITI (minutes)']].hist()\n",
    "print(df_dog[df_dog['Median ITI (minutes)']>1000].shape)"
   ]
  },
  {
   "cell_type": "markdown",
   "id": "80e2fa4f",
   "metadata": {},
   "source": [
    "**What I learned from above plottings?**\n",
    "\n",
    "1. Majority (>90%) dogs completed one test less than 20 min. This group should be our focus for looking for a link between the test time and total tests completed.\n",
    "\n",
    "2. There are quite some dogs that took more than 20 mins to complete one test, which should also be interesting to investigate as the unexpected test time may demotivate dogs thereby giving up in the following tests. So what the link?"
   ]
  },
  {
   "cell_type": "code",
   "execution_count": 210,
   "id": "3113f396",
   "metadata": {},
   "outputs": [
    {
     "data": {
      "text/plain": [
       "Text(0.5, 0.98, 'Plot of Total Tests Completed with Median ITI (minutes)')"
      ]
     },
     "execution_count": 210,
     "metadata": {},
     "output_type": "execute_result"
    },
    {
     "data": {
      "image/png": "[encoded data removed]",
      "text/plain": [
       "<Figure size 864x576 with 3 Axes>"
      ]
     },
     "metadata": {
      "needs_background": "light"
     },
     "output_type": "display_data"
    }
   ],
   "source": [
    "df_dog_usual = df_dog[df_dog['Median ITI (minutes)']<=20]\n",
    "df_dog_unusual = df_dog[(df_dog['Median ITI (minutes)']>20)&(df_dog['Median ITI (minutes)']<1000)]\n",
    "df_dog_abnorm = df_dog[df_dog['Median ITI (minutes)']>=1000]\n",
    "\n",
    "fig_median_ITI,(ax1,ax2,ax3) = plt.subplots(nrows=1, ncols=3, sharey=True, figsize=(12, 8))\n",
    "#fig_median_ITI = plt.figure(figsize=(12, 8))\n",
    "\n",
    "ax1=plt.subplot(131)\n",
    "plt.scatter(df_dog_usual[['Median ITI (minutes)']],\n",
    "        df_dog_usual[['Total Tests Completed']])\n",
    "plt.yticks(fontsize=16)\n",
    "plt.xticks(fontsize=16)\n",
    "\n",
    "\n",
    "ax2=plt.subplot(132)\n",
    "plt.scatter(df_dog_unusual[['Median ITI (minutes)']],\n",
    "        df_dog_unusual[['Total Tests Completed']])\n",
    "plt.xticks(fontsize=16)\n",
    "\n",
    "ax3=plt.subplot(133)\n",
    "plt.scatter(df_dog_abnorm[['Median ITI (minutes)']],\n",
    "        df_dog_abnorm[['Total Tests Completed']])\n",
    "plt.xscale('log')\n",
    "plt.xticks(fontsize=16)\n",
    "\n",
    "\n",
    "fig_median_ITI.text(0.5, 0.04, 'Median ITI (minutes)', ha='center', fontsize=20)\n",
    "fig_median_ITI.text(0.04, 0.5, 'Total Tests Completed', va='center', rotation='vertical', fontsize=20)\n",
    "\n",
    "fig_median_ITI.suptitle('Plot of Total Tests Completed with Median ITI (minutes)', fontsize = 24)"
   ]
  },
  {
   "cell_type": "code",
   "execution_count": 167,
   "id": "8172974c",
   "metadata": {},
   "outputs": [
    {
     "data": {
      "text/html": [
       "<div>\n",
       "<style scoped>\n",
       "    .dataframe tbody tr th:only-of-type {\n",
       "        vertical-align: middle;\n",
       "    }\n",
       "\n",
       "    .dataframe tbody tr th {\n",
       "        vertical-align: top;\n",
       "    }\n",
       "\n",
       "    .dataframe thead th {\n",
       "        text-align: right;\n",
       "    }\n",
       "</style>\n",
       "<table border=\"1\" class=\"dataframe\">\n",
       "  <thead>\n",
       "    <tr style=\"text-align: right;\">\n",
       "      <th></th>\n",
       "      <th>Dog ID</th>\n",
       "      <th>Total Tests Completed</th>\n",
       "      <th>Mean ITI (days)</th>\n",
       "      <th>Mean ITI (minutes)</th>\n",
       "      <th>Median ITI (days)</th>\n",
       "      <th>Median ITI (minutes)</th>\n",
       "      <th>Time diff between first and last game (days)</th>\n",
       "      <th>Time diff between first and last game (minutes)</th>\n",
       "      <th>User ID</th>\n",
       "      <th>Gender</th>\n",
       "      <th>...</th>\n",
       "      <th>City</th>\n",
       "      <th>State</th>\n",
       "      <th>Zip</th>\n",
       "      <th>Country</th>\n",
       "      <th>Exclude</th>\n",
       "      <th>Free_Start_User</th>\n",
       "      <th>Last_Active_At</th>\n",
       "      <th>Membership_Type</th>\n",
       "      <th>Unnamed: 30</th>\n",
       "      <th>Unnamed: 31</th>\n",
       "    </tr>\n",
       "  </thead>\n",
       "  <tbody>\n",
       "    <tr>\n",
       "      <th>226</th>\n",
       "      <td>fd3fe50e-7144-11e5-ba71-058fbc01cf0b</td>\n",
       "      <td>23</td>\n",
       "      <td>5.407804</td>\n",
       "      <td>7787,23863636753</td>\n",
       "      <td>1,00846643519084</td>\n",
       "      <td>1452.191650</td>\n",
       "      <td>118,971701388948</td>\n",
       "      <td>171319.250000</td>\n",
       "      <td>ce24071e-7144-11e5-ba71-058fbc01cf0b</td>\n",
       "      <td>male</td>\n",
       "      <td>...</td>\n",
       "      <td>Gastonia</td>\n",
       "      <td>NC</td>\n",
       "      <td>28054</td>\n",
       "      <td>US</td>\n",
       "      <td>0</td>\n",
       "      <td>0</td>\n",
       "      <td>05/17/2015 03:33:00 AM</td>\n",
       "      <td>2</td>\n",
       "      <td>NaN</td>\n",
       "      <td>NaN</td>\n",
       "    </tr>\n",
       "    <tr>\n",
       "      <th>306</th>\n",
       "      <td>fd405a70-7144-11e5-ba71-058fbc01cf0b</td>\n",
       "      <td>22</td>\n",
       "      <td>12.613153</td>\n",
       "      <td>18162,939682547</td>\n",
       "      <td>1,98940972227308</td>\n",
       "      <td>2864.750000</td>\n",
       "      <td>264,876203703811</td>\n",
       "      <td>381421.718750</td>\n",
       "      <td>ce245e08-7144-11e5-ba71-058fbc01cf0b</td>\n",
       "      <td>male</td>\n",
       "      <td>...</td>\n",
       "      <td>Bethesda</td>\n",
       "      <td>MD</td>\n",
       "      <td>20817</td>\n",
       "      <td>US</td>\n",
       "      <td>0</td>\n",
       "      <td>0</td>\n",
       "      <td>01/29/2015 07:24:00 PM</td>\n",
       "      <td>2</td>\n",
       "      <td>NaN</td>\n",
       "      <td>NaN</td>\n",
       "    </tr>\n",
       "    <tr>\n",
       "      <th>316</th>\n",
       "      <td>fd406628-7144-11e5-ba71-058fbc01cf0b</td>\n",
       "      <td>3</td>\n",
       "      <td>276.364502</td>\n",
       "      <td>397964,900000012</td>\n",
       "      <td>276,364513888897</td>\n",
       "      <td>397964.906250</td>\n",
       "      <td>552,729027777795</td>\n",
       "      <td>795929.812500</td>\n",
       "      <td>ce2462fe-7144-11e5-ba71-058fbc01cf0b</td>\n",
       "      <td>female</td>\n",
       "      <td>...</td>\n",
       "      <td>New York</td>\n",
       "      <td>NY</td>\n",
       "      <td>10040</td>\n",
       "      <td>US</td>\n",
       "      <td>0</td>\n",
       "      <td>0</td>\n",
       "      <td>12/17/2014 08:47:00 PM</td>\n",
       "      <td>2</td>\n",
       "      <td>NaN</td>\n",
       "      <td>NaN</td>\n",
       "    </tr>\n",
       "    <tr>\n",
       "      <th>431</th>\n",
       "      <td>fd411b86-7144-11e5-ba71-058fbc01cf0b</td>\n",
       "      <td>9</td>\n",
       "      <td>1.741412</td>\n",
       "      <td>2507,63333333384</td>\n",
       "      <td>1,13078125001695</td>\n",
       "      <td>1628.324951</td>\n",
       "      <td>13,9312962962991</td>\n",
       "      <td>20061.066406</td>\n",
       "      <td>ce24a7c8-7144-11e5-ba71-058fbc01cf0b</td>\n",
       "      <td>male</td>\n",
       "      <td>...</td>\n",
       "      <td>Cromwell</td>\n",
       "      <td>IN</td>\n",
       "      <td>46732</td>\n",
       "      <td>US</td>\n",
       "      <td>0</td>\n",
       "      <td>0</td>\n",
       "      <td>10/02/2014 02:55:00 AM</td>\n",
       "      <td>2</td>\n",
       "      <td>NaN</td>\n",
       "      <td>NaN</td>\n",
       "    </tr>\n",
       "    <tr>\n",
       "      <th>464</th>\n",
       "      <td>fd4154a2-7144-11e5-ba71-058fbc01cf0b</td>\n",
       "      <td>2</td>\n",
       "      <td>0.974688</td>\n",
       "      <td>1403,5500000651</td>\n",
       "      <td>0,974687500045211</td>\n",
       "      <td>1403.550049</td>\n",
       "      <td>0,974687500045211</td>\n",
       "      <td>1403.550049</td>\n",
       "      <td>ce25117c-7144-11e5-ba71-058fbc01cf0b</td>\n",
       "      <td>male</td>\n",
       "      <td>...</td>\n",
       "      <td>Kensington</td>\n",
       "      <td>MD</td>\n",
       "      <td>20895</td>\n",
       "      <td>US</td>\n",
       "      <td>0</td>\n",
       "      <td>0</td>\n",
       "      <td>12/31/1899 12:00:00 AM</td>\n",
       "      <td>1</td>\n",
       "      <td>NaN</td>\n",
       "      <td>NaN</td>\n",
       "    </tr>\n",
       "    <tr>\n",
       "      <th>...</th>\n",
       "      <td>...</td>\n",
       "      <td>...</td>\n",
       "      <td>...</td>\n",
       "      <td>...</td>\n",
       "      <td>...</td>\n",
       "      <td>...</td>\n",
       "      <td>...</td>\n",
       "      <td>...</td>\n",
       "      <td>...</td>\n",
       "      <td>...</td>\n",
       "      <td>...</td>\n",
       "      <td>...</td>\n",
       "      <td>...</td>\n",
       "      <td>...</td>\n",
       "      <td>...</td>\n",
       "      <td>...</td>\n",
       "      <td>...</td>\n",
       "      <td>...</td>\n",
       "      <td>...</td>\n",
       "      <td>...</td>\n",
       "      <td>...</td>\n",
       "    </tr>\n",
       "    <tr>\n",
       "      <th>17744</th>\n",
       "      <td>fdc0e56e-7144-11e5-ba71-058fbc01cf0b</td>\n",
       "      <td>3</td>\n",
       "      <td>1.017830</td>\n",
       "      <td>1465,6749999593</td>\n",
       "      <td>1,01782986108285</td>\n",
       "      <td>1465.675049</td>\n",
       "      <td>2,03565972216571</td>\n",
       "      <td>2931.350098</td>\n",
       "      <td>ce99e0c4-7144-11e5-ba71-058fbc01cf0b</td>\n",
       "      <td>female</td>\n",
       "      <td>...</td>\n",
       "      <td>Gladwyne</td>\n",
       "      <td>PA</td>\n",
       "      <td>19035</td>\n",
       "      <td>US</td>\n",
       "      <td>0.0</td>\n",
       "      <td>0.0</td>\n",
       "      <td>10/12/2015 09:38:00 PM</td>\n",
       "      <td>2.0</td>\n",
       "      <td>NaN</td>\n",
       "      <td>NaN</td>\n",
       "    </tr>\n",
       "    <tr>\n",
       "      <th>17745</th>\n",
       "      <td>fdc0e852-7144-11e5-ba71-058fbc01cf0b</td>\n",
       "      <td>3</td>\n",
       "      <td>1.473704</td>\n",
       "      <td>2122,13333328044</td>\n",
       "      <td>1,47370370366697</td>\n",
       "      <td>2122.133301</td>\n",
       "      <td>2,94740740733394</td>\n",
       "      <td>4244.266602</td>\n",
       "      <td>ce99f7d0-7144-11e5-ba71-058fbc01cf0b</td>\n",
       "      <td>female</td>\n",
       "      <td>...</td>\n",
       "      <td>Canpbell</td>\n",
       "      <td>NaN</td>\n",
       "      <td>NaN</td>\n",
       "      <td>US</td>\n",
       "      <td>0.0</td>\n",
       "      <td>0.0</td>\n",
       "      <td>10/04/2015 08:42:00 PM</td>\n",
       "      <td>1.0</td>\n",
       "      <td>NaN</td>\n",
       "      <td>NaN</td>\n",
       "    </tr>\n",
       "    <tr>\n",
       "      <th>17824</th>\n",
       "      <td>fdc14748-7144-11e5-ba71-058fbc01cf0b</td>\n",
       "      <td>2</td>\n",
       "      <td>1.749340</td>\n",
       "      <td>2519,05000012613</td>\n",
       "      <td>1,74934027786537</td>\n",
       "      <td>2519.050049</td>\n",
       "      <td>1,74934027786537</td>\n",
       "      <td>2519.050049</td>\n",
       "      <td>ce9a53ba-7144-11e5-ba71-058fbc01cf0b</td>\n",
       "      <td>male</td>\n",
       "      <td>...</td>\n",
       "      <td>NaN</td>\n",
       "      <td>NaN</td>\n",
       "      <td>NaN</td>\n",
       "      <td>NaN</td>\n",
       "      <td>0.0</td>\n",
       "      <td>1.0</td>\n",
       "      <td>10/06/2015 09:52:00 AM</td>\n",
       "      <td>4.0</td>\n",
       "      <td>NaN</td>\n",
       "      <td>NaN</td>\n",
       "    </tr>\n",
       "    <tr>\n",
       "      <th>17863</th>\n",
       "      <td>fdc184f6-7144-11e5-ba71-058fbc01cf0b</td>\n",
       "      <td>2</td>\n",
       "      <td>5.055590</td>\n",
       "      <td>7280,04999998779</td>\n",
       "      <td>5,0555902777693</td>\n",
       "      <td>7280.049805</td>\n",
       "      <td>5,0555902777693</td>\n",
       "      <td>7280.049805</td>\n",
       "      <td>ce99620c-7144-11e5-ba71-058fbc01cf0b</td>\n",
       "      <td>female</td>\n",
       "      <td>...</td>\n",
       "      <td>Oakland</td>\n",
       "      <td>CA</td>\n",
       "      <td>94611</td>\n",
       "      <td>US</td>\n",
       "      <td>0.0</td>\n",
       "      <td>0.0</td>\n",
       "      <td>10/11/2015 01:44:00 AM</td>\n",
       "      <td>1.0</td>\n",
       "      <td>NaN</td>\n",
       "      <td>NaN</td>\n",
       "    </tr>\n",
       "    <tr>\n",
       "      <th>17896</th>\n",
       "      <td>fdc1b228-7144-11e5-ba71-058fbc01cf0b</td>\n",
       "      <td>4</td>\n",
       "      <td>0.918781</td>\n",
       "      <td>1323,04444447157</td>\n",
       "      <td>0,999803240760521</td>\n",
       "      <td>1439.716675</td>\n",
       "      <td>2,75634259264911</td>\n",
       "      <td>3969.133301</td>\n",
       "      <td>ce9abd32-7144-11e5-ba71-058fbc01cf0b</td>\n",
       "      <td>male</td>\n",
       "      <td>...</td>\n",
       "      <td>Olathe</td>\n",
       "      <td>KS</td>\n",
       "      <td>66061</td>\n",
       "      <td>US</td>\n",
       "      <td>0.0</td>\n",
       "      <td>0.0</td>\n",
       "      <td>10/10/2015 05:58:00 PM</td>\n",
       "      <td>1.0</td>\n",
       "      <td>NaN</td>\n",
       "      <td>NaN</td>\n",
       "    </tr>\n",
       "  </tbody>\n",
       "</table>\n",
       "<p>354 rows × 32 columns</p>\n",
       "</div>"
      ],
      "text/plain": [
       "                                     Dog ID  Total Tests Completed  \\\n",
       "226    fd3fe50e-7144-11e5-ba71-058fbc01cf0b                     23   \n",
       "306    fd405a70-7144-11e5-ba71-058fbc01cf0b                     22   \n",
       "316    fd406628-7144-11e5-ba71-058fbc01cf0b                      3   \n",
       "431    fd411b86-7144-11e5-ba71-058fbc01cf0b                      9   \n",
       "464    fd4154a2-7144-11e5-ba71-058fbc01cf0b                      2   \n",
       "...                                     ...                    ...   \n",
       "17744  fdc0e56e-7144-11e5-ba71-058fbc01cf0b                      3   \n",
       "17745  fdc0e852-7144-11e5-ba71-058fbc01cf0b                      3   \n",
       "17824  fdc14748-7144-11e5-ba71-058fbc01cf0b                      2   \n",
       "17863  fdc184f6-7144-11e5-ba71-058fbc01cf0b                      2   \n",
       "17896  fdc1b228-7144-11e5-ba71-058fbc01cf0b                      4   \n",
       "\n",
       "       Mean ITI (days) Mean ITI (minutes)  Median ITI (days)  \\\n",
       "226           5.407804   7787,23863636753   1,00846643519084   \n",
       "306          12.613153    18162,939682547   1,98940972227308   \n",
       "316         276.364502   397964,900000012   276,364513888897   \n",
       "431           1.741412   2507,63333333384   1,13078125001695   \n",
       "464           0.974688    1403,5500000651  0,974687500045211   \n",
       "...                ...                ...                ...   \n",
       "17744         1.017830    1465,6749999593   1,01782986108285   \n",
       "17745         1.473704   2122,13333328044   1,47370370366697   \n",
       "17824         1.749340   2519,05000012613   1,74934027786537   \n",
       "17863         5.055590   7280,04999998779    5,0555902777693   \n",
       "17896         0.918781   1323,04444447157  0,999803240760521   \n",
       "\n",
       "       Median ITI (minutes) Time diff between first and last game (days)  \\\n",
       "226             1452.191650                             118,971701388948   \n",
       "306             2864.750000                             264,876203703811   \n",
       "316           397964.906250                             552,729027777795   \n",
       "431             1628.324951                             13,9312962962991   \n",
       "464             1403.550049                            0,974687500045211   \n",
       "...                     ...                                          ...   \n",
       "17744           1465.675049                             2,03565972216571   \n",
       "17745           2122.133301                             2,94740740733394   \n",
       "17824           2519.050049                             1,74934027786537   \n",
       "17863           7280.049805                              5,0555902777693   \n",
       "17896           1439.716675                             2,75634259264911   \n",
       "\n",
       "       Time diff between first and last game (minutes)  \\\n",
       "226                                      171319.250000   \n",
       "306                                      381421.718750   \n",
       "316                                      795929.812500   \n",
       "431                                       20061.066406   \n",
       "464                                        1403.550049   \n",
       "...                                                ...   \n",
       "17744                                      2931.350098   \n",
       "17745                                      4244.266602   \n",
       "17824                                      2519.050049   \n",
       "17863                                      7280.049805   \n",
       "17896                                      3969.133301   \n",
       "\n",
       "                                    User ID  Gender  ...        City State  \\\n",
       "226    ce24071e-7144-11e5-ba71-058fbc01cf0b    male  ...    Gastonia    NC   \n",
       "306    ce245e08-7144-11e5-ba71-058fbc01cf0b    male  ...    Bethesda    MD   \n",
       "316    ce2462fe-7144-11e5-ba71-058fbc01cf0b  female  ...    New York    NY   \n",
       "431    ce24a7c8-7144-11e5-ba71-058fbc01cf0b    male  ...    Cromwell    IN   \n",
       "464    ce25117c-7144-11e5-ba71-058fbc01cf0b    male  ...  Kensington    MD   \n",
       "...                                     ...     ...  ...         ...   ...   \n",
       "17744  ce99e0c4-7144-11e5-ba71-058fbc01cf0b  female  ...    Gladwyne    PA   \n",
       "17745  ce99f7d0-7144-11e5-ba71-058fbc01cf0b  female  ...    Canpbell   NaN   \n",
       "17824  ce9a53ba-7144-11e5-ba71-058fbc01cf0b    male  ...         NaN   NaN   \n",
       "17863  ce99620c-7144-11e5-ba71-058fbc01cf0b  female  ...     Oakland    CA   \n",
       "17896  ce9abd32-7144-11e5-ba71-058fbc01cf0b    male  ...      Olathe    KS   \n",
       "\n",
       "         Zip Country  Exclude  Free_Start_User          Last_Active_At  \\\n",
       "226    28054      US        0                0  05/17/2015 03:33:00 AM   \n",
       "306    20817      US        0                0  01/29/2015 07:24:00 PM   \n",
       "316    10040      US        0                0  12/17/2014 08:47:00 PM   \n",
       "431    46732      US        0                0  10/02/2014 02:55:00 AM   \n",
       "464    20895      US        0                0  12/31/1899 12:00:00 AM   \n",
       "...      ...     ...      ...              ...                     ...   \n",
       "17744  19035      US      0.0              0.0  10/12/2015 09:38:00 PM   \n",
       "17745    NaN      US      0.0              0.0  10/04/2015 08:42:00 PM   \n",
       "17824    NaN     NaN      0.0              1.0  10/06/2015 09:52:00 AM   \n",
       "17863  94611      US      0.0              0.0  10/11/2015 01:44:00 AM   \n",
       "17896  66061      US      0.0              0.0  10/10/2015 05:58:00 PM   \n",
       "\n",
       "      Membership_Type  Unnamed: 30  Unnamed: 31  \n",
       "226                 2          NaN          NaN  \n",
       "306                 2          NaN          NaN  \n",
       "316                 2          NaN          NaN  \n",
       "431                 2          NaN          NaN  \n",
       "464                 1          NaN          NaN  \n",
       "...               ...          ...          ...  \n",
       "17744             2.0          NaN          NaN  \n",
       "17745             1.0          NaN          NaN  \n",
       "17824             4.0          NaN          NaN  \n",
       "17863             1.0          NaN          NaN  \n",
       "17896             1.0          NaN          NaN  \n",
       "\n",
       "[354 rows x 32 columns]"
      ]
     },
     "execution_count": 167,
     "metadata": {},
     "output_type": "execute_result"
    }
   ],
   "source": [
    "df_dog_abnorm"
   ]
  },
  {
   "cell_type": "markdown",
   "id": "3689e998",
   "metadata": {},
   "source": []
  }
 ],
 "metadata": {
  "kernelspec": {
   "display_name": "Python 3 (ipykernel)",
   "language": "python",
   "name": "python3"
  },
  "language_info": {
   "codemirror_mode": {
    "name": "ipython",
    "version": 3
   },
   "file_extension": ".py",
   "mimetype": "text/x-python",
   "name": "python",
   "nbconvert_exporter": "python",
   "pygments_lexer": "ipython3",
   "version": "3.8.2"
  }
 },
 "nbformat": 4,
 "nbformat_minor": 5
}
