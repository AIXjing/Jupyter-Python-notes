{
 "cells": [
  {
   "cell_type": "markdown",
   "id": "13d8031b",
   "metadata": {},
   "source": [
    "**The main focus in this exercise is to explore any relationship between total tests completed and the dog**\n",
    "\n",
    "We have looked at the relation in the group of each membership type, but in this exercise, we are gonna to look those data again in a whole sample scope."
   ]
  },
  {
   "cell_type": "code",
   "execution_count": 1,
   "id": "1b1e41f6",
   "metadata": {},
   "outputs": [],
   "source": [
    "import pandas as pd\n",
    "\n",
    "df_user = pd.read_excel('/Users/jingai/workspace/Capstone-project/Dognition-coursera/raw-data/dognition_user.xlsx')\n",
    "df_dog= pd.read_excel('/Users/jingai/workspace/Capstone-project/Dognition-coursera/raw-data/dognition_dog.xlsx')"
   ]
  },
  {
   "cell_type": "code",
   "execution_count": 2,
   "id": "3467b3b4",
   "metadata": {},
   "outputs": [
    {
     "name": "stdout",
     "output_type": "stream",
     "text": [
      "Index(['Created_at', 'Updated_at', 'User_ID', 'Dog_ID', 'Test_name',\n",
      "       'Subcategory_name', 'Gender', 'Birthday', 'Breed', 'Breed_Type',\n",
      "       'Breed_Group', 'Weight', 'Dog_Fixed', 'DNA_Tested', 'Dimension',\n",
      "       'Sign_in_Count', 'Max_Dogs', 'Membership_ID', 'Subscribed', 'City',\n",
      "       'State', 'Zip', 'Country', 'Exclude', 'Free_Start_User',\n",
      "       'Last_Active_At', 'Membership_Type', 'Rating', 'Rank_by_UserID',\n",
      "       'Rank_by_DogID'],\n",
      "      dtype='object')\n",
      "(177481, 30)\n",
      "Index(['Dog ID', 'Total Tests Completed', 'Mean ITI (days)',\n",
      "       'Mean ITI (minutes)', 'Median ITI (days)', 'Median ITI (minutes)',\n",
      "       'Time diff between first and last game (days)',\n",
      "       'Time diff between first and last game (minutes)', 'User ID', 'Gender',\n",
      "       'Birthday', 'Breed', 'Breed_Type', 'Breed_Group', 'Weight', 'Dog_Fixed',\n",
      "       'DNA_Tested', 'Dimension', 'Sign_in_Count', 'Max_Dogs', 'Membership_ID',\n",
      "       'Subscribed', 'City', 'State', 'Zip', 'Country', 'Exclude',\n",
      "       'Free_Start_User', 'Last_Active_At', 'Membership_Type'],\n",
      "      dtype='object')\n",
      "(17986, 30)\n"
     ]
    }
   ],
   "source": [
    "print(df_user.columns)\n",
    "print(df_user.shape)\n",
    "print(df_dog.columns)\n",
    "print(df_dog.shape)"
   ]
  },
  {
   "cell_type": "markdown",
   "id": "71561f50",
   "metadata": {},
   "source": [
    "# 1 Total tests completed vs. dog info\n",
    "\n",
    "## 1.1 Dog age"
   ]
  },
  {
   "cell_type": "code",
   "execution_count": 5,
   "id": "5f0c28ff",
   "metadata": {},
   "outputs": [
    {
     "data": {
      "text/plain": [
       "0    2011.0\n",
       "1    2007.0\n",
       "2    2012.0\n",
       "3    2011.0\n",
       "4    2010.0\n",
       "Name: Birthday, dtype: float64"
      ]
     },
     "execution_count": 5,
     "metadata": {},
     "output_type": "execute_result"
    }
   ],
   "source": [
    "df_dog['Birthday'].head(5)"
   ]
  },
  {
   "cell_type": "markdown",
   "id": "a771771e",
   "metadata": {},
   "source": [
    "<font color = 'green'>scatter or a simple correlation calculation would help to check out the correlation between dog age and total tests completed</font>"
   ]
  },
  {
   "cell_type": "markdown",
   "id": "64f5c0fd",
   "metadata": {},
   "source": [
    "## 2.1 Dog gender"
   ]
  },
  {
   "cell_type": "code",
   "execution_count": 9,
   "id": "9f99bd35",
   "metadata": {},
   "outputs": [
    {
     "data": {
      "text/plain": [
       "<pandas.core.groupby.generic.DataFrameGroupBy object at 0x1234afc70>"
      ]
     },
     "execution_count": 9,
     "metadata": {},
     "output_type": "execute_result"
    }
   ],
   "source": [
    "df_dog['Gender'].value_counts()"
   ]
  },
  {
   "cell_type": "code",
   "execution_count": 13,
   "id": "4bf4f93c",
   "metadata": {},
   "outputs": [
    {
     "data": {
      "text/plain": [
       "Gender       \n",
       "female  count    8633.00\n",
       "        mean        9.85\n",
       "        std         7.84\n",
       "        min         1.00\n",
       "        25%         4.00\n",
       "        50%         7.00\n",
       "        75%        16.00\n",
       "        max        45.00\n",
       "male    count    9352.00\n",
       "        mean        9.77\n",
       "        std         7.77\n",
       "        min         1.00\n",
       "        25%         4.00\n",
       "        50%         7.00\n",
       "        75%        16.00\n",
       "        max        45.00\n",
       "Name: Total Tests Completed, dtype: float64"
      ]
     },
     "execution_count": 13,
     "metadata": {},
     "output_type": "execute_result"
    }
   ],
   "source": [
    "#create a grouped dataframe based on the dog gender\n",
    "gender_grp = df_dog.groupby(['Gender'])\n",
    "\n",
    "#Check out the basic descriptive statistics in each gender group\n",
    "gender_grp['Total Tests Completed'].apply(lambda x: x.describe().round(2))"
   ]
  },
  {
   "cell_type": "markdown",
   "id": "59f47f45",
   "metadata": {},
   "source": [
    "### 2.1.1 No patterns between total tests completed and dog gender\n",
    "\n",
    "Above output showed that female and male dog groups have quite similar distribution of total tests completed. So maybe grouping by the gender on its own does not generate any interesting patterns.\n",
    "\n",
    "\n",
    "## 2.2 Dog breed info\n",
    "\n",
    "### 2.2.1 Name of Breed"
   ]
  },
  {
   "cell_type": "code",
   "execution_count": 23,
   "id": "4f4ef0d7",
   "metadata": {},
   "outputs": [
    {
     "data": {
      "text/plain": [
       "1327"
      ]
     },
     "execution_count": 23,
     "metadata": {},
     "output_type": "execute_result"
    }
   ],
   "source": [
    "pd.unique(df_dog['Breed']).size"
   ]
  },
  {
   "cell_type": "markdown",
   "id": "dc90252a",
   "metadata": {},
   "source": [
    "It seems that there are 1327 unique breed names. Maybe we should start with breed group in that case.\n",
    "\n",
    "### 2.2.2 Breed Group"
   ]
  },
  {
   "cell_type": "code",
   "execution_count": 24,
   "id": "8ac07d31",
   "metadata": {},
   "outputs": [
    {
     "data": {
      "text/plain": [
       "0               9055\n",
       "Sporting        2587\n",
       "Herding         1876\n",
       "Toy             1168\n",
       "Non-Sporting    1007\n",
       "Working          899\n",
       "Terrier          809\n",
       "Hound            584\n",
       "Name: Breed_Group, dtype: int64"
      ]
     },
     "execution_count": 24,
     "metadata": {},
     "output_type": "execute_result"
    }
   ],
   "source": [
    "df_dog['Breed_Group'].value_counts()"
   ]
  },
  {
   "cell_type": "code",
   "execution_count": 32,
   "id": "239d1599",
   "metadata": {},
   "outputs": [
    {
     "data": {
      "text/plain": [
       "Breed_Group\n",
       "0               7.0\n",
       "Herding         7.0\n",
       "Hound           7.0\n",
       "Non-Sporting    7.0\n",
       "Sporting        7.0\n",
       "Terrier         7.0\n",
       "Toy             5.0\n",
       "Working         7.0\n",
       "Name: Total Tests Completed, dtype: float64"
      ]
     },
     "execution_count": 32,
     "metadata": {},
     "output_type": "execute_result"
    }
   ],
   "source": [
    "#group by dog data by breed group\n",
    "\n",
    "breed_grp = df_dog.groupby(['Breed_Group'])\n",
    "breed_grp['Total Tests Completed'].apply(lambda x: x.median().round(1))"
   ]
  },
  {
   "cell_type": "markdown",
   "id": "f3a064f5",
   "metadata": {},
   "source": [
    "### 2.2.3 Percetage of dogs completed 20 tests in each breed group"
   ]
  },
  {
   "cell_type": "code",
   "execution_count": 41,
   "id": "50fa61b7",
   "metadata": {},
   "outputs": [
    {
     "data": {
      "text/plain": [
       "Breed_Group\n",
       "0               2059\n",
       "Herding          523\n",
       "Hound            135\n",
       "Non-Sporting     217\n",
       "Sporting         675\n",
       "Terrier          172\n",
       "Toy              206\n",
       "Working          212\n",
       "Name: Total Tests Completed, dtype: int64"
      ]
     },
     "execution_count": 41,
     "metadata": {},
     "output_type": "execute_result"
    }
   ],
   "source": [
    "#Select dogs completed the first 20 tests only\n",
    "filt_tests_comp = (df_dog['Total Tests Completed'] >= 20)\n",
    "df_dog_comp = df_dog.loc[filt_tests_comp]\n",
    "\n",
    "#Count dogs who completed the first 20 tests in each breed group\n",
    "comp_breed_grp = df_dog_comp.groupby(['Breed_Group'])\n",
    "comp_count = comp_breed_grp['Total Tests Completed'].apply(lambda x: x.count())\n",
    "\n",
    "comp_count"
   ]
  },
  {
   "cell_type": "code",
   "execution_count": 43,
   "id": "52ea3449",
   "metadata": {},
   "outputs": [
    {
     "data": {
      "text/plain": [
       "0               9055\n",
       "Sporting        2587\n",
       "Herding         1876\n",
       "Toy             1168\n",
       "Non-Sporting    1007\n",
       "Working          899\n",
       "Terrier          809\n",
       "Hound            584\n",
       "Name: Breed_Group, dtype: int64"
      ]
     },
     "execution_count": 43,
     "metadata": {},
     "output_type": "execute_result"
    }
   ],
   "source": [
    "breed_counts = df_dog['Breed_Group'].value_counts()\n",
    "breed_counts"
   ]
  },
  {
   "cell_type": "code",
   "execution_count": 55,
   "id": "7994ebce",
   "metadata": {},
   "outputs": [
    {
     "data": {
      "text/html": [
       "<div>\n",
       "<style scoped>\n",
       "    .dataframe tbody tr th:only-of-type {\n",
       "        vertical-align: middle;\n",
       "    }\n",
       "\n",
       "    .dataframe tbody tr th {\n",
       "        vertical-align: top;\n",
       "    }\n",
       "\n",
       "    .dataframe thead th {\n",
       "        text-align: right;\n",
       "    }\n",
       "</style>\n",
       "<table border=\"1\" class=\"dataframe\">\n",
       "  <thead>\n",
       "    <tr style=\"text-align: right;\">\n",
       "      <th></th>\n",
       "      <th>NumBreed</th>\n",
       "      <th>NumTestsComp</th>\n",
       "      <th>PercComp</th>\n",
       "    </tr>\n",
       "  </thead>\n",
       "  <tbody>\n",
       "    <tr>\n",
       "      <th>Herding</th>\n",
       "      <td>1876</td>\n",
       "      <td>523</td>\n",
       "      <td>28.0</td>\n",
       "    </tr>\n",
       "    <tr>\n",
       "      <th>Sporting</th>\n",
       "      <td>2587</td>\n",
       "      <td>675</td>\n",
       "      <td>26.0</td>\n",
       "    </tr>\n",
       "    <tr>\n",
       "      <th>Working</th>\n",
       "      <td>899</td>\n",
       "      <td>212</td>\n",
       "      <td>24.0</td>\n",
       "    </tr>\n",
       "    <tr>\n",
       "      <th>0</th>\n",
       "      <td>9055</td>\n",
       "      <td>2059</td>\n",
       "      <td>23.0</td>\n",
       "    </tr>\n",
       "    <tr>\n",
       "      <th>Hound</th>\n",
       "      <td>584</td>\n",
       "      <td>135</td>\n",
       "      <td>23.0</td>\n",
       "    </tr>\n",
       "    <tr>\n",
       "      <th>Non-Sporting</th>\n",
       "      <td>1007</td>\n",
       "      <td>217</td>\n",
       "      <td>22.0</td>\n",
       "    </tr>\n",
       "    <tr>\n",
       "      <th>Terrier</th>\n",
       "      <td>809</td>\n",
       "      <td>172</td>\n",
       "      <td>21.0</td>\n",
       "    </tr>\n",
       "    <tr>\n",
       "      <th>Toy</th>\n",
       "      <td>1168</td>\n",
       "      <td>206</td>\n",
       "      <td>18.0</td>\n",
       "    </tr>\n",
       "  </tbody>\n",
       "</table>\n",
       "</div>"
      ],
      "text/plain": [
       "              NumBreed  NumTestsComp  PercComp\n",
       "Herding           1876           523      28.0\n",
       "Sporting          2587           675      26.0\n",
       "Working            899           212      24.0\n",
       "0                 9055          2059      23.0\n",
       "Hound              584           135      23.0\n",
       "Non-Sporting      1007           217      22.0\n",
       "Terrier            809           172      21.0\n",
       "Toy               1168           206      18.0"
      ]
     },
     "execution_count": 55,
     "metadata": {},
     "output_type": "execute_result"
    }
   ],
   "source": [
    "perc_tests_comp = ((comp_count/breed_counts)*100).round()\n",
    "\n",
    "df_breed_grp = pd.concat([breed_counts, comp_count, perc_tests_comp], axis=1)\n",
    "df_breed_grp.rename(columns={'Breed_Group':'NumBreed','Total Tests Completed':'NumTestsComp', 0:'PercComp'}, inplace = True)\n",
    "df_breed_grp=df_breed_grp.sort_values(by='PercComp', ascending=False)\n",
    "\n",
    "df_breed_grp"
   ]
  },
  {
   "cell_type": "markdown",
   "id": "0f63d102",
   "metadata": {},
   "source": [
    "#### 2.2.3.1 First findings\n",
    "\n",
    "* Herding dogs tend to complete tests "
   ]
  }
 ],
 "metadata": {
  "kernelspec": {
   "display_name": "Python 3 (ipykernel)",
   "language": "python",
   "name": "python3"
  },
  "language_info": {
   "codemirror_mode": {
    "name": "ipython",
    "version": 3
   },
   "file_extension": ".py",
   "mimetype": "text/x-python",
   "name": "python",
   "nbconvert_exporter": "python",
   "pygments_lexer": "ipython3",
   "version": "3.8.2"
  }
 },
 "nbformat": 4,
 "nbformat_minor": 5
}
