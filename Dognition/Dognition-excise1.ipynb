{
 "cells": [
  {
   "cell_type": "markdown",
   "id": "95920f55",
   "metadata": {},
   "source": [
    "# First glance at the dognition data \n",
    "\n",
    "**The main focus in this exercise is to explore any relationship between total tests completed and test itselt and membership type**\n",
    "\n",
    "* Import dataset and take the first look at the data\n",
    "\n",
    "\n",
    "* Look for a clue of what may affect total tests completed: \n",
    "\n",
    " - start with the data of total tests completed itself: from which tests the users do not continue the test;\n",
    " \n",
    " - median of each test time: could it because users feel the tests are too easy (infered by a short test time) or the tests are too hard (infered by a long test time);\n",
    " \n",
    " - time difference between the first and last test (the idea was abandonded because the time diff totally depends the total tests);\n",
    " \n",
    " - After knowing the difference of membership type, we start to explore any pattern between membership type and total tests completed.\n"
   ]
  },
  {
   "cell_type": "code",
   "execution_count": 1,
   "id": "4566cf60",
   "metadata": {},
   "outputs": [],
   "source": [
    "import pandas as pd\n",
    "\n",
    "df_user = pd.read_excel('/Users/jingai/workspace/Capstone-project/Dognition-coursera/raw-data/dognition_user.xlsx')\n",
    "df_dog= pd.read_excel('/Users/jingai/workspace/Capstone-project/Dognition-coursera/raw-data/dognition_dog.xlsx')"
   ]
  },
  {
   "cell_type": "code",
   "execution_count": 19,
   "id": "7087049c",
   "metadata": {},
   "outputs": [
    {
     "name": "stdout",
     "output_type": "stream",
     "text": [
      "Index(['Created_at', 'Updated_at', 'User_ID', 'Dog_ID', 'Test_name',\n",
      "       'Subcategory_name', 'Gender', 'Birthday', 'Breed', 'Breed_Type',\n",
      "       'Breed_Group', 'Weight', 'Dog_Fixed', 'DNA_Tested', 'Dimension',\n",
      "       'Sign_in_Count', 'Max_Dogs', 'Membership_ID', 'Subscribed', 'City',\n",
      "       'State', 'Zip', 'Country', 'Exclude', 'Free_Start_User',\n",
      "       'Last_Active_At', 'Membership_Type', 'Rating', 'Rank_by_UserID',\n",
      "       'Rank_by_DogID'],\n",
      "      dtype='object')\n",
      "(177481, 30)\n",
      "Index(['Dog ID', 'Total Tests Completed', 'Mean ITI (days)',\n",
      "       'Mean ITI (minutes)', 'Median ITI (days)', 'Median ITI (minutes)',\n",
      "       'Time diff between first and last game (days)',\n",
      "       'Time diff between first and last game (minutes)', 'User ID', 'Gender',\n",
      "       'Birthday', 'Breed', 'Breed_Type', 'Breed_Group', 'Weight', 'Dog_Fixed',\n",
      "       'DNA_Tested', 'Dimension', 'Sign_in_Count', 'Max_Dogs', 'Membership_ID',\n",
      "       'Subscribed', 'City', 'State', 'Zip', 'Country', 'Exclude',\n",
      "       'Free_Start_User', 'Last_Active_At', 'Membership_Type'],\n",
      "      dtype='object')\n",
      "(17986, 30)\n"
     ]
    }
   ],
   "source": [
    "print(df_user.columns)\n",
    "print(df_user.shape)\n",
    "print(df_dog.columns)\n",
    "print(df_dog.shape)"
   ]
  },
  {
   "cell_type": "markdown",
   "id": "712f2a16",
   "metadata": {},
   "source": [
    "## 1 Browsing a relation between total tests completed and tests time"
   ]
  },
  {
   "cell_type": "code",
   "execution_count": null,
   "id": "e54bc952",
   "metadata": {},
   "outputs": [],
   "source": [
    "# for the whole population\n",
    "df_dog[['Total Tests Completed', 'Median ITI (minutes)', 'Time diff between first and last game (days)']].describe().round(2)"
   ]
  },
  {
   "cell_type": "code",
   "execution_count": null,
   "id": "15b9886e",
   "metadata": {},
   "outputs": [],
   "source": [
    "# for dogs who complete 20 tests\n",
    "# filter out that Mean ITI and Time diff > 0.1 which does not make sense\n",
    "\n",
    "filt_comp = (df_dog['Total Tests Completed'] >= 20) & (df_dog['Median ITI (minutes)'] > 0.1) & (df_dog['Time diff between first and last game (days)'] > 0.1)\n",
    "dog_complete = df_dog.loc[filt_comp]\n",
    "dog_complete[['Total Tests Completed', 'Median ITI (minutes)', 'Time diff between first and last game (days)']].describe().round(2)"
   ]
  },
  {
   "cell_type": "code",
   "execution_count": null,
   "id": "927b8bf9",
   "metadata": {},
   "outputs": [],
   "source": [
    "# take a look at the dogs who did not complete the first 20 tests.\n",
    "\n",
    "filt_incomp = (df_dog['Total Tests Completed'] < 20)\n",
    "dog_incomp = df_dog.loc[filt_incomp]\n",
    "dog_incomp[['Total Tests Completed', 'Median ITI (minutes)', 'Time diff between first and last game (days)']].describe().round(2)"
   ]
  },
  {
   "cell_type": "markdown",
   "id": "9cb7eb40",
   "metadata": {},
   "source": [
    "### 1.1 First findings and hypothesis\n",
    "\n",
    "#### 1.1.1 Interesting findings\n",
    "\n",
    "1. For all dogs (no data are excluded)\n",
    "\n",
    "    - the total tests tompleted ranges between 1 and 45, with 7 as a median, indicating that majority of dogs have not complete the tests. <i><font color='blue'>Maybe a histgram would be helpful to check out when most of users stopped continuing the tests. </font></i>\n",
    "    \n",
    "    - Majority of dogs spent 5.61 min completing one test, as seen median('Median ITI(minutes)')\n",
    "    \n",
    "    - The median of Time diff between first and last game is 0.72 days. <i><font color='blue'>This data may not be useful as some dogs only complete a few games, which reasonably show a short time diff.</font></i>\n",
    "    \n",
    "    \n",
    "2. For dogs who completed 20 tests (excluding 'Median ITI(minutes)' < 0.1 and 'Time diff' < 0.1)\n",
    "\n",
    "    - Most dogs just completed 20 tests; <i><font color='blue'>Why did not they continue completing the games? Promotion? Free trial ends (A recent promotion provides 20 tests)?</font></i>\n",
    "    \n",
    "    - Most dogs in this group spent 6.35 min completing one test, which is not far from the results from the whole population;\n",
    "    \n",
    "    - The median of 'time diff' is 14.24 days.\n",
    "    \n",
    "\n",
    "3. For dogs who have not completed 20 tests (excluding 'Median ITI(minutes)' < 0.1 and 'Time diff' < 0.1)\n",
    "\n",
    "    - Majority of dogs in this group only completed 4 games, as seen that both 25 and 50 quatile are 4;<i><font color='blue'>Why majority of dogs stopped at the fourth game? Free trial ends (provide the first 4 games)?</font></i>\n",
    "    \n",
    "    - Most dogs in this group spent 5.33 min completing one test, which is not far from the results from the whole population;\n",
    "    \n",
    "    - The median of 'time diff' is 0.03 days, indicating that most dogs/users might have given up after trying the first few games.\n",
    "    \n",
    "\n",
    "#### 1.1.2 Hypothesis and possible actions\n",
    "\n",
    "The Hypothesis has been noted right after each interesting findings. \n",
    "\n",
    "In order to come up with recommedations on how to make more dogs/users complete tests, we need firstly figure out what could cause them stop completing tests, and which factors are linked with the number of total completed tests. The first glance shows a strong indication that most of users may stop the tests when free trials end. Thus, the next the step is to find out \n",
    "\n",
    "1. at which tests users do not continue the tests the most <i><font color='blue'>proper histogram</font></i> <i><font color='green'>(wait for finishing matlibplot tutorial video)</font></i>\n",
    "\n",
    "2. take a look at 'Membership_Type' data and try to find a link with 'Total Tests Completed'\n",
    "\n",
    "\n",
    "\n",
    "## 2 A first glance at membership type\n",
    "    \n",
    "**Membership type information**\n",
    "\n",
    "1. ***Type 1** Membership: Dognition Assessment of initial 20 games*\n",
    "\n",
    "2. ***Type 2** - Annual subscription: provide the Dognition Assessment plus 12 months of subscription service (where one new test and activity are “unlocked” per month, beginning of the month after purchase)*\n",
    "\n",
    "3. ***Type 3** - Monthly subscription: provide the Dognition Assessment plus the subscription service billed monthly.*\n",
    "\n",
    "4. ***Type 4** - Free subscriptions (the first 4 games for free) but needs to upgrade for the rest.*\n",
    "    \n",
    "5. ***Type 5** - Subscription: a recent test that offers the entire 20-game Dognition Assessment for free, but then allows user to upgrade to a monthly subscription.*\n",
    "\n",
    "### 2.1 Any link between membership type and total completed tests?"
   ]
  },
  {
   "cell_type": "code",
   "execution_count": 8,
   "id": "5a29b35f",
   "metadata": {},
   "outputs": [
    {
     "data": {
      "text/plain": [
       "1     9129\n",
       "4     3874\n",
       "2     3735\n",
       "3      659\n",
       "0      502\n",
       "5       46\n",
       "CA      40\n",
       "Name: Membership_Type, dtype: int64"
      ]
     },
     "execution_count": 8,
     "metadata": {},
     "output_type": "execute_result"
    }
   ],
   "source": [
    "df_dog['Membership_Type'].value_counts()"
   ]
  },
  {
   "cell_type": "markdown",
   "id": "f566599e",
   "metadata": {},
   "source": [
    "The first glance show that majority of users assessed to the games by the Dognition Assessment of initial 20 games (membership **type 1**), following free subscriptions (**type 4**) which were offered to have access to the first games for free. The number of Annual subscriptions (**type 2**) are also noticeable. And only a small portion of uses chose Monthly subscriptions (**type 3**) and were offered the entire 20-game Dognition Assessment for free (**Type 5**). \n",
    "\n",
    "Type 0 and CA are not defined is the schema table, which are excluded for analysis.\n",
    "\n",
    "Next, we are going to look at the total completed tests for each membership type group via `df.groupby()`.\n"
   ]
  },
  {
   "cell_type": "code",
   "execution_count": 15,
   "id": "dc1b1465",
   "metadata": {},
   "outputs": [
    {
     "data": {
      "text/plain": [
       "Membership_Type       \n",
       "1                count    9129.00\n",
       "                 mean       10.82\n",
       "                 std         6.86\n",
       "                 min         1.00\n",
       "                 25%         4.00\n",
       "                 50%         9.00\n",
       "                 75%        20.00\n",
       "                 max        23.00\n",
       "2                count    3735.00\n",
       "                 mean       13.94\n",
       "                 std         9.70\n",
       "                 min         1.00\n",
       "                 25%         4.00\n",
       "                 50%        14.00\n",
       "                 75%        20.00\n",
       "                 max        45.00\n",
       "3                count     659.00\n",
       "                 mean       12.54\n",
       "                 std         8.82\n",
       "                 min         1.00\n",
       "                 25%         4.00\n",
       "                 50%        11.00\n",
       "                 75%        20.00\n",
       "                 max        45.00\n",
       "4                count    3874.00\n",
       "                 mean        3.93\n",
       "                 std         2.08\n",
       "                 min         1.00\n",
       "                 25%         2.00\n",
       "                 50%         4.00\n",
       "                 75%         6.00\n",
       "                 max        20.00\n",
       "5                count      46.00\n",
       "                 mean       11.30\n",
       "                 std         7.04\n",
       "                 min         2.00\n",
       "                 25%         4.00\n",
       "                 50%        11.00\n",
       "                 75%        19.50\n",
       "                 max        23.00\n",
       "Name: Total Tests Completed, dtype: float64"
      ]
     },
     "execution_count": 15,
     "metadata": {},
     "output_type": "execute_result"
    }
   ],
   "source": [
    "# filter out the undefined membership type\n",
    "filt_memb = ((df_dog['Membership_Type'] != 0) & (df_dog['Membership_Type'] != 'CA'))\n",
    "\n",
    "#create a dataframegroup based on 'Membership_Type'\n",
    "membership_grp = df_dog.loc[filt_memb].groupby(['Membership_Type'])\n",
    "\n",
    "#Check whether we got the desired results\n",
    "membership_grp['Membership_Type'].value_counts()\n",
    "\n",
    "#Glance at the statistic description of 'Total Tests Completed' for each type of membership\n",
    "membership_grp['Total Tests Completed'].apply(lambda x: x.describe().round(2))"
   ]
  },
  {
   "cell_type": "markdown",
   "id": "54b6bdb9",
   "metadata": {},
   "source": [
    "### 2.2 First findings and preliminary conclusions\n",
    "\n",
    "* Comparing median of total tests completed: **Type 2(14) > Type 3(11) = Type 5(11) > Type 1(9) > Type 4(4)** <font color=\"blue\"><i>Histograms for each membership type on total tests completed would help.</i></font>\n",
    "\n",
    "   \n",
    "* The number of Annual subscribers are 3735 (which is a quite noticeable portion in total users), so the output can be reliable to some extent. The median of total tests completed is even higher than that of Type 5 (free for the initial 20 games). <font color=\"blue\"><i>The preliminary thinking is that Annual subscribers tend to complete more tests probably because they care their dogs more.</i></font>\n",
    "\n",
    "\n",
    "* Offering the first 20 tests free only show a slightly better effect on total tests completed compared to the membership who paid for the first 20 tests at once. <font color=\"blue\"><i>As the counts of Type 5 is quite small (46), maybe the conclusion is not persuasive. More data needed?</i></font>\n",
    "\n",
    "\n",
    "* Offering the first 4 tests for free trial showed the lowest median of total tests completed despite a large portion of users. <font color=\"blue\"><i>It suggests that this promotion stragety may not help increasing the total tests completed.</i></font>"
   ]
  },
  {
   "cell_type": "markdown",
   "id": "bf9d90da",
   "metadata": {},
   "source": [
    "### 2.3 Any link between membership type and whether a user has a paid subscription or not and total tests completed?"
   ]
  },
  {
   "cell_type": "code",
   "execution_count": 60,
   "id": "c07e6ec2",
   "metadata": {},
   "outputs": [
    {
     "data": {
      "text/html": [
       "<div>\n",
       "<style scoped>\n",
       "    .dataframe tbody tr th:only-of-type {\n",
       "        vertical-align: middle;\n",
       "    }\n",
       "\n",
       "    .dataframe tbody tr th {\n",
       "        vertical-align: top;\n",
       "    }\n",
       "\n",
       "    .dataframe thead th {\n",
       "        text-align: right;\n",
       "    }\n",
       "</style>\n",
       "<table border=\"1\" class=\"dataframe\">\n",
       "  <thead>\n",
       "    <tr style=\"text-align: right;\">\n",
       "      <th></th>\n",
       "      <th></th>\n",
       "      <th>Total Tests Completed</th>\n",
       "    </tr>\n",
       "    <tr>\n",
       "      <th>Subscribed</th>\n",
       "      <th></th>\n",
       "      <th></th>\n",
       "    </tr>\n",
       "  </thead>\n",
       "  <tbody>\n",
       "    <tr>\n",
       "      <th rowspan=\"8\" valign=\"top\">0.0</th>\n",
       "      <th>count</th>\n",
       "      <td>8109.00</td>\n",
       "    </tr>\n",
       "    <tr>\n",
       "      <th>mean</th>\n",
       "      <td>7.30</td>\n",
       "    </tr>\n",
       "    <tr>\n",
       "      <th>std</th>\n",
       "      <td>6.45</td>\n",
       "    </tr>\n",
       "    <tr>\n",
       "      <th>min</th>\n",
       "      <td>1.00</td>\n",
       "    </tr>\n",
       "    <tr>\n",
       "      <th>25%</th>\n",
       "      <td>3.00</td>\n",
       "    </tr>\n",
       "    <tr>\n",
       "      <th>50%</th>\n",
       "      <td>4.00</td>\n",
       "    </tr>\n",
       "    <tr>\n",
       "      <th>75%</th>\n",
       "      <td>8.00</td>\n",
       "    </tr>\n",
       "    <tr>\n",
       "      <th>max</th>\n",
       "      <td>45.00</td>\n",
       "    </tr>\n",
       "    <tr>\n",
       "      <th rowspan=\"8\" valign=\"top\">1.0</th>\n",
       "      <th>count</th>\n",
       "      <td>9876.00</td>\n",
       "    </tr>\n",
       "    <tr>\n",
       "      <th>mean</th>\n",
       "      <td>11.87</td>\n",
       "    </tr>\n",
       "    <tr>\n",
       "      <th>std</th>\n",
       "      <td>8.19</td>\n",
       "    </tr>\n",
       "    <tr>\n",
       "      <th>min</th>\n",
       "      <td>1.00</td>\n",
       "    </tr>\n",
       "    <tr>\n",
       "      <th>25%</th>\n",
       "      <td>4.00</td>\n",
       "    </tr>\n",
       "    <tr>\n",
       "      <th>50%</th>\n",
       "      <td>11.00</td>\n",
       "    </tr>\n",
       "    <tr>\n",
       "      <th>75%</th>\n",
       "      <td>20.00</td>\n",
       "    </tr>\n",
       "    <tr>\n",
       "      <th>max</th>\n",
       "      <td>45.00</td>\n",
       "    </tr>\n",
       "  </tbody>\n",
       "</table>\n",
       "</div>"
      ],
      "text/plain": [
       "                  Total Tests Completed\n",
       "Subscribed                             \n",
       "0.0        count                8109.00\n",
       "           mean                    7.30\n",
       "           std                     6.45\n",
       "           min                     1.00\n",
       "           25%                     3.00\n",
       "           50%                     4.00\n",
       "           75%                     8.00\n",
       "           max                    45.00\n",
       "1.0        count                9876.00\n",
       "           mean                   11.87\n",
       "           std                     8.19\n",
       "           min                     1.00\n",
       "           25%                     4.00\n",
       "           50%                    11.00\n",
       "           75%                    20.00\n",
       "           max                    45.00"
      ]
     },
     "execution_count": 60,
     "metadata": {},
     "output_type": "execute_result"
    }
   ],
   "source": [
    "#First glance at the whole population\n",
    "paid_grp = df_dog.groupby(['Subscribed'])\n",
    "paid_grp[['Total Tests Completed']].apply(lambda x: x.describe().round(2))"
   ]
  },
  {
   "cell_type": "markdown",
   "id": "643c217d",
   "metadata": {},
   "source": [
    "#### 2.3.1 A rough conclusion on whole samples\n",
    "\n",
    "* There are half of users who have paid subscriptions and half do not.\n",
    "\n",
    "* In general, subscribed users completed more tests than non-subscribed users.\n",
    "\n",
    "* As whether a user has a paid subscription highly depend on the type of members, we are gonna look at 'subscribed' cases in each membership type."
   ]
  },
  {
   "cell_type": "code",
   "execution_count": 45,
   "id": "c5f15726",
   "metadata": {},
   "outputs": [
    {
     "data": {
      "text/plain": [
       "1    9129\n",
       "4    3874\n",
       "2    3735\n",
       "3     659\n",
       "5      46\n",
       "Name: Membership_Type, dtype: int64"
      ]
     },
     "execution_count": 45,
     "metadata": {},
     "output_type": "execute_result"
    }
   ],
   "source": [
    "# how many users in each type of membership in total\n",
    "membership_counts = df_dog.loc[filt_memb]['Membership_Type'].value_counts()\n",
    "membership_counts"
   ]
  },
  {
   "cell_type": "code",
   "execution_count": 59,
   "id": "ae4f9225",
   "metadata": {},
   "outputs": [
    {
     "data": {
      "text/plain": [
       "Membership_Type\n",
       "1    6111.0\n",
       "2    3118.0\n",
       "3     556.0\n",
       "4      16.0\n",
       "5      42.0\n",
       "Name: Subscribed, dtype: float64"
      ]
     },
     "execution_count": 59,
     "metadata": {},
     "output_type": "execute_result"
    }
   ],
   "source": [
    "# how many users in each type of membership have a paid subscription\n",
    "memb_paid_counts = membership_grp['Subscribed'].apply(lambda x: x.sum())\n",
    "memb_paid_counts"
   ]
  },
  {
   "cell_type": "code",
   "execution_count": 56,
   "id": "0f6081ba",
   "metadata": {},
   "outputs": [
    {
     "data": {
      "text/html": [
       "<div>\n",
       "<style scoped>\n",
       "    .dataframe tbody tr th:only-of-type {\n",
       "        vertical-align: middle;\n",
       "    }\n",
       "\n",
       "    .dataframe tbody tr th {\n",
       "        vertical-align: top;\n",
       "    }\n",
       "\n",
       "    .dataframe thead th {\n",
       "        text-align: right;\n",
       "    }\n",
       "</style>\n",
       "<table border=\"1\" class=\"dataframe\">\n",
       "  <thead>\n",
       "    <tr style=\"text-align: right;\">\n",
       "      <th></th>\n",
       "      <th>NumMemberType</th>\n",
       "      <th>NumPaid</th>\n",
       "      <th>PercMembPaid</th>\n",
       "      <th>MedianTotTests</th>\n",
       "    </tr>\n",
       "  </thead>\n",
       "  <tbody>\n",
       "    <tr>\n",
       "      <th>2</th>\n",
       "      <td>3735</td>\n",
       "      <td>3118.0</td>\n",
       "      <td>83.48</td>\n",
       "      <td>14.0</td>\n",
       "    </tr>\n",
       "    <tr>\n",
       "      <th>3</th>\n",
       "      <td>659</td>\n",
       "      <td>556.0</td>\n",
       "      <td>84.37</td>\n",
       "      <td>11.0</td>\n",
       "    </tr>\n",
       "    <tr>\n",
       "      <th>5</th>\n",
       "      <td>46</td>\n",
       "      <td>42.0</td>\n",
       "      <td>91.30</td>\n",
       "      <td>11.0</td>\n",
       "    </tr>\n",
       "    <tr>\n",
       "      <th>1</th>\n",
       "      <td>9129</td>\n",
       "      <td>6111.0</td>\n",
       "      <td>66.94</td>\n",
       "      <td>9.0</td>\n",
       "    </tr>\n",
       "    <tr>\n",
       "      <th>4</th>\n",
       "      <td>3874</td>\n",
       "      <td>16.0</td>\n",
       "      <td>0.41</td>\n",
       "      <td>4.0</td>\n",
       "    </tr>\n",
       "  </tbody>\n",
       "</table>\n",
       "</div>"
      ],
      "text/plain": [
       "   NumMemberType  NumPaid  PercMembPaid  MedianTotTests\n",
       "2           3735   3118.0         83.48            14.0\n",
       "3            659    556.0         84.37            11.0\n",
       "5             46     42.0         91.30            11.0\n",
       "1           9129   6111.0         66.94             9.0\n",
       "4           3874     16.0          0.41             4.0"
      ]
     },
     "execution_count": 56,
     "metadata": {},
     "output_type": "execute_result"
    }
   ],
   "source": [
    "# combine above two tables into one table showing percentage\n",
    "df_memb_paid_perc = pd.concat([membership_counts, memb_paid_counts],axis='columns', sort=False)\n",
    "\n",
    "#Rename the column giving a reasonable name\n",
    "df_memb_paid_perc.rename(columns={'Membership_Type': 'NumMemberType', 'Subscribed':'NumPaid'}, inplace=True)\n",
    "\n",
    "#Add a new column showing percentage\n",
    "df_memb_paid_perc['PercMembPaid'] = (df_memb_paid_perc['NumPaid']/df_memb_paid_perc['NumMemberType']*100).round(2)\n",
    "\n",
    "#Add a new column showing the median of total tests completed\n",
    "median_tot_tests = membership_grp['Total Tests Completed'].apply(lambda x: x.median())\n",
    "df_memb_paid_perc['MedianTotTests'] = median_tot_tests\n",
    "\n",
    "#Sort by median of total tests completed\n",
    "df_memb_paid_perc = df_memb_paid_perc.sort_values(by='MedianTotTests', ascending=False)\n",
    "df_memb_paid_perc"
   ]
  },
  {
   "cell_type": "markdown",
   "id": "5dff1a3e",
   "metadata": {},
   "source": [
    "#### 2.3.2 Rough conclusions on each type of membership\n",
    "\n",
    "* A quick look does not show any patten between paid subscription and total tests completed in each group. But in general, more tests completed are found in the group with a higher percentage of paid subscription. <font color='blue'><i>Maybe try to encourage users to become a paid subscription would help to compete more tests since people are more likely to enjoy the service if they are paying. </i></font>\n",
    "\n",
    "\n",
    "* It is interesting to see that only very few users have a paid subscription if they access to the Dognition tests through a free trial for the first 4 tests. This again indicates that **offering a 4-tests free trial may not be a good idea to encourage users to complete the tests**.\n",
    "\n",
    "\n",
    "## 3 What the common feature of users who completed tests\n",
    "\n",
    "### 3.1 Common features of dog owners in each membership type\n",
    "\n",
    "As users who are annual and monthly members tend to complete more games, which we assume that it is because those owners care about their dogs more, we are gonna find proof for it. In other words, we are trying to find which dog owners are more likely to go annual subscription.\n",
    "\n",
    "#### 3.1.1 Start with whether dogs are fixed, have DNA tested and how many dogs the owners have."
   ]
  },
  {
   "cell_type": "code",
   "execution_count": 74,
   "id": "a72df694",
   "metadata": {},
   "outputs": [
    {
     "data": {
      "text/html": [
       "<div>\n",
       "<style scoped>\n",
       "    .dataframe tbody tr th:only-of-type {\n",
       "        vertical-align: middle;\n",
       "    }\n",
       "\n",
       "    .dataframe tbody tr th {\n",
       "        vertical-align: top;\n",
       "    }\n",
       "\n",
       "    .dataframe thead th {\n",
       "        text-align: right;\n",
       "    }\n",
       "</style>\n",
       "<table border=\"1\" class=\"dataframe\">\n",
       "  <thead>\n",
       "    <tr style=\"text-align: right;\">\n",
       "      <th></th>\n",
       "      <th>Dog_Fixed</th>\n",
       "      <th>DNA_Tested</th>\n",
       "    </tr>\n",
       "    <tr>\n",
       "      <th>Membership_Type</th>\n",
       "      <th></th>\n",
       "      <th></th>\n",
       "    </tr>\n",
       "  </thead>\n",
       "  <tbody>\n",
       "    <tr>\n",
       "      <th>1</th>\n",
       "      <td>8032.0</td>\n",
       "      <td>218.0</td>\n",
       "    </tr>\n",
       "    <tr>\n",
       "      <th>2</th>\n",
       "      <td>3225.0</td>\n",
       "      <td>258.0</td>\n",
       "    </tr>\n",
       "    <tr>\n",
       "      <th>3</th>\n",
       "      <td>541.0</td>\n",
       "      <td>6.0</td>\n",
       "    </tr>\n",
       "    <tr>\n",
       "      <th>4</th>\n",
       "      <td>3033.0</td>\n",
       "      <td>175.0</td>\n",
       "    </tr>\n",
       "    <tr>\n",
       "      <th>5</th>\n",
       "      <td>38.0</td>\n",
       "      <td>0.0</td>\n",
       "    </tr>\n",
       "  </tbody>\n",
       "</table>\n",
       "</div>"
      ],
      "text/plain": [
       "                 Dog_Fixed  DNA_Tested\n",
       "Membership_Type                       \n",
       "1                   8032.0       218.0\n",
       "2                   3225.0       258.0\n",
       "3                    541.0         6.0\n",
       "4                   3033.0       175.0\n",
       "5                     38.0         0.0"
      ]
     },
     "execution_count": 74,
     "metadata": {},
     "output_type": "execute_result"
    }
   ],
   "source": [
    "membgrp_dog=membership_grp[['Dog_Fixed','DNA_Tested']].apply(lambda x: x.sum())\n",
    "membgrp_dog"
   ]
  },
  {
   "cell_type": "code",
   "execution_count": 76,
   "id": "02308ee6",
   "metadata": {},
   "outputs": [
    {
     "data": {
      "text/plain": [
       "1    2.387994\n",
       "2    6.907631\n",
       "3    0.910470\n",
       "4    4.517295\n",
       "5    0.000000\n",
       "dtype: float64"
      ]
     },
     "execution_count": 76,
     "metadata": {},
     "output_type": "execute_result"
    }
   ],
   "source": [
    "perc_dnatested"
   ]
  },
  {
   "cell_type": "code",
   "execution_count": 78,
   "id": "4fa5fafe",
   "metadata": {},
   "outputs": [
    {
     "data": {
      "text/html": [
       "<div>\n",
       "<style scoped>\n",
       "    .dataframe tbody tr th:only-of-type {\n",
       "        vertical-align: middle;\n",
       "    }\n",
       "\n",
       "    .dataframe tbody tr th {\n",
       "        vertical-align: top;\n",
       "    }\n",
       "\n",
       "    .dataframe thead th {\n",
       "        text-align: right;\n",
       "    }\n",
       "</style>\n",
       "<table border=\"1\" class=\"dataframe\">\n",
       "  <thead>\n",
       "    <tr style=\"text-align: right;\">\n",
       "      <th></th>\n",
       "      <th>PercFix</th>\n",
       "      <th>Percdnatested</th>\n",
       "      <th>MedianTotTests</th>\n",
       "    </tr>\n",
       "  </thead>\n",
       "  <tbody>\n",
       "    <tr>\n",
       "      <th>1</th>\n",
       "      <td>87.98</td>\n",
       "      <td>2.39</td>\n",
       "      <td>9.0</td>\n",
       "    </tr>\n",
       "    <tr>\n",
       "      <th>2</th>\n",
       "      <td>86.35</td>\n",
       "      <td>6.91</td>\n",
       "      <td>14.0</td>\n",
       "    </tr>\n",
       "    <tr>\n",
       "      <th>3</th>\n",
       "      <td>82.09</td>\n",
       "      <td>0.91</td>\n",
       "      <td>11.0</td>\n",
       "    </tr>\n",
       "    <tr>\n",
       "      <th>4</th>\n",
       "      <td>78.29</td>\n",
       "      <td>4.52</td>\n",
       "      <td>4.0</td>\n",
       "    </tr>\n",
       "    <tr>\n",
       "      <th>5</th>\n",
       "      <td>82.61</td>\n",
       "      <td>0.00</td>\n",
       "      <td>11.0</td>\n",
       "    </tr>\n",
       "  </tbody>\n",
       "</table>\n",
       "</div>"
      ],
      "text/plain": [
       "   PercFix  Percdnatested  MedianTotTests\n",
       "1    87.98           2.39             9.0\n",
       "2    86.35           6.91            14.0\n",
       "3    82.09           0.91            11.0\n",
       "4    78.29           4.52             4.0\n",
       "5    82.61           0.00            11.0"
      ]
     },
     "execution_count": 78,
     "metadata": {},
     "output_type": "execute_result"
    }
   ],
   "source": [
    "perc_fixed = (membgrp_dog['Dog_Fixed']/membership_counts*100).round(2)\n",
    "perc_dnatested = (membgrp_dog['DNA_Tested']/membership_counts*100).round(2)\n",
    "\n",
    "df_memb_dog=pd.concat([perc_fixed, perc_dnatested, median_tot_tests], axis=1, sort=False)\n",
    "\n",
    "df_memb_dog.rename(columns={0: 'PercFix', 1: 'Percdnatested', 'Total Tests Completed': 'MedianTotTests'}, inplace=True)\n",
    "df_memb_dog\n"
   ]
  },
  {
   "cell_type": "markdown",
   "id": "489bc3ad",
   "metadata": {},
   "source": [
    "#### 3.1.2 First findings \n",
    "\n",
    "* No clearn pattern can be found between percentage of dogs fixed and membership type. So **whether the dog is fixed or not might not matter**.\n",
    "\n",
    "* It seems that the users with Annual subscriptions showed the highest percentage of dogs got DNA tested. <font color='blue'><i>Could it because these users own a pure breed dog? I.e., that's why they care their dogs more and want to do assessment on their dogs?</i></font>\n",
    "\n",
    "To affirm above hypothesis, we are gonna take a look at the breed type of the dogs in each membership type.\n",
    "\n",
    "#### 3.1.3 DNA tests and breed type"
   ]
  },
  {
   "cell_type": "code",
   "execution_count": 79,
   "id": "2eaad798",
   "metadata": {},
   "outputs": [
    {
     "data": {
      "text/plain": [
       "Pure Breed                          9346\n",
       "Mixed Breed/ Other/ I Don't Know    4999\n",
       "Cross Breed                         2976\n",
       "Popular Hybrid                       664\n",
       "Name: Breed_Type, dtype: int64"
      ]
     },
     "execution_count": 79,
     "metadata": {},
     "output_type": "execute_result"
    }
   ],
   "source": [
    "df_dog['Breed_Type'].value_counts()"
   ]
  },
  {
   "cell_type": "code",
   "execution_count": 94,
   "id": "2bf5d06d",
   "metadata": {},
   "outputs": [
    {
     "data": {
      "text/html": [
       "<div>\n",
       "<style scoped>\n",
       "    .dataframe tbody tr th:only-of-type {\n",
       "        vertical-align: middle;\n",
       "    }\n",
       "\n",
       "    .dataframe tbody tr th {\n",
       "        vertical-align: top;\n",
       "    }\n",
       "\n",
       "    .dataframe thead th {\n",
       "        text-align: right;\n",
       "    }\n",
       "</style>\n",
       "<table border=\"1\" class=\"dataframe\">\n",
       "  <thead>\n",
       "    <tr style=\"text-align: right;\">\n",
       "      <th></th>\n",
       "      <th>PercFix</th>\n",
       "      <th>Percdnatested</th>\n",
       "      <th>MedianTotTests</th>\n",
       "      <th>PercPure</th>\n",
       "      <th>PercHybrid</th>\n",
       "      <th>PercCross</th>\n",
       "      <th>PercMix</th>\n",
       "    </tr>\n",
       "  </thead>\n",
       "  <tbody>\n",
       "    <tr>\n",
       "      <th>1</th>\n",
       "      <td>87.98</td>\n",
       "      <td>2.39</td>\n",
       "      <td>9.0</td>\n",
       "      <td>49.57</td>\n",
       "      <td>4.25</td>\n",
       "      <td>18.03</td>\n",
       "      <td>28.15</td>\n",
       "    </tr>\n",
       "    <tr>\n",
       "      <th>2</th>\n",
       "      <td>86.35</td>\n",
       "      <td>6.91</td>\n",
       "      <td>14.0</td>\n",
       "      <td>57.43</td>\n",
       "      <td>3.83</td>\n",
       "      <td>14.24</td>\n",
       "      <td>24.50</td>\n",
       "    </tr>\n",
       "    <tr>\n",
       "      <th>3</th>\n",
       "      <td>82.09</td>\n",
       "      <td>0.91</td>\n",
       "      <td>11.0</td>\n",
       "      <td>52.50</td>\n",
       "      <td>3.49</td>\n",
       "      <td>16.39</td>\n",
       "      <td>27.62</td>\n",
       "    </tr>\n",
       "    <tr>\n",
       "      <th>4</th>\n",
       "      <td>78.29</td>\n",
       "      <td>4.52</td>\n",
       "      <td>4.0</td>\n",
       "      <td>51.70</td>\n",
       "      <td>2.35</td>\n",
       "      <td>15.38</td>\n",
       "      <td>30.56</td>\n",
       "    </tr>\n",
       "    <tr>\n",
       "      <th>5</th>\n",
       "      <td>82.61</td>\n",
       "      <td>0.00</td>\n",
       "      <td>11.0</td>\n",
       "      <td>65.22</td>\n",
       "      <td>2.17</td>\n",
       "      <td>13.04</td>\n",
       "      <td>19.57</td>\n",
       "    </tr>\n",
       "  </tbody>\n",
       "</table>\n",
       "</div>"
      ],
      "text/plain": [
       "   PercFix  Percdnatested  MedianTotTests  PercPure  PercHybrid  PercCross  \\\n",
       "1    87.98           2.39             9.0     49.57        4.25      18.03   \n",
       "2    86.35           6.91            14.0     57.43        3.83      14.24   \n",
       "3    82.09           0.91            11.0     52.50        3.49      16.39   \n",
       "4    78.29           4.52             4.0     51.70        2.35      15.38   \n",
       "5    82.61           0.00            11.0     65.22        2.17      13.04   \n",
       "\n",
       "   PercMix  \n",
       "1    28.15  \n",
       "2    24.50  \n",
       "3    27.62  \n",
       "4    30.56  \n",
       "5    19.57  "
      ]
     },
     "execution_count": 94,
     "metadata": {},
     "output_type": "execute_result"
    }
   ],
   "source": [
    "# count how many pure breed dogs in each membership type\n",
    "pure_breed_counts = membership_grp['Breed_Type'].apply(lambda x: x.str.contains('Pure Breed').sum())\n",
    "hybrid_counts = membership_grp['Breed_Type'].apply(lambda x: x.str.contains('Popular Hybrid').sum())\n",
    "cross_counts = membership_grp['Breed_Type'].apply(lambda x: x.str.contains('Cross Breed').sum())\n",
    "mixed_counts = membership_grp['Breed_Type'].apply(lambda x: x.str.contains('Mixed Breed').sum())\n",
    "\n",
    "perc_pure_breed = (pure_breed_counts/membership_counts*100).round(2)\n",
    "perc_hybrid = (hybrid_counts/membership_counts*100).round(2)\n",
    "perc_cross = (cross_counts/membership_counts*100).round(2)\n",
    "perc_mixed = (mixed_counts/membership_counts*100).round(2)\n",
    "\n",
    "df_memb_dog['PercPure'], df_memb_dog['PercHybrid'], df_memb_dog['PercCross'],df_memb_dog['PercMix'] = [perc_pure_breed, perc_hybrid, perc_cross, perc_mixed]\n",
    "\n",
    "df_memb_dog\n"
   ]
  },
  {
   "cell_type": "markdown",
   "id": "1701e574",
   "metadata": {},
   "source": [
    "#### 3.1.4 Rough observations on DNA tests and breed type of dogs\n",
    "\n",
    "If we exclude the membership type 5 (as the number of samples is too small), users who have annual subscriptions do show the highest percentage of pure breed dogs. It sort of corroborate our hypothesis: \n",
    "\n",
    "<font color='red'><b>Users who own pure breed dogs tend to know more about their dogs' personality and dimensions</b></font>"
   ]
  },
  {
   "cell_type": "code",
   "execution_count": null,
   "id": "9835f329",
   "metadata": {},
   "outputs": [],
   "source": []
  }
 ],
 "metadata": {
  "kernelspec": {
   "display_name": "Python 3 (ipykernel)",
   "language": "python",
   "name": "python3"
  },
  "language_info": {
   "codemirror_mode": {
    "name": "ipython",
    "version": 3
   },
   "file_extension": ".py",
   "mimetype": "text/x-python",
   "name": "python",
   "nbconvert_exporter": "python",
   "pygments_lexer": "ipython3",
   "version": "3.8.2"
  }
 },
 "nbformat": 4,
 "nbformat_minor": 5
}
